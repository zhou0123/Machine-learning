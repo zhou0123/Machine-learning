{
 "cells": [
  {
   "cell_type": "code",
   "execution_count": 1,
   "metadata": {},
   "outputs": [],
   "source": [
    "import struct\n",
    "import os\n",
    "import numpy as np\n",
    "from matplotlib import pyplot as plt\n",
    "class MNIST(object):\n",
    "    '''\n",
    "    MNIST数据集类\n",
    "    '''\n",
    "    def __init__(self,root, image_file, lable_file):\n",
    "        '''\n",
    "        方法说明:\n",
    "            初始化类\n",
    "        参数说明:\n",
    "            root: 文件夹根目录\n",
    "            image_file: mnist图像文件 'train-images.idx3-ubyte' 'test-images.idx3-ubyte'\n",
    "            label_file: mnist标签文件 'train-labels.idx1-ubyte' 'test-labels.idx1-ubyte'\n",
    "        '''\n",
    "        self.img_file = os.path.join(root, image_file)\n",
    "        self.label_file = os.path.join(root, lable_file)\n",
    "        \n",
    "        self.img = self._get_img()\n",
    "        self.label = self._get_label()\n",
    "\n",
    "    #读取图片\n",
    "    def _get_img(self):\n",
    "\n",
    "        with open(self.img_file,'rb') as fi:\n",
    "            ImgFile = fi.read()\n",
    "            head = struct.unpack_from('>IIII', ImgFile, 0)\n",
    "            #定位数据开始位置\n",
    "            offset = struct.calcsize('>IIII')\n",
    "            ImgNum = head[1]\n",
    "            width = head[2]\n",
    "            height = head[3]\n",
    "            #每张图片包含的像素点\n",
    "            pixel = height*width\n",
    "            bits = ImgNum * width * height\n",
    "            bitsString = '>' + str(bits) + 'B'\n",
    "            #读取文件信息\n",
    "            images = struct.unpack_from(bitsString, ImgFile, offset)\n",
    "            #转化为n*726矩阵\n",
    "            images = np.reshape(images,[ImgNum,pixel])\n",
    "        \n",
    "        return images\n",
    "\n",
    "    #读取标签\n",
    "    def _get_label(self):\n",
    "\n",
    "        with open(self.label_file,'rb') as fl:\n",
    "            LableFile = fl.read()\n",
    "            head = struct.unpack_from('>II', LableFile, 0)\n",
    "            labelNum = head[1]\n",
    "            #定位标签开始位置\n",
    "            offset = struct.calcsize('>II')\n",
    "            numString = '>' + str(labelNum) + \"B\"\n",
    "            labels = struct.unpack_from(numString, LableFile, offset)\n",
    "            #转化为1*n矩阵\n",
    "            labels = np.reshape(labels, [labelNum])\n",
    "\n",
    "        return labels\n",
    "\n",
    "    #数据标准化\n",
    "    def normalize(self):\n",
    "        \n",
    "        min = np.min(self.img, axis=1).reshape(-1,1)\n",
    "        max = np.max(self.img, axis=1).reshape(-1,1)\n",
    "        self.img = (self.img - min)/(max - min)\n",
    "\n",
    "    #数据归一化\n",
    "    def standardlize(self):\n",
    "        \n",
    "        mean = np.mean(self.img, axis=1).reshape(-1,1)\n",
    "        var = np.var(self.img, axis=1).reshape(-1,1)\n",
    "        self.img = (self.img-mean)/np.sqrt(var)\n",
    "        \n",
    "    def out(self):\n",
    "        self.standardlize()\n",
    "        self.normalize()\n",
    "        \n",
    "        return self.img"
   ]
  },
  {
   "cell_type": "markdown",
   "metadata": {},
   "source": [
    "# 读数据"
   ]
  },
  {
   "cell_type": "code",
   "execution_count": 2,
   "metadata": {},
   "outputs": [],
   "source": [
    "train_image=MNIST('./相关资料/','train-images.idx3-ubyte','train-labels.idx1-ubyte').out()"
   ]
  },
  {
   "cell_type": "code",
   "execution_count": 3,
   "metadata": {},
   "outputs": [],
   "source": [
    "train_labels=MNIST('./相关资料/','train-images.idx3-ubyte','train-labels.idx1-ubyte')._get_label()"
   ]
  },
  {
   "cell_type": "code",
   "execution_count": 4,
   "metadata": {},
   "outputs": [],
   "source": [
    "test_image=MNIST('./相关资料/','test-images.idx3-ubyte','test-labels.idx1-ubyte').out()"
   ]
  },
  {
   "cell_type": "code",
   "execution_count": 5,
   "metadata": {},
   "outputs": [],
   "source": [
    "test_labels=MNIST('./相关资料/','test-images.idx3-ubyte','test-labels.idx1-ubyte')._get_label()"
   ]
  },
  {
   "cell_type": "code",
   "execution_count": null,
   "metadata": {},
   "outputs": [],
   "source": []
  },
  {
   "cell_type": "markdown",
   "metadata": {},
   "source": [
    "# 将标签转化成向量"
   ]
  },
  {
   "cell_type": "code",
   "execution_count": 6,
   "metadata": {},
   "outputs": [],
   "source": [
    "def labels_to_vec(labels):\n",
    "    list_labels=[]\n",
    "    for i in range(len(labels)):\n",
    "        vec=[0]*10\n",
    "        vec[labels[i]]=1\n",
    "        list_labels.append(vec)\n",
    "    return list_labels\n",
    "    "
   ]
  },
  {
   "cell_type": "code",
   "execution_count": 7,
   "metadata": {},
   "outputs": [],
   "source": [
    "list_labels=labels_to_vec(train_labels)"
   ]
  },
  {
   "cell_type": "code",
   "execution_count": 8,
   "metadata": {},
   "outputs": [],
   "source": [
    "train_labels=np.array(list_labels)"
   ]
  },
  {
   "cell_type": "markdown",
   "metadata": {},
   "source": [
    "# 改用cupy加速运算"
   ]
  },
  {
   "cell_type": "code",
   "execution_count": 9,
   "metadata": {},
   "outputs": [],
   "source": [
    "import cupy as cp"
   ]
  },
  {
   "cell_type": "code",
   "execution_count": 10,
   "metadata": {},
   "outputs": [],
   "source": [
    "train_image=cp.asarray(train_image)\n",
    "train_labels=cp.asarray(train_labels)\n",
    "test_image=cp.asarray(test_image)"
   ]
  },
  {
   "cell_type": "markdown",
   "metadata": {},
   "source": [
    "# 神经网络实现，内含测试函数，通过迭代次数观察正确率的变化"
   ]
  },
  {
   "cell_type": "code",
   "execution_count": 11,
   "metadata": {},
   "outputs": [],
   "source": [
    "class neural_network(object):\n",
    "    \n",
    "    def __init__(self,datasets,labels,maxiter,test_data,test_labels):\n",
    "        '''\n",
    "        初始化\n",
    "        '''\n",
    "        self.datasets=datasets\n",
    "        self.labels=labels\n",
    "        self.maxiter=maxiter\n",
    "        \n",
    "        self.test_data=test_data\n",
    "        self.test_labels=test_labels\n",
    "        \n",
    "        \n",
    "        self.w1=cp.random.randn(512,784)\n",
    "        self.w2=cp.random.randn(256,512)\n",
    "        self.w3=cp.random.randn(10,256)\n",
    "        \n",
    "        self.learn_rate=0.001\n",
    "        \n",
    "    def tanh(self,z):\n",
    "        \n",
    "        return (cp.exp(z)-cp.exp(-z))/(cp.exp(z)+cp.exp(-z))\n",
    "    \n",
    "    def de_tanh(self,z):\n",
    "        return  1 - self.tanh(z) * self.tanh(z)\n",
    "    \n",
    "    def softmax(self,z):\n",
    "        \n",
    "        return cp.exp(z)/cp.sum(cp.exp(z))\n",
    "    \n",
    "    def forward_net(self,dataset):\n",
    "        '''\n",
    "        正向传播\n",
    "        '''\n",
    "        \n",
    "        x=dataset.T\n",
    "        z1=cp.dot(self.w1,x)\n",
    "        a1=self.tanh(z1)\n",
    "        z2=cp.dot(self.w2,a1)\n",
    "        a2=self.tanh(z2)\n",
    "        z3=cp.dot(self.w3,a2)\n",
    "        y_pred=self.softmax(z3)\n",
    "       \n",
    "        \n",
    "        \n",
    "        return z1,a1,z2,a2,z3,y_pred\n",
    "    def backpropagation(self,x,z1,a1,z2,a2,z3,y_pred,y):\n",
    "        '''\n",
    "        采用交叉熵损失函数\n",
    "        反向传播\n",
    "        '''\n",
    "      \n",
    "        \n",
    "        dl_dz3=y_pred-y\n",
    "        dl_dw3=cp.dot(dl_dz3,a2.T)\n",
    "\n",
    "        dl_dz2=cp.dot(self.w3.T,dl_dz3)*self.de_tanh(z2)\n",
    "        dl_dw2=cp.dot(dl_dz2,a1.T)\n",
    "\n",
    "        dl_dz1=cp.dot(self.w2.T,dl_dz2)*self.de_tanh(z1)\n",
    "        dl_dw1=cp.dot(dl_dz1,x.T)\n",
    "        \n",
    "        \n",
    "        self.w1=self.w1-self.learn_rate*dl_dw1\n",
    "        self.w2=self.w2-self.learn_rate*dl_dw2\n",
    "        self.w3=self.w3-self.learn_rate*dl_dw3\n",
    "    def test_Correct_rate(self):\n",
    "        '''\n",
    "        正确率测试\n",
    "        '''\n",
    "        count=0\n",
    "        for i in range(len(self.test_data)):\n",
    "            x=self.test_data[i].reshape(1,-1)\n",
    "            x=x.T\n",
    "            z1=cp.dot(self.w1,x)#(1000,1)\n",
    "            a1=self.tanh(z1)\n",
    "            z2=cp.dot(self.w2,a1)#(300,1)\n",
    "            a2=self.tanh(z2)\n",
    "            z3=cp.dot(self.w3,a2)#(1,1)\n",
    "            y_pred=self.softmax(z3)\n",
    "\n",
    "            y_pred=y_pred.argmax()\n",
    "            if y_pred==self.test_labels[i]:\n",
    "                count+=1\n",
    "        rate=count/len(self.test_data)\n",
    "        \n",
    "        return rate\n",
    "    def train(self):\n",
    "        '''\n",
    "        训练函数\n",
    "        '''\n",
    "        iters=0\n",
    "        list_rate=[0]\n",
    "        while iters<=self.maxiter:\n",
    "            iters+=1\n",
    "            for i in range(60000):\n",
    "                dataset=self.datasets[i].reshape(1,-1)\n",
    "\n",
    "                z1,a1,z2,a2,z3,y_pred=self.forward_net(dataset)\n",
    "\n",
    "                self.backpropagation(dataset.T,z1,a1,z2,a2,z3,y_pred,self.labels[i].reshape(-1,1))\n",
    "        \n",
    "            rate=self.test_Correct_rate()\n",
    "            list_rate.append(rate)\n",
    "            \n",
    "            print(\"\\r最新正确率%.2f %%\" % ( list_rate[-1]*100 ), end=\"\")\n",
    "        plt.plot(list(np.array(range(iters+1))),list_rate,color = 'r')\n"
   ]
  },
  {
   "cell_type": "markdown",
   "metadata": {},
   "source": [
    "# 正确率和正确率变化曲线"
   ]
  },
  {
   "cell_type": "code",
   "execution_count": 12,
   "metadata": {},
   "outputs": [
    {
     "name": "stdout",
     "output_type": "stream",
     "text": [
      "最新正确率89.48 %"
     ]
    },
    {
     "data": {
      "image/png": "[encoded data removed]",
      "text/plain": [
       "<Figure size 432x288 with 1 Axes>"
      ]
     },
     "metadata": {
      "needs_background": "light"
     },
     "output_type": "display_data"
    }
   ],
   "source": [
    "neural_network(train_image,train_labels,20,test_image,test_labels).train()"
   ]
  },
  {
   "cell_type": "code",
   "execution_count": null,
   "metadata": {},
   "outputs": [],
   "source": []
  },
  {
   "cell_type": "code",
   "execution_count": null,
   "metadata": {},
   "outputs": [],
   "source": []
  },
  {
   "cell_type": "code",
   "execution_count": null,
   "metadata": {},
   "outputs": [],
   "source": []
  },
  {
   "cell_type": "code",
   "execution_count": null,
   "metadata": {},
   "outputs": [],
   "source": []
  }
 ],
 "metadata": {
  "kernelspec": {
   "display_name": "Python 3",
   "language": "python",
   "name": "python3"
  },
  "language_info": {
   "codemirror_mode": {
    "name": "ipython",
    "version": 3
   },
   "file_extension": ".py",
   "mimetype": "text/x-python",
   "name": "python",
   "nbconvert_exporter": "python",
   "pygments_lexer": "ipython3",
   "version": "3.8.3"
  }
 },
 "nbformat": 4,
 "nbformat_minor": 4
}
