{
 "cells": [
  {
   "cell_type": "code",
   "execution_count": 1,
   "metadata": {},
   "outputs": [],
   "source": [
    "import pandas as pd\n",
    "import numpy as np\n",
    "file=pd.read_csv('C:\\\\Users\\\\zhou\\\\Desktop\\\\train.csv')\n",
    "file1=pd.read_csv('C:\\\\Users\\\\zhou\\\\Desktop\\\\test.csv')\n",
    "file2=pd.read_csv('C:\\\\Users\\\\zhou\\\\Desktop\\\\gender_submission.csv')"
   ]
  },
  {
   "cell_type": "code",
   "execution_count": 2,
   "metadata": {},
   "outputs": [],
   "source": [
    "data_train=file.loc[0:,['Pclass','Sex','Age','SibSp','Parch','Fare']]\n",
    "data_train_label=file.loc[0:,'Survived']\n",
    "data_test=file1.loc[0:,['Pclass','Sex','Age','SibSp','Parch','Fare']]\n",
    "data_test_label=file2.iloc[0:,0:]"
   ]
  },
  {
   "cell_type": "code",
   "execution_count": 3,
   "metadata": {},
   "outputs": [],
   "source": [
    "count=0\n",
    "for i in data_train.loc[0:,'Sex']:\n",
    "    count+=1\n",
    "    if i=='female':\n",
    "        data_train.loc[0:,'Sex'][count-1]=0\n",
    "    if i=='male':\n",
    "        data_train.loc[0:,'Sex'][count-1]=1\n",
    "count=0\n",
    "for i in data_test.loc[0:,'Sex']:\n",
    "    count+=1\n",
    "    if i=='female':\n",
    "        data_test.loc[0:,'Sex'][count-1]=0\n",
    "    if i=='male':\n",
    "        data_test.loc[0:,'Sex'][count-1]=1"
   ]
  },
  {
   "cell_type": "code",
   "execution_count": 4,
   "metadata": {},
   "outputs": [],
   "source": [
    "data_others=np.array(data_train)[0:,[0,1,3,4,5]]\n",
    "data_age=np.array(data_train)[0:,[2]]\n",
    "data_test_others=np.array(data_test)[0:,[0,1,3,4,5]]\n",
    "data_test_age=np.array(data_test)[0:,[2]]"
   ]
  },
  {
   "cell_type": "code",
   "execution_count": 5,
   "metadata": {},
   "outputs": [],
   "source": [
    "nan_index_list=[]\n",
    "for i in range(891):\n",
    "    if pd.isnull(data_age[i][0]):\n",
    "        nan_index_list.append(i)  \n",
    "nan_test_index_list=[]\n",
    "for i in range(418):\n",
    "    if pd.isnull(data_test_age[i][0]):\n",
    "        nan_test_index_list.append(i)  "
   ]
  },
  {
   "cell_type": "code",
   "execution_count": 6,
   "metadata": {},
   "outputs": [
    {
     "name": "stderr",
     "output_type": "stream",
     "text": [
      "C:\\Users\\zhou\\anaconda3\\lib\\site-packages\\numpy\\core\\_methods.py:34: RuntimeWarning: invalid value encountered in reduce\n",
      "  return umr_minimum(a, axis, None, out, keepdims, initial, where)\n",
      "C:\\Users\\zhou\\anaconda3\\lib\\site-packages\\numpy\\core\\_methods.py:30: RuntimeWarning: invalid value encountered in reduce\n",
      "  return umr_maximum(a, axis, None, out, keepdims, initial, where)\n"
     ]
    }
   ],
   "source": [
    "#归一化处理\n",
    "data_others=(data_others-data_others.min(axis=0))/(data_others.max(axis=0)-data_others.min(axis=0))\n",
    "data_test_others=(data_test_others-data_test_others.min(axis=0))/(data_test_others.max(axis=0)-data_test_others.min(axis=0))"
   ]
  },
  {
   "cell_type": "code",
   "execution_count": null,
   "metadata": {},
   "outputs": [],
   "source": []
  },
  {
   "cell_type": "code",
   "execution_count": 7,
   "metadata": {},
   "outputs": [],
   "source": [
    "#利用knn算法补充age的缺失值\n",
    "def knn(nums,data_others,k,data_age):\n",
    "    data_size=data_others.shape[0]\n",
    "    diffmat=np.tile(data_others[nums],(data_size,1))-data_others\n",
    "    diffmat_sqr=diffmat**2\n",
    "    sqrdiff=diffmat_sqr.sum(axis=1)\n",
    "    distance_set=sqrdiff**0.5\n",
    "    distance_sort=np.argsort(distance_set)\n",
    "    list_near_average=[]\n",
    "    for i in range(k):\n",
    "        list_near_average.append(distance_sort[i])\n",
    "    average=[]\n",
    "    for i in list_near_average:\n",
    "        average.append(data_age[i][0])\n",
    "    average_new=[]\n",
    "    for i in average:\n",
    "        if pd.notnull(i):\n",
    "            average_new.append(i)\n",
    "    return sum(average_new)/len(average_new)\n",
    "for nums in nan_index_list:\n",
    "    data_train.loc[0:,'Age'][nums]=knn(nums,data_others,10,data_age)\n",
    "for nums1 in nan_test_index_list:\n",
    "    data_test.loc[0:,'Age'][nums1]=knn(nums1,data_test_others,10,data_test_age)"
   ]
  },
  {
   "cell_type": "code",
   "execution_count": 8,
   "metadata": {},
   "outputs": [],
   "source": [
    "data_train=np.array(data_train)\n",
    "data_train_label=np.array(data_train_label)"
   ]
  },
  {
   "cell_type": "code",
   "execution_count": 9,
   "metadata": {},
   "outputs": [],
   "source": [
    "data_test=np.array(data_test)\n",
    "data_test_label=np.array(data_test_label)\n",
    "data_test_label=data_test_label[0:,1]"
   ]
  },
  {
   "cell_type": "code",
   "execution_count": 10,
   "metadata": {},
   "outputs": [
    {
     "data": {
      "text/plain": [
       "(418, 6)"
      ]
     },
     "execution_count": 10,
     "metadata": {},
     "output_type": "execute_result"
    }
   ],
   "source": [
    "data_test.shape"
   ]
  },
  {
   "cell_type": "code",
   "execution_count": 11,
   "metadata": {},
   "outputs": [],
   "source": [
    "list_one=[]\n",
    "for i in range(891):\n",
    "    list_one.append(1)\n",
    "list_one1=[]\n",
    "for i in range(418):\n",
    "    list_one1.append(1)"
   ]
  },
  {
   "cell_type": "code",
   "execution_count": 12,
   "metadata": {},
   "outputs": [],
   "source": [
    "one=np.array(list_one)\n",
    "one=one.reshape(891,1)"
   ]
  },
  {
   "cell_type": "code",
   "execution_count": 13,
   "metadata": {},
   "outputs": [],
   "source": [
    "one1=np.array(list_one1).reshape(418,1)"
   ]
  },
  {
   "cell_type": "code",
   "execution_count": 14,
   "metadata": {},
   "outputs": [],
   "source": [
    "data_train=np.hstack((one,data_train))\n",
    "data_test=np.hstack((one1,data_test))"
   ]
  },
  {
   "cell_type": "code",
   "execution_count": null,
   "metadata": {},
   "outputs": [],
   "source": []
  },
  {
   "cell_type": "code",
   "execution_count": 15,
   "metadata": {},
   "outputs": [],
   "source": [
    "#构建神经网络"
   ]
  },
  {
   "cell_type": "code",
   "execution_count": 16,
   "metadata": {},
   "outputs": [],
   "source": [
    "import torch\n",
    "from torch.autograd import Variable\n",
    "data_train=data_train.astype(float) \n",
    "data_train_label=data_train_label.astype(float)\n",
    "data_test=data_test.astype(float)\n",
    "data_test_label=data_test_label.astype(float)\n",
    "data_train=torch.from_numpy(data_train) \n",
    "data_train_label=torch.from_numpy(data_train_label) \n",
    "data_test=torch.from_numpy(data_test)\n",
    "data_test_label=torch.from_numpy(data_test_label)"
   ]
  },
  {
   "cell_type": "code",
   "execution_count": null,
   "metadata": {},
   "outputs": [],
   "source": []
  },
  {
   "cell_type": "code",
   "execution_count": 17,
   "metadata": {},
   "outputs": [],
   "source": [
    "def sigmoid(z):\n",
    "    return (1)/(1+torch.exp(-z))"
   ]
  },
  {
   "cell_type": "code",
   "execution_count": 18,
   "metadata": {},
   "outputs": [],
   "source": [
    "def neural_network(x,y):\n",
    "    x=Variable(data_train,requires_grad=False)\n",
    "    x=x.T\n",
    "    y=Variable(data_train_label,requires_grad=False)\n",
    "    w1=Variable(torch.randn(10,7,dtype=torch.float64),requires_grad=True)\n",
    "    w2=Variable(torch.randn(10,10,dtype=torch.float64),requires_grad=True)\n",
    "    w3=Variable(torch.randn(1,10,dtype=torch.float64),requires_grad=True)\n",
    "    max_iter=10000\n",
    "    learning_rate=0.0001\n",
    "    for iter_nums in range(max_iter):\n",
    "        z1=w1.mm(x)\n",
    "        a1=sigmoid(z1)\n",
    "        z2=w2.mm(a1)\n",
    "        a2=sigmoid(z2)\n",
    "        z3=w3.mm(a2)\n",
    "        y_pred=sigmoid(z3)\n",
    "        loss=((y-y_pred)**2).sum()\n",
    "        loss.backward()\n",
    "        w1.data-=learning_rate*w1.grad.data\n",
    "        w2.data-=learning_rate*w2.grad.data\n",
    "        w3.data-=learning_rate*w3.grad.data\n",
    "        w1.grad.data.zero_()\n",
    "        w2.grad.data.zero_()\n",
    "        w3.grad.data.zero_()\n",
    "    return w1,w2,w3"
   ]
  },
  {
   "cell_type": "code",
   "execution_count": 19,
   "metadata": {},
   "outputs": [],
   "source": [
    "w1,w2,w3=neural_network(data_train,data_train_label)"
   ]
  },
  {
   "cell_type": "code",
   "execution_count": 20,
   "metadata": {},
   "outputs": [
    {
     "data": {
      "text/plain": [
       "tensor([[ 2.8376, -0.1760, -0.6511, -0.6527,  0.7853, -0.0412, -0.7956],\n",
       "        [-0.4500, -0.3247, -1.9401,  0.0075,  2.1725,  1.4217, -0.3903],\n",
       "        [-0.5554,  0.7290, -1.2222, -0.0773,  0.0319, -0.7620, -0.9601],\n",
       "        [ 1.9246,  1.2021,  0.9933,  2.3252, -0.6025,  1.6987,  2.1495],\n",
       "        [ 1.5615,  0.2944,  1.7614, -1.0614,  1.4405, -1.1073, -0.5487],\n",
       "        [-1.0669,  0.5164,  0.5425, -0.3051, -1.0405, -0.4197, -0.5199],\n",
       "        [ 0.3973,  1.3750, -0.2641,  1.0951, -0.7589,  0.2172,  1.2493],\n",
       "        [ 1.4318,  0.9906,  0.7802, -0.9137,  0.3620, -1.1183, -0.6668],\n",
       "        [ 2.1452,  0.7693,  1.0279, -0.5467, -1.5577,  0.8724, -0.0336],\n",
       "        [ 1.0930, -0.3437, -4.7325, -0.0190, -0.9913, -0.5850,  0.0487]],\n",
       "       dtype=torch.float64, requires_grad=True)"
      ]
     },
     "execution_count": 20,
     "metadata": {},
     "output_type": "execute_result"
    }
   ],
   "source": [
    "w1"
   ]
  },
  {
   "cell_type": "code",
   "execution_count": 21,
   "metadata": {},
   "outputs": [
    {
     "data": {
      "text/plain": [
       "tensor([[-1.5967e-01,  7.9891e-01, -1.5646e-02,  1.0518e+00, -1.9057e+00,\n",
       "          1.3303e+00,  2.0875e+00,  1.1068e+00,  4.8740e-01,  1.4069e+00],\n",
       "        [ 1.5097e-01, -3.6754e-02, -5.0107e-01, -1.3032e+00,  6.1943e-01,\n",
       "         -2.1910e+00,  4.8530e-01,  1.5482e-01, -2.7051e+00, -7.4515e-01],\n",
       "        [-8.5869e-01,  2.3207e+00, -2.5316e-01,  9.1185e-02, -2.0845e+00,\n",
       "         -2.0226e-01, -2.1971e+00,  1.0648e+00, -5.3478e-01, -9.6961e-01],\n",
       "        [ 3.1358e-01,  6.6428e-01,  1.1868e+00, -5.0230e-01, -7.1651e-01,\n",
       "          3.6501e-01, -1.0880e-01, -5.0977e-01,  7.7206e-01,  2.0057e+00],\n",
       "        [-1.0877e+00,  2.4058e-01,  1.1182e-01,  9.9191e-01, -2.8706e-02,\n",
       "         -8.3377e-01, -1.9792e-01, -4.5339e-01, -4.4635e-01, -1.7581e-01],\n",
       "        [-1.5049e+00, -2.0252e+00,  8.2204e-01, -1.9359e-02, -1.2105e+00,\n",
       "         -1.1866e+00, -4.2599e-01, -1.5567e+00, -1.4655e-01,  5.2497e-01],\n",
       "        [-2.4975e+00,  5.8032e-01,  7.2832e-01,  6.8383e-01, -9.7769e-01,\n",
       "         -1.2850e-01,  1.0574e+00, -1.6014e+00, -5.9793e-01,  1.2861e+00],\n",
       "        [ 1.0903e+00,  1.1582e+00,  4.8335e-01,  5.9408e-01,  1.4161e+00,\n",
       "         -6.4644e-01,  5.5275e-01, -1.3451e+00,  6.5588e-01,  9.6448e-01],\n",
       "        [ 8.1357e-01, -1.5281e+00,  4.1003e-01, -1.5137e-02, -2.8204e-01,\n",
       "          6.1079e-01,  8.9313e-01,  5.5015e-01, -2.6606e+00, -4.3805e+00],\n",
       "        [-1.7744e+00,  9.0567e-01, -7.0146e-02, -1.2088e+00,  1.8117e-01,\n",
       "         -2.1378e+00, -4.2076e-03,  1.3792e-01,  2.3358e+00, -1.2561e+00]],\n",
       "       dtype=torch.float64, requires_grad=True)"
      ]
     },
     "execution_count": 21,
     "metadata": {},
     "output_type": "execute_result"
    }
   ],
   "source": [
    "w2"
   ]
  },
  {
   "cell_type": "code",
   "execution_count": 22,
   "metadata": {},
   "outputs": [
    {
     "data": {
      "text/plain": [
       "tensor([[-1.0220, -1.7732, -0.4193,  2.4045,  0.6127,  0.1905,  0.0878,  0.4824,\n",
       "         -3.2127,  0.8525]], dtype=torch.float64, requires_grad=True)"
      ]
     },
     "execution_count": 22,
     "metadata": {},
     "output_type": "execute_result"
    }
   ],
   "source": [
    "w3"
   ]
  },
  {
   "cell_type": "code",
   "execution_count": 23,
   "metadata": {},
   "outputs": [
    {
     "data": {
      "text/plain": [
       "torch.Size([418, 7])"
      ]
     },
     "execution_count": 23,
     "metadata": {},
     "output_type": "execute_result"
    }
   ],
   "source": [
    "data_test.shape"
   ]
  },
  {
   "cell_type": "code",
   "execution_count": 24,
   "metadata": {},
   "outputs": [],
   "source": [
    "def neural_network_pred(w1,w2,w3,data_test):\n",
    "    data_test=data_test.T\n",
    "    z1=w1.mm(data_test)\n",
    "    a1=sigmoid(z1)\n",
    "    z2=w2.mm(a1)\n",
    "    a2=sigmoid(z2)\n",
    "    z3=w3.mm(a2)\n",
    "    y_pred=sigmoid(z3)\n",
    "    return y_pred\n",
    "    \n",
    "    "
   ]
  },
  {
   "cell_type": "code",
   "execution_count": 25,
   "metadata": {},
   "outputs": [],
   "source": [
    "pre=neural_network_pred(w1,w2,w3,data_test)"
   ]
  },
  {
   "cell_type": "code",
   "execution_count": 26,
   "metadata": {},
   "outputs": [
    {
     "data": {
      "text/plain": [
       "tensor([[0.1387, 0.3250, 0.1383, 0.1393, 0.3191, 0.1779, 0.5737, 0.1382, 0.6230,\n",
       "         0.1363, 0.1392, 0.1487, 0.8214, 0.1374, 0.7964, 0.6615, 0.1411, 0.1405,\n",
       "         0.3831, 0.4995, 0.1573, 0.7117, 0.7826, 0.2121, 0.8283, 0.1364, 0.8160,\n",
       "         0.1399, 0.1541, 0.1362, 0.1381, 0.1375, 0.2415, 0.3509, 0.1690, 0.1432,\n",
       "         0.6099, 0.6217, 0.1397, 0.1800, 0.1373, 0.1504, 0.1383, 0.6882, 0.7804,\n",
       "         0.1395, 0.1519, 0.1417, 0.8214, 0.3553, 0.1782, 0.1431, 0.2821, 0.8283,\n",
       "         0.1425, 0.1375, 0.1387, 0.1395, 0.1371, 0.8283, 0.1475, 0.1418, 0.1442,\n",
       "         0.6091, 0.8274, 0.7476, 0.6284, 0.1662, 0.1561, 0.8283, 0.6009, 0.1405,\n",
       "         0.5810, 0.1563, 0.8283, 0.8277, 0.1391, 0.3501, 0.1419, 0.6009, 0.6669,\n",
       "         0.8263, 0.1479, 0.1392, 0.1418, 0.1370, 0.5893, 0.6298, 0.5749, 0.7537,\n",
       "         0.4375, 0.1396, 0.7071, 0.1391, 0.1559, 0.1395, 0.8052, 0.1391, 0.6188,\n",
       "         0.1388, 0.7887, 0.1400, 0.1417, 0.1394, 0.3796, 0.1430, 0.1405, 0.1417,\n",
       "         0.1403, 0.1449, 0.1411, 0.5918, 0.7873, 0.6209, 0.8283, 0.1382, 0.1396,\n",
       "         0.8705, 0.3540, 0.6277, 0.7567, 0.1394, 0.7984, 0.1392, 0.1417, 0.5948,\n",
       "         0.1401, 0.2869, 0.1404, 0.1396, 0.1389, 0.1486, 0.2663, 0.1414, 0.1382,\n",
       "         0.1396, 0.1393, 0.1425, 0.6078, 0.1351, 0.1448, 0.8282, 0.8269, 0.1487,\n",
       "         0.1503, 0.1396, 0.1944, 0.1401, 0.1504, 0.1375, 0.8239, 0.1392,    nan,\n",
       "         0.3311, 0.1384, 0.1396, 0.8283, 0.6060, 0.1503, 0.3793, 0.5973, 0.5847,\n",
       "         0.7025, 0.1397, 0.1405, 0.3701, 0.1817, 0.1360, 0.7721, 0.6203, 0.1392,\n",
       "         0.1392, 0.1373, 0.1398, 0.1354, 0.7421, 0.7955, 0.1536, 0.5691, 0.8107,\n",
       "         0.1419, 0.1945, 0.8013, 0.1417, 0.8283, 0.1415, 0.6843, 0.1574, 0.1361,\n",
       "         0.1407, 0.1393, 0.1504, 0.1983, 0.1387, 0.6751, 0.1388, 0.8014, 0.6275,\n",
       "         0.1422, 0.6105, 0.6790, 0.7904, 0.8273, 0.6518, 0.1418, 0.1502, 0.5522,\n",
       "         0.1420, 0.7810, 0.1395, 0.1424, 0.1397, 0.3406, 0.4873, 0.4340, 0.1697,\n",
       "         0.5978, 0.7761, 0.8283, 0.1391, 0.4880, 0.1406, 0.6936, 0.1405, 0.7558,\n",
       "         0.4114, 0.1398, 0.5749, 0.1393, 0.1411, 0.2804, 0.7889, 0.1414, 0.1394,\n",
       "         0.1925, 0.1412, 0.1773, 0.1412, 0.4137, 0.8249, 0.7539, 0.5634, 0.6282,\n",
       "         0.1391, 0.1608, 0.1551, 0.7503, 0.1378, 0.6277, 0.4280, 0.8781, 0.1412,\n",
       "         0.7627, 0.1398, 0.1390, 0.1392, 0.1417, 0.1392, 0.7170, 0.1405, 0.1369,\n",
       "         0.1405, 0.5548, 0.8677, 0.1418, 0.1392, 0.1557, 0.1392, 0.6099, 0.1474,\n",
       "         0.3155, 0.1417, 0.8278, 0.4301, 0.1397, 0.6602, 0.1414, 0.1388, 0.1386,\n",
       "         0.1424, 0.6134, 0.7830, 0.5749, 0.5157, 0.8674, 0.1386, 0.1391, 0.2763,\n",
       "         0.1398, 0.1391, 0.1658, 0.5674, 0.1398, 0.1749, 0.1387, 0.1394, 0.8915,\n",
       "         0.1362, 0.1870, 0.1391, 0.1389, 0.1423, 0.1393, 0.1397, 0.5749, 0.4135,\n",
       "         0.7142, 0.7815, 0.2060, 0.3390, 0.1442, 0.1401, 0.1392, 0.5429, 0.8280,\n",
       "         0.6326, 0.7555, 0.1437, 0.1393, 0.1376, 0.1394, 0.1395, 0.1425, 0.1533,\n",
       "         0.8283, 0.1398, 0.4807, 0.3546, 0.1398, 0.1435, 0.6242, 0.1541, 0.1397,\n",
       "         0.3409, 0.1393, 0.1539, 0.1416, 0.1438, 0.1543, 0.1398, 0.1446, 0.1389,\n",
       "         0.1362, 0.8283, 0.1372, 0.6385, 0.1425, 0.5330, 0.1430, 0.7343, 0.8103,\n",
       "         0.1418, 0.3363, 0.1419, 0.8631, 0.1477, 0.6321, 0.1394, 0.1417, 0.4176,\n",
       "         0.1348, 0.6368, 0.7343, 0.1393, 0.8007, 0.1534, 0.1370, 0.7860, 0.8064,\n",
       "         0.1423, 0.1387, 0.8281, 0.1554, 0.1402, 0.8047, 0.8283, 0.3601, 0.1430,\n",
       "         0.1744, 0.1646, 0.1417, 0.1394, 0.6711, 0.4774, 0.1415, 0.7452, 0.1396,\n",
       "         0.1391, 0.1405, 0.1842, 0.6280, 0.7585, 0.3779, 0.1395, 0.1388, 0.8093,\n",
       "         0.1396, 0.8043, 0.1401, 0.1389, 0.8283, 0.1381, 0.8144, 0.2098, 0.1407,\n",
       "         0.1443, 0.1389, 0.8240, 0.5972, 0.8494, 0.5749, 0.8221, 0.5839, 0.1391,\n",
       "         0.8274, 0.1385, 0.1391, 0.1371]], dtype=torch.float64,\n",
       "       grad_fn=<MulBackward0>)"
      ]
     },
     "execution_count": 26,
     "metadata": {},
     "output_type": "execute_result"
    }
   ],
   "source": [
    "pre"
   ]
  },
  {
   "cell_type": "code",
   "execution_count": 27,
   "metadata": {},
   "outputs": [],
   "source": [
    "pre=pre.detach().numpy()"
   ]
  },
  {
   "cell_type": "code",
   "execution_count": 28,
   "metadata": {},
   "outputs": [
    {
     "data": {
      "text/plain": [
       "array([0.13870066, 0.32504114, 0.13832915, 0.13932653, 0.31906636,\n",
       "       0.17793414, 0.57370944, 0.13819675, 0.623033  , 0.13625661,\n",
       "       0.13919901, 0.14872602, 0.821393  , 0.13740236, 0.79637946,\n",
       "       0.66149843, 0.1410542 , 0.14051966, 0.38308555, 0.49948436,\n",
       "       0.15731748, 0.71174667, 0.78262241, 0.21214912, 0.82830309,\n",
       "       0.13641655, 0.81604834, 0.139926  , 0.15407567, 0.13624193,\n",
       "       0.13813151, 0.13745019, 0.24149463, 0.35086812, 0.16896285,\n",
       "       0.14319985, 0.60989961, 0.62169719, 0.13965902, 0.18001392,\n",
       "       0.13734342, 0.15037167, 0.13830428, 0.6882409 , 0.78039262,\n",
       "       0.13948204, 0.15190578, 0.14171504, 0.82137039, 0.35533312,\n",
       "       0.1781944 , 0.14305361, 0.28213727, 0.82828644, 0.14252247,\n",
       "       0.13753915, 0.1386698 , 0.13946624, 0.13706769, 0.82831248,\n",
       "       0.14745556, 0.14176905, 0.14424783, 0.60909184, 0.82744452,\n",
       "       0.74756232, 0.6283783 , 0.16621009, 0.15607526, 0.82829134,\n",
       "       0.60086484, 0.14054065, 0.58097587, 0.15625056, 0.82830709,\n",
       "       0.8276733 , 0.13914208, 0.35008544, 0.14187855, 0.60086484,\n",
       "       0.66689887, 0.82629237, 0.14793185, 0.13919901, 0.14179209,\n",
       "       0.13701323, 0.58925049, 0.62981146, 0.57486868, 0.75372336,\n",
       "       0.43751774, 0.13956009, 0.70712092, 0.13914208, 0.15587977,\n",
       "       0.13947394, 0.80521237, 0.13909457, 0.61881229, 0.13880886,\n",
       "       0.78871625, 0.13997136, 0.14171504, 0.13935562, 0.37963174,\n",
       "       0.1430397 , 0.14053649, 0.14171504, 0.14026363, 0.14490872,\n",
       "       0.14110458, 0.59175789, 0.78734004, 0.62093791, 0.82829657,\n",
       "       0.13818761, 0.13958941, 0.87048089, 0.35403754, 0.62767929,\n",
       "       0.75674089, 0.13939153, 0.79838458, 0.13915451, 0.14171504,\n",
       "       0.59477459, 0.14010291, 0.28691183, 0.14043614, 0.13963864,\n",
       "       0.13887846, 0.14856227, 0.26633084, 0.14138754, 0.13819245,\n",
       "       0.1396247 , 0.13928743, 0.14245823, 0.60780574, 0.13505507,\n",
       "       0.14479807, 0.82820793, 0.8268694 , 0.14871025, 0.15028448,\n",
       "       0.13956657, 0.19440294, 0.14012002, 0.15037167, 0.13752654,\n",
       "       0.8239246 , 0.13919901,        nan, 0.3311451 , 0.13838877,\n",
       "       0.13960856, 0.8283098 , 0.60602924, 0.15028448, 0.37928342,\n",
       "       0.59731793, 0.58474001, 0.70253654, 0.13968965, 0.14054359,\n",
       "       0.37006078, 0.18170541, 0.136     , 0.7720987 , 0.62030275,\n",
       "       0.1391598 , 0.13924052, 0.13730936, 0.13982728, 0.13542163,\n",
       "       0.74205071, 0.79548653, 0.15358792, 0.56914993, 0.81066525,\n",
       "       0.14187855, 0.19450528, 0.80129318, 0.14171504, 0.82830874,\n",
       "       0.14152415, 0.68431118, 0.15737815, 0.13606858, 0.14065317,\n",
       "       0.13932117, 0.15036368, 0.19831553, 0.13865163, 0.67513465,\n",
       "       0.13880129, 0.80142742, 0.62750885, 0.14217985, 0.61046598,\n",
       "       0.67897859, 0.79038344, 0.82727087, 0.65179455, 0.14183474,\n",
       "       0.15016291, 0.55217441, 0.14199542, 0.78095018, 0.13948011,\n",
       "       0.14241759, 0.13968934, 0.34055914, 0.48733526, 0.43395276,\n",
       "       0.16973001, 0.59781194, 0.77611612, 0.82827504, 0.13914208,\n",
       "       0.48800248, 0.1405505 , 0.69364709, 0.14053519, 0.75583441,\n",
       "       0.41144703, 0.13981881, 0.57486868, 0.13931041, 0.14111377,\n",
       "       0.28041242, 0.78888965, 0.14143006, 0.13936161, 0.19252289,\n",
       "       0.14122497, 0.17733729, 0.14121652, 0.41374746, 0.82490299,\n",
       "       0.75386343, 0.56335871, 0.62815893, 0.13910584, 0.16082653,\n",
       "       0.15507218, 0.75033137, 0.13776215, 0.62767929, 0.42798406,\n",
       "       0.87807747, 0.14122797, 0.76271314, 0.13978412, 0.13896836,\n",
       "       0.1391598 , 0.14171504, 0.13918385, 0.71697645, 0.14053415,\n",
       "       0.13688507, 0.14053829, 0.55480919, 0.86768064, 0.14179561,\n",
       "       0.13919901, 0.15571523, 0.1391598 , 0.60989961, 0.14737051,\n",
       "       0.31554922, 0.14171504, 0.82780401, 0.43008074, 0.13970438,\n",
       "       0.66019587, 0.14142284, 0.1388313 , 0.1386437 , 0.14240349,\n",
       "       0.61343634, 0.78296435, 0.57486868, 0.51566876, 0.86736712,\n",
       "       0.13860583, 0.13912751, 0.27626657, 0.13982728, 0.13914208,\n",
       "       0.16582634, 0.56737137, 0.13982728, 0.17493748, 0.13871431,\n",
       "       0.13936263, 0.89151962, 0.13624193, 0.18701483, 0.13909098,\n",
       "       0.13886745, 0.14232798, 0.13929367, 0.13969779, 0.57486868,\n",
       "       0.41346459, 0.71420152, 0.78150472, 0.20598077, 0.33901881,\n",
       "       0.14423014, 0.14008298, 0.13916057, 0.54286668, 0.82796642,\n",
       "       0.63264487, 0.75546666, 0.14368833, 0.1392607 , 0.13755558,\n",
       "       0.13935562, 0.13945353, 0.14245823, 0.15328912, 0.82830657,\n",
       "       0.13979652, 0.48071793, 0.35457111, 0.13977586, 0.14353169,\n",
       "       0.62421602, 0.15405771, 0.13970438, 0.34093866, 0.13926309,\n",
       "       0.15388127, 0.14161272, 0.14378558, 0.1542827 , 0.13982728,\n",
       "       0.14461279, 0.13886282, 0.13615721, 0.82831299, 0.13716223,\n",
       "       0.63853652, 0.14245823, 0.53302264, 0.14298261, 0.73426852,\n",
       "       0.81034572, 0.14183474, 0.33634528, 0.14186742, 0.86312441,\n",
       "       0.14767759, 0.63205961, 0.13936161, 0.14171504, 0.41764605,\n",
       "       0.13483589, 0.63676545, 0.73426852, 0.13932653, 0.80073582,\n",
       "       0.15341724, 0.13701325, 0.78597992, 0.80636889, 0.14230666,\n",
       "       0.1386821 , 0.82808104, 0.15541617, 0.14022747, 0.80472189,\n",
       "       0.82831239, 0.36008377, 0.14300116, 0.17441168, 0.16458731,\n",
       "       0.14171504, 0.13936161, 0.67112025, 0.47738235, 0.14152467,\n",
       "       0.74520081, 0.13961983, 0.13905366, 0.14053294, 0.18423223,\n",
       "       0.62800424, 0.75853021, 0.37794641, 0.13947017, 0.13880321,\n",
       "       0.8092737 , 0.13959997, 0.80434289, 0.14010172, 0.13893659,\n",
       "       0.8282611 , 0.13810415, 0.81436176, 0.20983879, 0.14065356,\n",
       "       0.14427236, 0.13887553, 0.82396224, 0.59720335, 0.84941987,\n",
       "       0.57486868, 0.82212384, 0.58392203, 0.13914208, 0.8273727 ,\n",
       "       0.13845754, 0.13914208, 0.13712559])"
      ]
     },
     "execution_count": 28,
     "metadata": {},
     "output_type": "execute_result"
    }
   ],
   "source": [
    "data_test_label=data_test_label.detach().numpy()\n",
    "pre.reshape(418,)"
   ]
  },
  {
   "cell_type": "code",
   "execution_count": 29,
   "metadata": {},
   "outputs": [],
   "source": [
    "for i in range(418):\n",
    "    if pre[0][i]>=0.5:\n",
    "        pre[0][i]=1\n",
    "    if pre[0][i]<0.5:\n",
    "        pre[0][i]=0"
   ]
  },
  {
   "cell_type": "code",
   "execution_count": 30,
   "metadata": {},
   "outputs": [],
   "source": [
    "data_test_label=data_test_label.tolist()"
   ]
  },
  {
   "cell_type": "code",
   "execution_count": 31,
   "metadata": {},
   "outputs": [],
   "source": [
    "pre=pre.tolist()"
   ]
  },
  {
   "cell_type": "code",
   "execution_count": 32,
   "metadata": {},
   "outputs": [],
   "source": [
    "pre=pre[0]"
   ]
  },
  {
   "cell_type": "code",
   "execution_count": 33,
   "metadata": {},
   "outputs": [
    {
     "name": "stdout",
     "output_type": "stream",
     "text": [
      "0.868421052631579\n"
     ]
    }
   ],
   "source": [
    "count1=0\n",
    "for i in range(len(pre)):\n",
    "    if pre[i]==data_test_label[i]:\n",
    "        count1+=1\n",
    "print(count1/len(pre))"
   ]
  },
  {
   "cell_type": "code",
   "execution_count": 34,
   "metadata": {},
   "outputs": [],
   "source": [
    "data_train=data_train.detach().numpy()\n",
    "data_train_label=data_train_label.detach().numpy()\n",
    "    "
   ]
  },
  {
   "cell_type": "code",
   "execution_count": null,
   "metadata": {},
   "outputs": [],
   "source": []
  },
  {
   "cell_type": "code",
   "execution_count": 35,
   "metadata": {},
   "outputs": [],
   "source": [
    "import random\n",
    "from random import random"
   ]
  },
  {
   "cell_type": "code",
   "execution_count": 36,
   "metadata": {},
   "outputs": [],
   "source": [
    "def auto(x,deriv=False):\n",
    "    if deriv==True:\n",
    "        return x*(1-x)\n",
    "    return 1/(1+np.exp(-x))\n",
    "def auto_grad(x,a1,a2,y_pred,y):\n",
    "    error_y=y-y_pred\n",
    "    delta_y=error_y*auto(y_pred,deriv=True)\n",
    "\n",
    "    error_a2=delta_y.dot(w3.T)\n",
    "    delta_a2=error_a2*auto(a2,deriv=True)\n",
    "\n",
    "    error_a1=delta_a2.dot(w2.T)\n",
    "    delta_a1=error_a1*auto(a1,deriv=True)\n",
    "    return x.T.dot(delta_a1),a1.T.dot(delta_a2),a2.T.dot(delta_y)"
   ]
  },
  {
   "cell_type": "code",
   "execution_count": 37,
   "metadata": {},
   "outputs": [],
   "source": [
    "def neural_network_2(x,y):\n",
    "    m,n=x.shape\n",
    "    np.random.seed(1)\n",
    "    w_1=2*np.random.random((n,10))-1\n",
    "    w_2=2*np.random.random((10,10))-1\n",
    "    w_3=2*np.random.random((10,1))-1\n",
    "    for i in range(1000):\n",
    "        a1=auto(np.dot(x,w_1))\n",
    "        a2=auto(np.dot(a1,w_2))\n",
    "        y_pred=auto(np.dot(a2,w_3))\n",
    "        error_y=y-y_pred\n",
    "        delta_y=error_y*auto(y_pred,deriv=True)\n",
    "\n",
    "        error_a2=delta_y.dot(w_3.T)\n",
    "        delta_a2=error_a2*auto(a2,deriv=True)\n",
    "\n",
    "        error_a1=delta_a2.dot(w_2.T)\n",
    "        delta_a1=error_a1*auto(a1,deriv=True)\n",
    "        \n",
    "        \n",
    "        \n",
    "        w_1+=x.T.dot(delta_a1)\n",
    "        w_2+=a1.T.dot(delta_a2)\n",
    "        w_3+=a2.T.dot(delta_y)\n",
    "    return w_1,w_2,w_3\n",
    "        "
   ]
  },
  {
   "cell_type": "code",
   "execution_count": null,
   "metadata": {},
   "outputs": [],
   "source": [
    "w1,w2,w3=neural_network_2(data_train,data_train_label)"
   ]
  },
  {
   "cell_type": "code",
   "execution_count": null,
   "metadata": {},
   "outputs": [],
   "source": [
    "w1_change,w2_change,w3_change=auto_grad(x,a1,a2,y_pred,y)"
   ]
  },
  {
   "cell_type": "code",
   "execution_count": null,
   "metadata": {},
   "outputs": [],
   "source": []
  },
  {
   "cell_type": "code",
   "execution_count": null,
   "metadata": {},
   "outputs": [],
   "source": []
  },
  {
   "cell_type": "code",
   "execution_count": null,
   "metadata": {},
   "outputs": [],
   "source": []
  },
  {
   "cell_type": "code",
   "execution_count": null,
   "metadata": {},
   "outputs": [],
   "source": []
  },
  {
   "cell_type": "code",
   "execution_count": null,
   "metadata": {},
   "outputs": [],
   "source": []
  },
  {
   "cell_type": "code",
   "execution_count": null,
   "metadata": {},
   "outputs": [],
   "source": []
  },
  {
   "cell_type": "code",
   "execution_count": null,
   "metadata": {},
   "outputs": [],
   "source": []
  },
  {
   "cell_type": "code",
   "execution_count": null,
   "metadata": {},
   "outputs": [],
   "source": []
  },
  {
   "cell_type": "code",
   "execution_count": null,
   "metadata": {},
   "outputs": [],
   "source": []
  },
  {
   "cell_type": "code",
   "execution_count": null,
   "metadata": {},
   "outputs": [],
   "source": []
  },
  {
   "cell_type": "code",
   "execution_count": null,
   "metadata": {},
   "outputs": [],
   "source": []
  },
  {
   "cell_type": "code",
   "execution_count": null,
   "metadata": {},
   "outputs": [],
   "source": []
  },
  {
   "cell_type": "code",
   "execution_count": null,
   "metadata": {},
   "outputs": [],
   "source": []
  },
  {
   "cell_type": "code",
   "execution_count": null,
   "metadata": {},
   "outputs": [],
   "source": []
  }
 ],
 "metadata": {
  "kernelspec": {
   "display_name": "Python 3",
   "language": "python",
   "name": "python3"
  },
  "language_info": {
   "codemirror_mode": {
    "name": "ipython",
    "version": 3
   },
   "file_extension": ".py",
   "mimetype": "text/x-python",
   "name": "python",
   "nbconvert_exporter": "python",
   "pygments_lexer": "ipython3",
   "version": "3.8.3"
  }
 },
 "nbformat": 4,
 "nbformat_minor": 4
}
