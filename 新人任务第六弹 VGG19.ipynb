{
 "cells": [
  {
   "cell_type": "code",
   "execution_count": 2,
   "metadata": {},
   "outputs": [],
   "source": [
    "import torch\n",
    "import torch.nn as nn\n",
    "import torch.optim as optim\n",
    "from torch.autograd import Variable\n",
    "import torch.nn.functional as F"
   ]
  },
  {
   "cell_type": "code",
   "execution_count": 3,
   "metadata": {},
   "outputs": [],
   "source": [
    "from PIL import Image"
   ]
  },
  {
   "cell_type": "code",
   "execution_count": 4,
   "metadata": {},
   "outputs": [],
   "source": [
    "import numpy as np"
   ]
  },
  {
   "cell_type": "code",
   "execution_count": 5,
   "metadata": {},
   "outputs": [],
   "source": [
    "class VGG19(nn.Module):\n",
    "    def __init__(self):\n",
    "        super(VGG19,self).__init__()\n",
    "        self.conv1_1=nn.Conv2d(3,64,kernel_size=3)\n",
    "        self.conv1_2=nn.Conv2d(64,64,kernel_size=3)\n",
    "\n",
    "        self.conv2_1=nn.Conv2d(64,128,kernel_size=3)\n",
    "        self.conv2_2=nn.Conv2d(128,128,kernel_size=3)\n",
    "\n",
    "        self.conv3_1=nn.Conv2d(128,256,kernel_size=3)\n",
    "        self.conv3_2=nn.Conv2d(256,256,kernel_size=3)\n",
    "        self.conv3_3=nn.Conv2d(256,256,kernel_size=3)\n",
    "        self.conv3_4=nn.Conv2d(256,256,kernel_size=3)\n",
    "\n",
    "        self.conv4_1=nn.Conv2d(256,512,kernel_size=3)\n",
    "        self.conv4_2=nn.Conv2d(512,512,kernel_size=3)\n",
    "        self.conv4_3=nn.Conv2d(512,512,kernel_size=3)\n",
    "        self.conv4_4=nn.Conv2d(512,512,kernel_size=3)\n",
    "\n",
    "        self.conv5_1=nn.Conv2d(256,512,kernel_size=3)\n",
    "        self.conv5_2=nn.Conv2d(512,512,kernel_size=3)\n",
    "        self.conv5_3=nn.Conv2d(512,512,kernel_size=3)\n",
    "        self.conv5_4=nn.Conv2d(512,512,kernel_size=3)\n",
    "\n",
    "        self.conv5_drop=nn.Dropout2d()\n",
    "\n",
    "        self.fc1=nn.Linear(25088,4096)\n",
    "        self.fc2=nn.Linear(4096,4096)\n",
    "        self.fc3=nn.Linear(4096,1000)\n",
    "    def forward(self,x):\n",
    "        x=F.relu(F.max_pool2d(self.conv1_2(self.conv1_1(x)),2))\n",
    "        x=F.relu(F.max_pool2d(self.conv2_2(self.conv2_1(x)),2))\n",
    "        x=F.relu(F.max_pool2d(self.conv3_4(self.conv3_3(self.conv3_2(self.conv3_1(x)))),2))\n",
    "        x=F.relu(F.max_pool2d(self.conv4_4(self.conv4_3(self.conv4_2(self.conv4_1(x)))),2))\n",
    "        x=F.relu(F.max_pool2d(self.conv5_drop(self.conv5_3(self.conv5_4(self.conv5_2(self.conv5_1(x))))),2)) \n",
    "        x=x.view(-1,25088)\n",
    "        x=F.relu(self.fc1(x))\n",
    "        x=F.dropout(x,training=self.training)\n",
    "        x=F.relu(self.fc2(x))\n",
    "        x=F.dropout(x,training=self.training)\n",
    "        x=F.relu(self.fc3(x))\n",
    "        return F.softmax(x,dim=1)"
   ]
  },
  {
   "cell_type": "code",
   "execution_count": 11,
   "metadata": {},
   "outputs": [],
   "source": [
    "model=VGG19()\n",
    "criterion=nn.CrossEntropyLoss()\n",
    "optimizer=optim.SGD(model.parameters(),lr=0.005,momentum=0.9)"
   ]
  },
  {
   "cell_type": "code",
   "execution_count": 12,
   "metadata": {},
   "outputs": [],
   "source": [
    "cuda_gpu=torch.cuda.is_available()"
   ]
  },
  {
   "cell_type": "code",
   "execution_count": null,
   "metadata": {},
   "outputs": [],
   "source": []
  },
  {
   "cell_type": "code",
   "execution_count": 13,
   "metadata": {},
   "outputs": [],
   "source": [
    "def train(model,criterion,optimizer,dataset):\n",
    "    model.train()\n",
    "    for data,target in dataset:\n",
    "        if cuda_gpu:\n",
    "            data,target=data.cuda(),target.cuda()\n",
    "            model.cuda()\n",
    "        data,target=Variable(data),Variable(target)\n",
    "        output=model(data)\n",
    "        optimizer.zero_grad()\n",
    "        loss=criterion(output,target)\n",
    "        loss.backward()\n",
    "        optimizer.step()\n",
    "    "
   ]
  },
  {
   "cell_type": "code",
   "execution_count": 15,
   "metadata": {},
   "outputs": [],
   "source": [
    "def test(model,criterion,data_loader):\n",
    "    model.eval()\n",
    "    test_loss=0\n",
    "    correct=0\n",
    "    for data,target in data_loader:\n",
    "        if cuda_gpu:\n",
    "            data,target=data.cuda(),target.cuda()\n",
    "            model.cuda()\n",
    "        data,target=Variable(data),Variable(target)\n",
    "        output=model(data)\n",
    "        test_loss+=criterion(output,target).data[0]\n",
    "        pred=output.data.max(1)[1]\n",
    "        correct+=pred.eq(target.data).cpu().sum()\n",
    "    test_loss/=len(data_loader)\n",
    "    acc=correct/len(data_loader)\n",
    "    return(acc,test_loss)"
   ]
  },
  {
   "cell_type": "code",
   "execution_count": null,
   "metadata": {},
   "outputs": [],
   "source": []
  },
  {
   "cell_type": "code",
   "execution_count": null,
   "metadata": {},
   "outputs": [],
   "source": []
  },
  {
   "cell_type": "code",
   "execution_count": null,
   "metadata": {},
   "outputs": [],
   "source": []
  },
  {
   "cell_type": "code",
   "execution_count": null,
   "metadata": {},
   "outputs": [],
   "source": []
  },
  {
   "cell_type": "code",
   "execution_count": null,
   "metadata": {},
   "outputs": [],
   "source": []
  }
 ],
 "metadata": {
  "kernelspec": {
   "display_name": "Python 3",
   "language": "python",
   "name": "python3"
  },
  "language_info": {
   "codemirror_mode": {
    "name": "ipython",
    "version": 3
   },
   "file_extension": ".py",
   "mimetype": "text/x-python",
   "name": "python",
   "nbconvert_exporter": "python",
   "pygments_lexer": "ipython3",
   "version": "3.8.3"
  }
 },
 "nbformat": 4,
 "nbformat_minor": 4
}
