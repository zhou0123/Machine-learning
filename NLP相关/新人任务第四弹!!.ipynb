{
 "cells": [
  {
   "cell_type": "code",
   "execution_count": 1,
   "metadata": {},
   "outputs": [],
   "source": [
    "#数据处理\n",
    "import pandas as pd\n",
    "import re\n",
    "import numpy as np"
   ]
  },
  {
   "cell_type": "code",
   "execution_count": 2,
   "metadata": {},
   "outputs": [],
   "source": [
    "file=open('C:\\\\Users\\\\zhou\\\\Desktop\\\\word.csv')\n",
    "list_line=[]\n",
    "for line in file.readlines():\n",
    "    line.strip()\n",
    "    list_line.append(line)\n"
   ]
  },
  {
   "cell_type": "code",
   "execution_count": 3,
   "metadata": {},
   "outputs": [
    {
     "data": {
      "text/plain": [
       "'Come, Philander, let us be a marching,Every one his true love a searching,\"'"
      ]
     },
     "execution_count": 3,
     "metadata": {},
     "output_type": "execute_result"
    }
   ],
   "source": [
    "list_line[0].strip()"
   ]
  },
  {
   "cell_type": "code",
   "execution_count": 4,
   "metadata": {},
   "outputs": [],
   "source": [
    "list_word=[]\n",
    "for num in range(len(list_line)):\n",
    "    for i in re.split('\\.| |\\,|\\!|\\?|\\\"|\\;',list_line[num].strip()):\n",
    "        if i=='':\n",
    "            pass\n",
    "        else:\n",
    "            list_word.append(i)"
   ]
  },
  {
   "cell_type": "code",
   "execution_count": 5,
   "metadata": {},
   "outputs": [],
   "source": [
    "#one_hot编码\n",
    "list_vector=[]\n",
    "for i in range(len(list_word)):\n",
    "    zero=np.zeros((len(list_word),1))\n",
    "    zero[i]=1\n",
    "    list_vector.append(zero)"
   ]
  },
  {
   "cell_type": "code",
   "execution_count": 6,
   "metadata": {},
   "outputs": [],
   "source": [
    "#利用单词的前5个和后5个构建词向量"
   ]
  },
  {
   "cell_type": "code",
   "execution_count": 7,
   "metadata": {},
   "outputs": [
    {
     "data": {
      "text/plain": [
       "3533"
      ]
     },
     "execution_count": 7,
     "metadata": {},
     "output_type": "execute_result"
    }
   ],
   "source": [
    "len(list_vector)"
   ]
  },
  {
   "cell_type": "code",
   "execution_count": 8,
   "metadata": {},
   "outputs": [],
   "source": [
    "list_x=[]\n",
    "list_y=[]\n",
    "for nu in range(5,3528):\n",
    "    vector=list_vector[nu-1]+list_vector[nu-2]+list_vector[nu-3]+list_vector[nu+1]+list_vector[nu+2]+list_vector[nu+3]+list_vector[nu+4]+list_vector[nu+5]+list_vector[nu-4]+list_vector[nu-5]\n",
    "    list_x.append(vector)\n",
    "    list_y.append(list_vector[nu])"
   ]
  },
  {
   "cell_type": "code",
   "execution_count": 9,
   "metadata": {},
   "outputs": [
    {
     "data": {
      "text/plain": [
       "(3533, 1)"
      ]
     },
     "execution_count": 9,
     "metadata": {},
     "output_type": "execute_result"
    }
   ],
   "source": [
    "list_x[0].shape"
   ]
  },
  {
   "cell_type": "code",
   "execution_count": 186,
   "metadata": {},
   "outputs": [],
   "source": [
    "def sigmoid(z):\n",
    "    return 1.0/(1.0+np.exp(-z))"
   ]
  },
  {
   "cell_type": "code",
   "execution_count": 187,
   "metadata": {},
   "outputs": [],
   "source": [
    "def sigmoid_derivative(z):\n",
    "    return sigmoid(z)*(1-sigmoid(z))"
   ]
  },
  {
   "cell_type": "code",
   "execution_count": 188,
   "metadata": {},
   "outputs": [],
   "source": [
    "def feedback(x,y,list_w,list_a,list_z):\n",
    "    list_a.reverse()\n",
    "    list_a.append(x)\n",
    "    list_w.reverse()\n",
    "    list_z.reverse()\n",
    "    sizes=len(list_w)\n",
    "    hold=[]\n",
    "    for nums in range(sizes):\n",
    "        hold.append((list_w[nums].T).dot(sigmoid_derivative(list_z[nums])))\n",
    "    grad_w=[]\n",
    "    grad_b=[]\n",
    "    for nums2 in range(len(hold)):\n",
    "        nums2=nums2-1\n",
    "        if nums2==-1:\n",
    "            grad_w.append(list_a[1].dot((sigmoid_derivative(list_z[0])*(-2*(y-list_a[0]))).T))\n",
    "            grad_b.append(sigmoid_derivative(list_z[0])*(-2*(y-list_a[0])))\n",
    "            grad=(list_w[0].T).dot((sigmoid_derivative(list_z[0])*(-2*(y-list_a[0]))))\n",
    "        if nums2!=-1:\n",
    "            grad_w.append(list_a[nums2+2].dot(sigmoid_derivative(grad).T))\n",
    "            grad_b.append(sigmoid_derivative(grad))\n",
    "            grad=(list_w[nums2]).dot(sigmoid_derivative(grad))\n",
    "    return grad_w,grad_b"
   ]
  },
  {
   "cell_type": "code",
   "execution_count": 189,
   "metadata": {},
   "outputs": [],
   "source": [
    "def network(x,y):\n",
    "    w1=np.random.randn(4000,3533)\n",
    "    w2=np.random.randn(3533,4000)\n",
    "    b1=np.random.randn(4000,1)\n",
    "    b2=np.random.randn(3533,1)\n",
    "    learn_rate=75\n",
    "    for count in range(3):\n",
    "        z1=w1.dot(x)+b1\n",
    "        a1=sigmoid(z1)\n",
    "        z2=w2.dot(a1)+b2\n",
    "        a2=sigmoid(z2)\n",
    "        list_w=[w1,w2]\n",
    "        list_a=[a1,a2]\n",
    "        list_z=[z1,z2]\n",
    "        grad_w,grad_b=feedback(x,y,list_w,list_a,list_z)\n",
    "        w1=w1-learn_rate*grad_w[-2]\n",
    "        w2=w2-learn_rate*grad_w[-1]\n",
    "        b1=b1-learn_rate*grad_b[-1]\n",
    "        b2=b2-learn_rate*grad_b[-2]\n",
    "    final_w=[w1,w2]\n",
    "    final_b=[b1,b2]\n",
    "    return a2,final_w,final_b\n",
    "    \n",
    "    "
   ]
  },
  {
   "cell_type": "code",
   "execution_count": 190,
   "metadata": {},
   "outputs": [],
   "source": [
    "a2,wz,bz=network(list_x[3500],list_y[3500])"
   ]
  },
  {
   "cell_type": "code",
   "execution_count": 191,
   "metadata": {},
   "outputs": [
    {
     "data": {
      "text/plain": [
       "3505"
      ]
     },
     "execution_count": 191,
     "metadata": {},
     "output_type": "execute_result"
    }
   ],
   "source": [
    "a2.tolist().index(max(a2.tolist()))"
   ]
  },
  {
   "cell_type": "code",
   "execution_count": null,
   "metadata": {},
   "outputs": [],
   "source": []
  },
  {
   "cell_type": "code",
   "execution_count": 192,
   "metadata": {},
   "outputs": [
    {
     "data": {
      "text/plain": [
       "3533"
      ]
     },
     "execution_count": 192,
     "metadata": {},
     "output_type": "execute_result"
    }
   ],
   "source": [
    "len(list_x[1])"
   ]
  },
  {
   "cell_type": "code",
   "execution_count": 193,
   "metadata": {},
   "outputs": [
    {
     "data": {
      "text/plain": [
       "3523"
      ]
     },
     "execution_count": 193,
     "metadata": {},
     "output_type": "execute_result"
    }
   ],
   "source": [
    "len(list_x)"
   ]
  },
  {
   "cell_type": "code",
   "execution_count": 194,
   "metadata": {},
   "outputs": [],
   "source": [
    "arr_x=np.array(list_x)"
   ]
  },
  {
   "cell_type": "code",
   "execution_count": 195,
   "metadata": {},
   "outputs": [],
   "source": [
    "arr_x=arr_x.reshape(3523,3533).T"
   ]
  },
  {
   "cell_type": "code",
   "execution_count": 196,
   "metadata": {},
   "outputs": [],
   "source": [
    "arr_y=np.array(list_y)"
   ]
  },
  {
   "cell_type": "code",
   "execution_count": 197,
   "metadata": {},
   "outputs": [],
   "source": [
    "arr_y=arr_y.reshape((3523,3533)).T"
   ]
  },
  {
   "cell_type": "code",
   "execution_count": 198,
   "metadata": {},
   "outputs": [
    {
     "name": "stderr",
     "output_type": "stream",
     "text": [
      "<ipython-input-186-a6750c5d9a79>:2: RuntimeWarning: overflow encountered in exp\n",
      "  return 1.0/(1.0+np.exp(-z))\n"
     ]
    }
   ],
   "source": [
    "final,final_w,final_b=network(arr_x,arr_y)"
   ]
  },
  {
   "cell_type": "code",
   "execution_count": 199,
   "metadata": {},
   "outputs": [
    {
     "name": "stdout",
     "output_type": "stream",
     "text": [
      "1.0\n"
     ]
    }
   ],
   "source": [
    "count=4\n",
    "count1=0\n",
    "for i in range(len(list_x)):\n",
    "    count+=1\n",
    "    if final[0:,i].tolist().index(max(final[0:,i].tolist()))==count:\n",
    "        count1+=1\n",
    "print(count1/len(list_x))\n",
    "    "
   ]
  },
  {
   "cell_type": "code",
   "execution_count": 200,
   "metadata": {},
   "outputs": [],
   "source": [
    "list_sentence1=[]\n",
    "for i in range(len(list_line)):\n",
    "    list_sentence1.append(list_line[i].strip())"
   ]
  },
  {
   "cell_type": "code",
   "execution_count": 201,
   "metadata": {},
   "outputs": [],
   "source": [
    "list_sentence=[]\n",
    "for nums  in range(len(list_sentence1)):\n",
    "    for i in re.split('\\.|\\?|\\!',list_sentence1[nums]):\n",
    "        if i=='':\n",
    "            pass\n",
    "        else:\n",
    "            list_sentence.append(i)\n",
    "    \n",
    "    "
   ]
  },
  {
   "cell_type": "code",
   "execution_count": 202,
   "metadata": {},
   "outputs": [
    {
     "data": {
      "text/plain": [
       "'Come, Philander, let us be a marching,Every one his true love a searching,\"'"
      ]
     },
     "execution_count": 202,
     "metadata": {},
     "output_type": "execute_result"
    }
   ],
   "source": [
    "list_sentence[0]"
   ]
  },
  {
   "cell_type": "code",
   "execution_count": 203,
   "metadata": {},
   "outputs": [],
   "source": [
    "def pred(final_w,final_b,x_test,list_word,number):\n",
    "    w1,w2=final_w\n",
    "    b1,b2=final_b\n",
    "    b1=np.array(b1[0:,number]).reshape((len(b1[0:,number]),1))\n",
    "    b2=np.array(b2[0:,number]).reshape((len(b2[0:,number]),1))\n",
    "    z1=w1.dot(x_test)+b1\n",
    "    a1=sigmoid(z1)\n",
    "    z2=w2.dot(a1)+b2\n",
    "    y_pred=sigmoid(z2)\n",
    "    return list_word[y_pred.tolist().index(max(y_pred.tolist()))]"
   ]
  },
  {
   "cell_type": "code",
   "execution_count": 204,
   "metadata": {},
   "outputs": [
    {
     "name": "stderr",
     "output_type": "stream",
     "text": [
      "<ipython-input-186-a6750c5d9a79>:2: RuntimeWarning: overflow encountered in exp\n",
      "  return 1.0/(1.0+np.exp(-z))\n"
     ]
    },
    {
     "data": {
      "text/plain": [
       "'a'"
      ]
     },
     "execution_count": 204,
     "metadata": {},
     "output_type": "execute_result"
    }
   ],
   "source": [
    "pred(final_w,final_b,list_x[700],list_word,700)"
   ]
  },
  {
   "cell_type": "code",
   "execution_count": 205,
   "metadata": {},
   "outputs": [],
   "source": [
    "def softmax(z):\n",
    "    shiftz=z-np.max(z)\n",
    "    return np.exp(shiftz)/sum(np.exp(shiftz))"
   ]
  },
  {
   "cell_type": "code",
   "execution_count": 206,
   "metadata": {},
   "outputs": [],
   "source": [
    "def softmax_derivative(z):\n",
    "    shiftz=z-np.max(z)\n",
    "    return (shiftz*np.exp(shiftz)*(sum(np.exp(shiftz))-np.exp(shiftz)))/sum(np.exp(shiftz))**2"
   ]
  },
  {
   "cell_type": "code",
   "execution_count": 207,
   "metadata": {},
   "outputs": [
    {
     "data": {
      "text/plain": [
       "3533"
      ]
     },
     "execution_count": 207,
     "metadata": {},
     "output_type": "execute_result"
    }
   ],
   "source": [
    "len(list_x[0])"
   ]
  },
  {
   "cell_type": "code",
   "execution_count": 208,
   "metadata": {},
   "outputs": [
    {
     "data": {
      "text/plain": [
       "(3533, 3523)"
      ]
     },
     "execution_count": 208,
     "metadata": {},
     "output_type": "execute_result"
    }
   ],
   "source": [
    "arr_x.shape"
   ]
  },
  {
   "cell_type": "code",
   "execution_count": 209,
   "metadata": {},
   "outputs": [],
   "source": [
    "def soft_network(x,y):\n",
    "    w1=np.random.randn(4000,3533)\n",
    "    w2=np.random.randn(3533,4000)\n",
    "    learnrate=100\n",
    "    for count in range(3):\n",
    "        #正向传播\n",
    "        z1=w1.dot(x)\n",
    "        z2=w2.dot(z1)\n",
    "        a=sigmoid(z2)\n",
    "        #反向传播\n",
    "        dy_dw2=(sigmoid_derivative(z2)*(-2*(y-a))).dot(z1.T)\n",
    "        dy_dw1=(w2.T.dot(sigmoid_derivative(z2)*(-2*(y-a)))).dot(x.T)\n",
    "        #更新\n",
    "        w2=w2-learnrate*dy_dw2\n",
    "        w1=w1-learnrate*dy_dw1\n",
    "    return a,w1,w2\n",
    "        \n",
    "        "
   ]
  },
  {
   "cell_type": "code",
   "execution_count": 210,
   "metadata": {},
   "outputs": [
    {
     "name": "stderr",
     "output_type": "stream",
     "text": [
      "<ipython-input-186-a6750c5d9a79>:2: RuntimeWarning: overflow encountered in exp\n",
      "  return 1.0/(1.0+np.exp(-z))\n"
     ]
    }
   ],
   "source": [
    "a,w1,w2=soft_network(list_x[0],list_y[0])"
   ]
  },
  {
   "cell_type": "code",
   "execution_count": 211,
   "metadata": {
    "scrolled": true
   },
   "outputs": [
    {
     "data": {
      "text/plain": [
       "0"
      ]
     },
     "execution_count": 211,
     "metadata": {},
     "output_type": "execute_result"
    }
   ],
   "source": [
    "a.tolist().index(max(a.tolist()))"
   ]
  },
  {
   "cell_type": "code",
   "execution_count": 212,
   "metadata": {},
   "outputs": [
    {
     "data": {
      "text/plain": [
       "array([[0.],\n",
       "       [0.],\n",
       "       [0.],\n",
       "       [0.],\n",
       "       [0.],\n",
       "       [1.],\n",
       "       [0.],\n",
       "       [0.],\n",
       "       [0.],\n",
       "       [0.]])"
      ]
     },
     "execution_count": 212,
     "metadata": {},
     "output_type": "execute_result"
    }
   ],
   "source": [
    "list_y[0][0:10]"
   ]
  },
  {
   "cell_type": "code",
   "execution_count": null,
   "metadata": {},
   "outputs": [],
   "source": []
  },
  {
   "cell_type": "code",
   "execution_count": null,
   "metadata": {},
   "outputs": [],
   "source": []
  },
  {
   "cell_type": "code",
   "execution_count": null,
   "metadata": {},
   "outputs": [],
   "source": []
  },
  {
   "cell_type": "code",
   "execution_count": null,
   "metadata": {},
   "outputs": [],
   "source": []
  },
  {
   "cell_type": "code",
   "execution_count": null,
   "metadata": {},
   "outputs": [],
   "source": []
  },
  {
   "cell_type": "code",
   "execution_count": null,
   "metadata": {},
   "outputs": [],
   "source": []
  },
  {
   "cell_type": "code",
   "execution_count": null,
   "metadata": {},
   "outputs": [],
   "source": []
  },
  {
   "cell_type": "code",
   "execution_count": null,
   "metadata": {},
   "outputs": [],
   "source": []
  },
  {
   "cell_type": "code",
   "execution_count": null,
   "metadata": {},
   "outputs": [],
   "source": []
  },
  {
   "cell_type": "code",
   "execution_count": null,
   "metadata": {},
   "outputs": [],
   "source": []
  },
  {
   "cell_type": "code",
   "execution_count": null,
   "metadata": {},
   "outputs": [],
   "source": []
  },
  {
   "cell_type": "code",
   "execution_count": null,
   "metadata": {},
   "outputs": [],
   "source": []
  },
  {
   "cell_type": "code",
   "execution_count": null,
   "metadata": {},
   "outputs": [],
   "source": []
  },
  {
   "cell_type": "code",
   "execution_count": null,
   "metadata": {},
   "outputs": [],
   "source": []
  },
  {
   "cell_type": "code",
   "execution_count": null,
   "metadata": {},
   "outputs": [],
   "source": []
  },
  {
   "cell_type": "code",
   "execution_count": null,
   "metadata": {},
   "outputs": [],
   "source": []
  },
  {
   "cell_type": "code",
   "execution_count": null,
   "metadata": {},
   "outputs": [],
   "source": []
  },
  {
   "cell_type": "code",
   "execution_count": null,
   "metadata": {},
   "outputs": [],
   "source": []
  },
  {
   "cell_type": "code",
   "execution_count": null,
   "metadata": {},
   "outputs": [],
   "source": []
  }
 ],
 "metadata": {
  "kernelspec": {
   "display_name": "Python 3",
   "language": "python",
   "name": "python3"
  },
  "language_info": {
   "codemirror_mode": {
    "name": "ipython",
    "version": 3
   },
   "file_extension": ".py",
   "mimetype": "text/x-python",
   "name": "python",
   "nbconvert_exporter": "python",
   "pygments_lexer": "ipython3",
   "version": "3.8.3"
  }
 },
 "nbformat": 4,
 "nbformat_minor": 4
}
