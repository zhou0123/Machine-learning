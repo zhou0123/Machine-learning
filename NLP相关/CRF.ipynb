{
 "cells": [
  {
   "cell_type": "code",
   "execution_count": 5,
   "metadata": {},
   "outputs": [],
   "source": [
    "import numpy as np\n",
    "import torch\n",
    "from torch.autograd import Variable"
   ]
  },
  {
   "cell_type": "code",
   "execution_count": 14,
   "metadata": {},
   "outputs": [],
   "source": [
    "w1=Variable(torch.randn(10,4,dtype=torch.float64),requires_grad=True)\n",
    "w2=Variable(torch.randn(4,4,dtype=torch.float64),requires_grad=True)\n",
    "learning_rate=1e-5"
   ]
  },
  {
   "cell_type": "code",
   "execution_count": 15,
   "metadata": {},
   "outputs": [],
   "source": [
    "def CRF(num_labels,n,input_dataset,labels):\n",
    "    input_dataset=Variable(input_dataset,requires_grad=False)\n",
    "    Z=input_dataset[0].mm(w1)\n",
    "    sum_exp=Z[labels[0]]\n",
    "    for i in range(n-1):\n",
    "        x=torch.zeros(1,num_labels)\n",
    "        x[0,labels[i+1]]=1\n",
    "        score1=x.mm(w2)[labels[i+1]]\n",
    "        score2=input_dataset[i+1].mm(w1)[labels[i+1]]\n",
    "        sum_exp=sum_exp+score1+score2\n",
    "    up_score=torch.exp(sum_exp)\n",
    "    \n",
    "    G=torch.exp(w2)\n",
    "    \n",
    "    for i in range(n-1):\n",
    "        Z+=(Z.mm(G)).mul(torch.exp(input_dataset[i+1].mm(w1)))\n",
    "    all_Z=torch.sum(Z)\n",
    "    \n",
    "    p=up_score/all_Z\n",
    "    \n",
    "    loss=-torch.log(p)\n",
    "    \n",
    "    loss.backward()\n",
    "    \n",
    "    w1.data-=learning_rate*w1.grad.data\n",
    "    w2.data-=learning_rate*w2.grad.data\n",
    "        \n",
    "    w1.grad.data.zero_()\n",
    "    w2.grad.data.zero_()\n",
    "    \n",
    "    \n",
    "    \n",
    "    \n",
    "    "
   ]
  },
  {
   "cell_type": "code",
   "execution_count": 16,
   "metadata": {},
   "outputs": [],
   "source": [
    "def train(epochs,all_data):\n",
    "    for i in range(epochs):\n",
    "        \n",
    "        for input_dataset,labels in all_data:\n",
    "            CRF(num_labels,n,input_dataset,labels)\n",
    "    return w1,w2\n"
   ]
  },
  {
   "cell_type": "code",
   "execution_count": null,
   "metadata": {},
   "outputs": [],
   "source": [
    "w1,w2=train(epochs,all_data)"
   ]
  },
  {
   "cell_type": "code",
   "execution_count": 19,
   "metadata": {},
   "outputs": [],
   "source": [
    "def find_best(input_dataset,n,true_labels):\n",
    "    input_dataset=Variable(input_dataset,requires_grad=False)\n",
    "    list_Z=[]\n",
    "    \n",
    "    G=torch.exp(w2)\n",
    "    Z=input_dataset[0].mm(w1)\n",
    "    list_Z.append(Z)\n",
    "    for i in range(n-1):\n",
    "        Z=(Z.mm(G)).mul(torch.exp(input_dataset[i+1].mm(w1)))\n",
    "        list_Z.append(Z)\n",
    "    \n",
    "    \n",
    "    list_label=[]\n",
    "    \n",
    "    for i in range(len(list_Z)):\n",
    "        list_label.append(true_labels[list_Z.argmax().numpy()[0]])\n",
    "    return list_label\n",
    "        \n",
    "    "
   ]
  },
  {
   "cell_type": "code",
   "execution_count": null,
   "metadata": {},
   "outputs": [],
   "source": []
  },
  {
   "cell_type": "code",
   "execution_count": null,
   "metadata": {},
   "outputs": [],
   "source": []
  },
  {
   "cell_type": "code",
   "execution_count": null,
   "metadata": {},
   "outputs": [],
   "source": []
  }
 ],
 "metadata": {
  "kernelspec": {
   "display_name": "Python 3",
   "language": "python",
   "name": "python3"
  },
  "language_info": {
   "codemirror_mode": {
    "name": "ipython",
    "version": 3
   },
   "file_extension": ".py",
   "mimetype": "text/x-python",
   "name": "python",
   "nbconvert_exporter": "python",
   "pygments_lexer": "ipython3",
   "version": "3.8.3"
  }
 },
 "nbformat": 4,
 "nbformat_minor": 4
}
