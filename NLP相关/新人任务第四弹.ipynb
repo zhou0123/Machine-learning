{
 "cells": [
  {
   "cell_type": "code",
   "execution_count": 30,
   "metadata": {},
   "outputs": [],
   "source": [
    "import re\n",
    "import numpy as np"
   ]
  },
  {
   "cell_type": "code",
   "execution_count": 31,
   "metadata": {},
   "outputs": [],
   "source": [
    "file=open('C:\\\\Users\\\\zhou\\\\Desktop\\\\word.csv',encoding='utf-8')\n",
    "list_line=[]\n",
    "for line in file.readlines():\n",
    "    line.strip()\n",
    "    list_line.append(line)"
   ]
  },
  {
   "cell_type": "code",
   "execution_count": 32,
   "metadata": {},
   "outputs": [],
   "source": [
    "list_word=[]\n",
    "for num in range(len(list_line)):\n",
    "    for i in re.split('\\.| |\\,|\\!|\\?|\\\"|\\;',list_line[num].strip()):\n",
    "        if i=='':\n",
    "            pass\n",
    "        else:\n",
    "            list_word.append(i)"
   ]
  },
  {
   "cell_type": "code",
   "execution_count": 33,
   "metadata": {},
   "outputs": [],
   "source": [
    "list_set_word=list(set(list_word))"
   ]
  },
  {
   "cell_type": "code",
   "execution_count": 34,
   "metadata": {},
   "outputs": [],
   "source": [
    "#one_hot编码\n",
    "dict_word={}\n",
    "count=-1\n",
    "for word in list_set_word:\n",
    "    count+=1\n",
    "    vector=np.zeros((len(list_set_word),1))\n",
    "    vector[count]=1\n",
    "    dict_word[word]=vector"
   ]
  },
  {
   "cell_type": "code",
   "execution_count": 35,
   "metadata": {},
   "outputs": [],
   "source": [
    "dict_new_vector_word={}\n",
    "coun=-1\n",
    "for word in list_set_word:\n",
    "    coun+=1\n",
    "    vector1=np.zeros((len(list_set_word),1))\n",
    "    dict_new_vector_word[word]=vector1\n",
    "    "
   ]
  },
  {
   "cell_type": "code",
   "execution_count": 36,
   "metadata": {},
   "outputs": [],
   "source": [
    "list_sentence1=[]\n",
    "for i in range(len(list_line)):\n",
    "    list_sentence1.append(list_line[i].strip())\n",
    "list_sentence=[]\n",
    "for nums  in range(len(list_sentence1)):\n",
    "    for i in re.split('\\.|\\?|\\!',list_sentence1[nums]):\n",
    "        if i=='':\n",
    "            pass\n",
    "        else:\n",
    "            list_sentence.append(i)\n",
    "    "
   ]
  },
  {
   "cell_type": "code",
   "execution_count": 37,
   "metadata": {},
   "outputs": [],
   "source": [
    "#利用中心词的前2个和后2个"
   ]
  },
  {
   "cell_type": "code",
   "execution_count": 39,
   "metadata": {},
   "outputs": [],
   "source": [
    "list_all_sen_word=[]\n",
    "for i in range(len(list_sentence)):\n",
    "    list_all_sen_word.append([])\n",
    "    for j in re.split('\\.| |\\,|\\!|\\?|\\\"|\\;',list_sentence[i].strip()):\n",
    "        if j=='':\n",
    "            pass\n",
    "        else:\n",
    "            list_all_sen_word[i].append(j)\n"
   ]
  },
  {
   "cell_type": "code",
   "execution_count": 40,
   "metadata": {},
   "outputs": [],
   "source": [
    "list_vector=[]\n",
    "for sen_word in list_all_sen_word:\n",
    "    if len(sen_word)==0:\n",
    "        pass\n",
    "    else:\n",
    "        if len(sen_word)==1:\n",
    "            list_vector.append(dict_word['%s'%(sen_word[0])])\n",
    "        else:\n",
    "            if len(sen_word)==2:\n",
    "                list_vector.append(dict_word['%s'%(sen_word[1])])\n",
    "                list_vector.append(dict_word['%s'%(sen_word[0])])\n",
    "            else:\n",
    "                if len(sen_word)==3:\n",
    "                    list_vector.append(dict_word['%s'%(sen_word[1])]+dict_word['%s'%(sen_word[2])])\n",
    "                    list_vector.append(dict_word['%s'%(sen_word[0])]+dict_word['%s'%(sen_word[2])])\n",
    "                    list_vector.append(dict_word['%s'%(sen_word[0])]+dict_word['%s'%(sen_word[1])])\n",
    "                else:\n",
    "                    for word in sen_word:\n",
    "                        if sen_word.index(word)==0:\n",
    "                            list_vector.append(dict_word['%s'%(sen_word[1])]+dict_word['%s'%(sen_word[2])])\n",
    "                        else:\n",
    "                            if sen_word.index(word)==1:\n",
    "                                list_vector.append(dict_word['%s'%(sen_word[0])]+dict_word['%s'%(sen_word[2])]+dict_word['%s'%(sen_word[3])])\n",
    "                            else:\n",
    "                                if sen_word.index(word)==len(sen_word)-1:\n",
    "                                    list_vector.append(dict_word['%s'%(sen_word[-2])]+dict_word['%s'%(sen_word[-3])])\n",
    "                                else:\n",
    "                                    if sen_word.index(word)==len(sen_word)-2:\n",
    "                                        list_vector.append(dict_word['%s'%(sen_word[-1])]+dict_word['%s'%(sen_word[-3])]+dict_word['%s'%(sen_word[-4])])\n",
    "                                    else:\n",
    "                                        num=sen_word.index(word)\n",
    "                                        list_vector.append(dict_word['%s'%(sen_word[num-1])]+dict_word['%s'%(sen_word[num-2])]+dict_word['%s'%(sen_word[num+1])]+dict_word['%s'%(sen_word[num+2])])\n",
    "\n",
    "            \n",
    "    \n",
    "    "
   ]
  },
  {
   "cell_type": "code",
   "execution_count": 41,
   "metadata": {},
   "outputs": [],
   "source": [
    "list_out=[]\n",
    "for word in list_word:\n",
    "    list_out.append(dict_word['%s'%(word)])"
   ]
  },
  {
   "cell_type": "code",
   "execution_count": 42,
   "metadata": {},
   "outputs": [
    {
     "data": {
      "text/plain": [
       "772"
      ]
     },
     "execution_count": 42,
     "metadata": {},
     "output_type": "execute_result"
    }
   ],
   "source": [
    "len(list_out[1])"
   ]
  },
  {
   "cell_type": "code",
   "execution_count": 43,
   "metadata": {},
   "outputs": [
    {
     "data": {
      "text/plain": [
       "2138"
      ]
     },
     "execution_count": 43,
     "metadata": {},
     "output_type": "execute_result"
    }
   ],
   "source": [
    "len(list_word)"
   ]
  },
  {
   "cell_type": "code",
   "execution_count": 44,
   "metadata": {},
   "outputs": [],
   "source": [
    "import random"
   ]
  },
  {
   "cell_type": "code",
   "execution_count": 45,
   "metadata": {},
   "outputs": [],
   "source": [
    "def sigmoid(z):\n",
    "    return 1.0/(1.0+np.exp(-z))"
   ]
  },
  {
   "cell_type": "code",
   "execution_count": 46,
   "metadata": {},
   "outputs": [],
   "source": [
    "def sigmoid_derivative(z):\n",
    "    return sigmoid(z)*(1-sigmoid(z))"
   ]
  },
  {
   "cell_type": "code",
   "execution_count": 47,
   "metadata": {},
   "outputs": [],
   "source": [
    "def softmax(z):\n",
    "    shiftz=z-np.max(z)\n",
    "    return np.exp(shiftz)/sum(np.exp(shiftz))"
   ]
  },
  {
   "cell_type": "code",
   "execution_count": 48,
   "metadata": {},
   "outputs": [],
   "source": [
    "def softmax_derivative(z):\n",
    "    shiftz=z-np.max(z)\n",
    "    return (shiftz*np.exp(shiftz)*(sum(np.exp(shiftz))-np.exp(shiftz)))/sum(np.exp(shiftz))**2"
   ]
  },
  {
   "cell_type": "code",
   "execution_count": 107,
   "metadata": {},
   "outputs": [],
   "source": [
    "def network(w1,w2,x,y):\n",
    "    learnrate=0.015\n",
    "    for i in range(3):\n",
    "        #正向传播\n",
    "        z1=w1.dot(x)\n",
    "        z2=w2.dot(z1)\n",
    "        a2=softmax(z2)\n",
    "        #反向传播\n",
    "        dy_dw2=(z1.T)*(a2-y)\n",
    "        dy_dw1=x.T*(w2.T.dot(a2-y))\n",
    "        #更新\n",
    "        w1=w1-learnrate*dy_dw1\n",
    "        w2=w2-learnrate*dy_dw2\n",
    "    return a2,w1,w2\n",
    "        \n",
    "    "
   ]
  },
  {
   "cell_type": "code",
   "execution_count": null,
   "metadata": {},
   "outputs": [],
   "source": []
  },
  {
   "cell_type": "code",
   "execution_count": 108,
   "metadata": {},
   "outputs": [
    {
     "data": {
      "text/plain": [
       "772"
      ]
     },
     "execution_count": 108,
     "metadata": {},
     "output_type": "execute_result"
    }
   ],
   "source": [
    "len(list_vector[0])"
   ]
  },
  {
   "cell_type": "code",
   "execution_count": 109,
   "metadata": {},
   "outputs": [
    {
     "data": {
      "text/plain": [
       "2138"
      ]
     },
     "execution_count": 109,
     "metadata": {},
     "output_type": "execute_result"
    }
   ],
   "source": [
    "len(list_word)"
   ]
  },
  {
   "cell_type": "code",
   "execution_count": 132,
   "metadata": {},
   "outputs": [],
   "source": [
    "train=list_vector[0:1500]"
   ]
  },
  {
   "cell_type": "code",
   "execution_count": 133,
   "metadata": {},
   "outputs": [],
   "source": [
    "train_label=list_out[0:1500]"
   ]
  },
  {
   "cell_type": "code",
   "execution_count": 134,
   "metadata": {},
   "outputs": [],
   "source": [
    "test=list_vector[1500:]\n",
    "test_label=list_vector[1500:]"
   ]
  },
  {
   "cell_type": "code",
   "execution_count": 135,
   "metadata": {},
   "outputs": [],
   "source": [
    "w1=np.random.randn(1500,772)\n",
    "w2=np.random.randn(772,1500)"
   ]
  },
  {
   "cell_type": "code",
   "execution_count": 136,
   "metadata": {},
   "outputs": [],
   "source": [
    "list_new_vector=[]\n",
    "count2=-1\n",
    "for x,y in zip(train,train_label):\n",
    "    count2+=1\n",
    "    a2,w1,w2=network(w1,w2,x,y)\n",
    "    dict_new_vector_word[list_word[count2]]+=a2\n",
    "    list_new_vector.append(a2)"
   ]
  },
  {
   "cell_type": "code",
   "execution_count": 137,
   "metadata": {},
   "outputs": [],
   "source": [
    "test_out=[]\n",
    "for sample in test:\n",
    "    z21=w1.dot(sample)\n",
    "    z22=w2.dot(z21)\n",
    "    y_pred=softmax(z22)\n",
    "    test_out.append(y_pred)\n",
    "    "
   ]
  },
  {
   "cell_type": "code",
   "execution_count": null,
   "metadata": {},
   "outputs": [],
   "source": [
    "#正确率测试"
   ]
  },
  {
   "cell_type": "code",
   "execution_count": 138,
   "metadata": {},
   "outputs": [
    {
     "name": "stdout",
     "output_type": "stream",
     "text": [
      "0.003134796238244514\n"
     ]
    }
   ],
   "source": [
    "count=0\n",
    "for i in range(len(test_out)):    \n",
    "    list1=test_out[i].reshape(772,).tolist()\n",
    "    index_max=list1.index(max(list1))\n",
    "    zero_arr=np.zeros((772,1))\n",
    "    zero_arr[index_max,0]=1\n",
    "    zero_list=zero_arr.tolist()\n",
    "    test_list=test_label[i].tolist()\n",
    "    if zero_list.index([1.0])==test_list.index([1.0]):\n",
    "        count+=1\n",
    "print(count/len(test_out))\n",
    "\n"
   ]
  },
  {
   "cell_type": "code",
   "execution_count": 117,
   "metadata": {},
   "outputs": [],
   "source": [
    "#词类比测试"
   ]
  },
  {
   "cell_type": "code",
   "execution_count": 139,
   "metadata": {},
   "outputs": [],
   "source": [
    "vec1=list_new_vector[list_word.index('Every')]-list_new_vector[list_word.index('one')]"
   ]
  },
  {
   "cell_type": "code",
   "execution_count": 140,
   "metadata": {},
   "outputs": [],
   "source": [
    "word_index=vec1.reshape(772,).tolist().index(max(vec1.reshape(772,).tolist()))"
   ]
  },
  {
   "cell_type": "code",
   "execution_count": 141,
   "metadata": {},
   "outputs": [
    {
     "data": {
      "text/plain": [
       "'There'"
      ]
     },
     "execution_count": 141,
     "metadata": {},
     "output_type": "execute_result"
    }
   ],
   "source": [
    "list_word[word_index]"
   ]
  },
  {
   "cell_type": "code",
   "execution_count": null,
   "metadata": {},
   "outputs": [],
   "source": [
    "#利用knn算法进行相似词测试"
   ]
  },
  {
   "cell_type": "code",
   "execution_count": 157,
   "metadata": {},
   "outputs": [
    {
     "name": "stderr",
     "output_type": "stream",
     "text": [
      "<ipython-input-157-46a0966cc128>:5: RuntimeWarning: invalid value encountered in true_divide\n",
      "  dict_new_vector_word2[list(dict_new_vector_word.keys())[count3]]=dict_new_vector_word[list(dict_new_vector_word.keys())[count3]]/sum(dict_new_vector_word[list(dict_new_vector_word.keys())[count3]])\n"
     ]
    }
   ],
   "source": [
    "count3=-1\n",
    "dict_new_vector_word2={}\n",
    "for i in list(dict_new_vector_word.values()):\n",
    "    count3+=1\n",
    "    dict_new_vector_word2[list(dict_new_vector_word.keys())[count3]]=dict_new_vector_word[list(dict_new_vector_word.keys())[count3]]/sum(dict_new_vector_word[list(dict_new_vector_word.keys())[count3]])\n",
    "    "
   ]
  },
  {
   "cell_type": "code",
   "execution_count": null,
   "metadata": {},
   "outputs": [],
   "source": []
  },
  {
   "cell_type": "code",
   "execution_count": 177,
   "metadata": {},
   "outputs": [],
   "source": [
    "def knn(input_word,dict_new_vector_word2,list_word,k):\n",
    "    vector=dict_new_vector_word2[input_word]\n",
    "    arr_all_word=np.array(list(dict_new_vector_word2.values())).reshape(772,772).T\n",
    "    diffmat=arr_all_word-vector\n",
    "    diffmat_sqr=diffmat**2\n",
    "    sqrdiff=diffmat_sqr.sum(axis=0)\n",
    "    distance_set=sqrdiff**0.5\n",
    "    distance_sort=np.argsort(distance_set)\n",
    "    word_near=[]\n",
    "    for i in range(k):\n",
    "        word_near.append(list_word[distance_sort[i]])\n",
    "    return word_near"
   ]
  },
  {
   "cell_type": "code",
   "execution_count": 635,
   "metadata": {},
   "outputs": [
    {
     "data": {
      "text/plain": [
       "['he',\n",
       " 'of',\n",
       " 'alarming',\n",
       " 'days',\n",
       " 'not',\n",
       " 'the',\n",
       " 'whiskers',\n",
       " 'Arthur',\n",
       " 'That',\n",
       " 'life',\n",
       " 'her',\n",
       " 'upon']"
      ]
     },
     "execution_count": 635,
     "metadata": {},
     "output_type": "execute_result"
    }
   ],
   "source": [
    "knn('who',dict_new_vector_word2,list_word,12)"
   ]
  },
  {
   "cell_type": "code",
   "execution_count": 636,
   "metadata": {},
   "outputs": [],
   "source": [
    "#数据可视化\n",
    "#同类词语"
   ]
  },
  {
   "cell_type": "code",
   "execution_count": 637,
   "metadata": {},
   "outputs": [],
   "source": [
    "list_word_visual=knn('who',dict_new_vector_word2,list_word,12)"
   ]
  },
  {
   "cell_type": "code",
   "execution_count": 638,
   "metadata": {},
   "outputs": [],
   "source": [
    "list_word_vec_visual=[]"
   ]
  },
  {
   "cell_type": "code",
   "execution_count": 639,
   "metadata": {},
   "outputs": [],
   "source": [
    "for word in list_word_visual:\n",
    "    list_word_vec_visual.append(dict_new_vector_word2[word])"
   ]
  },
  {
   "cell_type": "code",
   "execution_count": 640,
   "metadata": {},
   "outputs": [
    {
     "data": {
      "text/plain": [
       "(12, 772, 1)"
      ]
     },
     "execution_count": 640,
     "metadata": {},
     "output_type": "execute_result"
    }
   ],
   "source": [
    "np.array(list_word_vec_visual).shape"
   ]
  },
  {
   "cell_type": "code",
   "execution_count": 641,
   "metadata": {},
   "outputs": [],
   "source": [
    "arr_all_word=np.array(list_word_vec_visual).reshape(12,772)"
   ]
  },
  {
   "cell_type": "code",
   "execution_count": 642,
   "metadata": {},
   "outputs": [],
   "source": [
    "#PCA数据降维\n",
    "def PCA(matX,k):\n",
    "    average=np.mean(matX,axis=0)\n",
    "    m,n=matX.shape\n",
    "    avgs=np.tile(average,(m,1))\n",
    "    data_adjust=matX-avgs\n",
    "    data_adjust=np.array(data_adjust,dtype=float)\n",
    "    covX=np.cov(data_adjust.T)\n",
    "    feaValue,feaVec=np.linalg.eig(covX)\n",
    "    index=np.argsort(-feaValue)\n",
    "    selectVec=np.matrix(feaVec.T[index[:k]])\n",
    "    final=matX*selectVec.T\n",
    "    return final"
   ]
  },
  {
   "cell_type": "code",
   "execution_count": 643,
   "metadata": {},
   "outputs": [],
   "source": [
    "arr_down=PCA(arr_all_word,2).real"
   ]
  },
  {
   "cell_type": "code",
   "execution_count": 644,
   "metadata": {},
   "outputs": [],
   "source": [
    "from matplotlib import pyplot as plt"
   ]
  },
  {
   "cell_type": "code",
   "execution_count": 645,
   "metadata": {},
   "outputs": [],
   "source": [
    "arr_down=np.array(arr_down)"
   ]
  },
  {
   "cell_type": "code",
   "execution_count": 646,
   "metadata": {},
   "outputs": [],
   "source": [
    "x=arr_down[0:,0]\n",
    "y=arr_down[0:,1]"
   ]
  },
  {
   "cell_type": "code",
   "execution_count": 647,
   "metadata": {},
   "outputs": [],
   "source": [
    "x=x.tolist()\n",
    "y=y.tolist()"
   ]
  },
  {
   "cell_type": "code",
   "execution_count": null,
   "metadata": {},
   "outputs": [],
   "source": []
  },
  {
   "cell_type": "code",
   "execution_count": 648,
   "metadata": {},
   "outputs": [
    {
     "data": {
      "image/png": "[encoded data removed]",
      "text/plain": [
       "<Figure size 3600x1800 with 1 Axes>"
      ]
     },
     "metadata": {
      "needs_background": "light"
     },
     "output_type": "display_data"
    }
   ],
   "source": [
    "plt.figure(figsize=(20,10),dpi=180)\n",
    "plt.scatter(x,y)\n",
    "for i,txt in enumerate(list_word_visual):\n",
    "    plt.annotate(txt,(x[i],y[i]))"
   ]
  },
  {
   "cell_type": "code",
   "execution_count": 650,
   "metadata": {},
   "outputs": [],
   "source": [
    "#glove构建词向量"
   ]
  },
  {
   "cell_type": "code",
   "execution_count": null,
   "metadata": {},
   "outputs": [],
   "source": []
  },
  {
   "cell_type": "code",
   "execution_count": null,
   "metadata": {},
   "outputs": [],
   "source": []
  },
  {
   "cell_type": "code",
   "execution_count": null,
   "metadata": {},
   "outputs": [],
   "source": []
  },
  {
   "cell_type": "code",
   "execution_count": null,
   "metadata": {},
   "outputs": [],
   "source": []
  },
  {
   "cell_type": "code",
   "execution_count": null,
   "metadata": {},
   "outputs": [],
   "source": []
  },
  {
   "cell_type": "code",
   "execution_count": null,
   "metadata": {},
   "outputs": [],
   "source": []
  },
  {
   "cell_type": "code",
   "execution_count": null,
   "metadata": {},
   "outputs": [],
   "source": []
  },
  {
   "cell_type": "code",
   "execution_count": null,
   "metadata": {},
   "outputs": [],
   "source": []
  }
 ],
 "metadata": {
  "kernelspec": {
   "display_name": "Python 3",
   "language": "python",
   "name": "python3"
  },
  "language_info": {
   "codemirror_mode": {
    "name": "ipython",
    "version": 3
   },
   "file_extension": ".py",
   "mimetype": "text/x-python",
   "name": "python",
   "nbconvert_exporter": "python",
   "pygments_lexer": "ipython3",
   "version": "3.8.3"
  }
 },
 "nbformat": 4,
 "nbformat_minor": 4
}
