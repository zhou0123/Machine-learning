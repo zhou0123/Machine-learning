{
 "cells": [
  {
   "cell_type": "code",
   "execution_count": 2,
   "metadata": {},
   "outputs": [],
   "source": [
    "import numpy as np\n",
    "import random"
   ]
  },
  {
   "cell_type": "code",
   "execution_count": 46,
   "metadata": {},
   "outputs": [],
   "source": [
    "def hinge(train,train_label,alpha,maxiter,learnrate):\n",
    "    m,n=train.shape\n",
    "    train_label=train_label.reshape((m,1))\n",
    "    w=np.random.randn(n,1)\n",
    "    b=0\n",
    "    Iter=0\n",
    "    while Iter<maxiter:\n",
    "        f_x=train.dot(w)+b\n",
    "        E_x=1-f_x*train_label\n",
    "        E_x1=(E_x+abs(E_x))/2\n",
    "        for i in range(len(E_x1)):\n",
    "            if E_x1[i][0]>0:\n",
    "                E_x1[i][0]=1\n",
    "            if E_x1[i][0]==0:\n",
    "                pass\n",
    "        #梯度下降\n",
    "        w=w+learnrate*((((E_x*train_label*train).T).dot(E_x1))+alpha*w)\n",
    "        b=b+learnrate*(train_label.T.dot(E_x1))\n",
    "        Iter+=1\n",
    "    return w,b"
   ]
  },
  {
   "cell_type": "code",
   "execution_count": 10,
   "metadata": {},
   "outputs": [],
   "source": [
    "import pandas as pd\n",
    "import numpy as np\n",
    "file=pd.read_csv('C:\\\\Users\\\\zhou\\\\Desktop\\\\train.csv')\n",
    "file1=pd.read_csv('C:\\\\Users\\\\zhou\\\\Desktop\\\\test.csv')\n",
    "file2=pd.read_csv('C:\\\\Users\\\\zhou\\\\Desktop\\\\gender_submission.csv')"
   ]
  },
  {
   "cell_type": "code",
   "execution_count": 11,
   "metadata": {},
   "outputs": [],
   "source": [
    "data_train=file.loc[0:,['Pclass','Sex','Age','SibSp','Parch','Fare']]\n",
    "data_train_label=file.loc[0:,'Survived']\n",
    "data_test=file1.loc[0:,['Pclass','Sex','Age','SibSp','Parch','Fare']]\n",
    "data_test_label=file2.iloc[0:,0:]"
   ]
  },
  {
   "cell_type": "code",
   "execution_count": 12,
   "metadata": {},
   "outputs": [],
   "source": [
    "count=0\n",
    "for i in data_train.loc[0:,'Sex']:\n",
    "    count+=1\n",
    "    if i=='female':\n",
    "        data_train.loc[0:,'Sex'][count-1]=0\n",
    "    if i=='male':\n",
    "        data_train.loc[0:,'Sex'][count-1]=1\n",
    "count=0\n",
    "for i in data_test.loc[0:,'Sex']:\n",
    "    count+=1\n",
    "    if i=='female':\n",
    "        data_test.loc[0:,'Sex'][count-1]=0\n",
    "    if i=='male':\n",
    "        data_test.loc[0:,'Sex'][count-1]=1"
   ]
  },
  {
   "cell_type": "code",
   "execution_count": 13,
   "metadata": {},
   "outputs": [],
   "source": [
    "data_others=np.array(data_train)[0:,[0,1,3,4,5]]\n",
    "data_age=np.array(data_train)[0:,[2]]\n",
    "data_test_others=np.array(data_test)[0:,[0,1,3,4,5]]\n",
    "data_test_age=np.array(data_test)[0:,[2]]"
   ]
  },
  {
   "cell_type": "code",
   "execution_count": 14,
   "metadata": {},
   "outputs": [],
   "source": [
    "nan_index_list=[]\n",
    "for i in range(891):\n",
    "    if pd.isnull(data_age[i][0]):\n",
    "        nan_index_list.append(i)  \n",
    "nan_test_index_list=[]\n",
    "for i in range(418):\n",
    "    if pd.isnull(data_test_age[i][0]):\n",
    "        nan_test_index_list.append(i) "
   ]
  },
  {
   "cell_type": "code",
   "execution_count": 15,
   "metadata": {},
   "outputs": [
    {
     "name": "stderr",
     "output_type": "stream",
     "text": [
      "C:\\Users\\zhou\\anaconda3\\lib\\site-packages\\numpy\\core\\_methods.py:34: RuntimeWarning: invalid value encountered in reduce\n",
      "  return umr_minimum(a, axis, None, out, keepdims, initial, where)\n",
      "C:\\Users\\zhou\\anaconda3\\lib\\site-packages\\numpy\\core\\_methods.py:30: RuntimeWarning: invalid value encountered in reduce\n",
      "  return umr_maximum(a, axis, None, out, keepdims, initial, where)\n"
     ]
    }
   ],
   "source": [
    "#归一化处理\n",
    "data_others=(data_others-data_others.min(axis=0))/(data_others.max(axis=0)-data_others.min(axis=0))\n",
    "data_test_others=(data_test_others-data_test_others.min(axis=0))/(data_test_others.max(axis=0)-data_test_others.min(axis=0))"
   ]
  },
  {
   "cell_type": "code",
   "execution_count": 16,
   "metadata": {},
   "outputs": [],
   "source": [
    "#利用knn算法补充age的缺失值\n",
    "def knn(nums,data_others,k,data_age):\n",
    "    data_size=data_others.shape[0]\n",
    "    diffmat=np.tile(data_others[nums],(data_size,1))-data_others\n",
    "    diffmat_sqr=diffmat**2\n",
    "    sqrdiff=diffmat_sqr.sum(axis=1)\n",
    "    distance_set=sqrdiff**0.5\n",
    "    distance_sort=np.argsort(distance_set)\n",
    "    list_near_average=[]\n",
    "    for i in range(k):\n",
    "        list_near_average.append(distance_sort[i])\n",
    "    average=[]\n",
    "    for i in list_near_average:\n",
    "        average.append(data_age[i][0])\n",
    "    average_new=[]\n",
    "    for i in average:\n",
    "        if pd.notnull(i):\n",
    "            average_new.append(i)\n",
    "    return sum(average_new)/len(average_new)\n",
    "for nums in nan_index_list:\n",
    "    data_train.loc[0:,'Age'][nums]=knn(nums,data_others,10,data_age)\n",
    "for nums1 in nan_test_index_list:\n",
    "    data_test.loc[0:,'Age'][nums1]=knn(nums1,data_test_others,10,data_test_age)"
   ]
  },
  {
   "cell_type": "code",
   "execution_count": 17,
   "metadata": {},
   "outputs": [],
   "source": [
    "data_train=np.array(data_train)\n",
    "data_train_label=np.array(data_train_label)"
   ]
  },
  {
   "cell_type": "code",
   "execution_count": 18,
   "metadata": {},
   "outputs": [],
   "source": [
    "data_test=np.array(data_test)\n",
    "data_test_label=np.array(data_test_label)\n",
    "data_test_label=data_test_label[0:,1]"
   ]
  },
  {
   "cell_type": "code",
   "execution_count": 19,
   "metadata": {},
   "outputs": [],
   "source": [
    "data_train=(data_train-data_train.min(axis=0))/(data_train.max(axis=0)-data_train.min(axis=0))"
   ]
  },
  {
   "cell_type": "code",
   "execution_count": 20,
   "metadata": {},
   "outputs": [],
   "source": [
    "data_test=(data_test-data_test.min(axis=0))/(data_test.max(axis=0)-data_test.min(axis=0))"
   ]
  },
  {
   "cell_type": "code",
   "execution_count": null,
   "metadata": {},
   "outputs": [],
   "source": []
  },
  {
   "cell_type": "code",
   "execution_count": 23,
   "metadata": {},
   "outputs": [],
   "source": [
    "for i in range(len(data_train_label)):\n",
    "    if data_train_label[i]==0:\n",
    "        data_train_label[i]=-1"
   ]
  },
  {
   "cell_type": "code",
   "execution_count": 24,
   "metadata": {},
   "outputs": [],
   "source": [
    "for i in range(len(data_test_label)):\n",
    "    if data_test_label[i]==0:\n",
    "        data_test_label[i]=-1"
   ]
  },
  {
   "cell_type": "code",
   "execution_count": 140,
   "metadata": {},
   "outputs": [],
   "source": [
    "w,b=hinge(data_train,data_train_label,0.3,200,0.002)"
   ]
  },
  {
   "cell_type": "code",
   "execution_count": 141,
   "metadata": {},
   "outputs": [
    {
     "name": "stdout",
     "output_type": "stream",
     "text": [
      "0.8086124401913876\n"
     ]
    }
   ],
   "source": [
    "count=0\n",
    "count1=0\n",
    "for sample in data_test:\n",
    "    count+=1\n",
    "    fx=sample.dot(w)+b\n",
    "    if fx[0][0]>0:\n",
    "        a=1\n",
    "    else:\n",
    "        a=-1\n",
    "    if a==data_test_label[count-1]:\n",
    "        count1+=1\n",
    "print(count1/count)"
   ]
  },
  {
   "cell_type": "code",
   "execution_count": 32,
   "metadata": {},
   "outputs": [],
   "source": []
  },
  {
   "cell_type": "code",
   "execution_count": 35,
   "metadata": {},
   "outputs": [],
   "source": []
  },
  {
   "cell_type": "code",
   "execution_count": null,
   "metadata": {},
   "outputs": [],
   "source": []
  },
  {
   "cell_type": "code",
   "execution_count": null,
   "metadata": {},
   "outputs": [],
   "source": []
  }
 ],
 "metadata": {
  "kernelspec": {
   "display_name": "Python 3",
   "language": "python",
   "name": "python3"
  },
  "language_info": {
   "codemirror_mode": {
    "name": "ipython",
    "version": 3
   },
   "file_extension": ".py",
   "mimetype": "text/x-python",
   "name": "python",
   "nbconvert_exporter": "python",
   "pygments_lexer": "ipython3",
   "version": "3.8.3"
  }
 },
 "nbformat": 4,
 "nbformat_minor": 4
}
