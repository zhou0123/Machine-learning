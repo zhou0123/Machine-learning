{
 "cells": [
  {
   "cell_type": "code",
   "execution_count": 15,
   "metadata": {},
   "outputs": [],
   "source": [
    "import torch\n",
    "import torch.nn as nn\n",
    "from torch.autograd import Variable\n",
    "import torch.nn.functional as F\n",
    "import torchvision.transforms as transforms\n",
    "from torchvision.datasets import ImageFolder\n",
    "import numpy as np\n",
    "import torch.optim as optim"
   ]
  },
  {
   "cell_type": "code",
   "execution_count": 33,
   "metadata": {},
   "outputs": [],
   "source": [
    "train_transform=transforms.Compose([\n",
    "    transforms.Resize(300),\n",
    "    transforms.RandomCrop(224),\n",
    "    transforms.RandomHorizontalFlip(),\n",
    "    transforms.RandomRotation(degrees=15),\n",
    "    transforms.ToTensor(),\n",
    "    transforms.Normalize((0.5,0.5,0.5),(0.5,0.5,0.5))\n",
    "])"
   ]
  },
  {
   "cell_type": "code",
   "execution_count": 34,
   "metadata": {},
   "outputs": [],
   "source": [
    "train_1=ImageFolder('./cats/',transform=train_transform)\n",
    "train_loader=torch.utils.data.DataLoader(dataset=train_1,batch_size=40,shuffle=True,num_workers=2)"
   ]
  },
  {
   "cell_type": "code",
   "execution_count": 35,
   "metadata": {},
   "outputs": [],
   "source": [
    "test_tranform=transforms.Compose([transforms.Resize(224),\n",
    "                                 transforms.ToTensor(),\n",
    "                                 transforms.Normalize(0.5,0.5,0.5),(0.5,0.5,0.5)])\n",
    "test_1=ImageFolder('./cats/',transform=test_tranform)\n",
    "test_loader=torch.utils.data.DataLoader(dataset=test_1,batch_size=40,shuffle=True,num_workers=2)"
   ]
  },
  {
   "cell_type": "code",
   "execution_count": 36,
   "metadata": {},
   "outputs": [],
   "source": [
    "class BasicBlock(nn.Module):\n",
    "    exp=1\n",
    "    def __init__(self,in_channels,channels,stride):\n",
    "        super(BasicBlock,self).__init__()\n",
    "        self.conv1=nn.Conv2d(in_channels,channels,kernel_size=3,padding=1,stride=stride,bias=False)\n",
    "        self.bn1=nn.BatchNorm2d(channels)\n",
    "        self.conv2=nn.Conv2d(channels,channels,kernel_size=3,padding=1,stride=1,bias=False)\n",
    "        self.bn2=nn.BatchNorm2d(channels)\n",
    "        \n",
    "        self.shortcut=nn.Sequential()\n",
    "        if stride!=1 or in_channels!=self.exp*channels:\n",
    "            self.shortcut=nn.Sequential(\n",
    "                nn.Conv2d(in_channels,self.exp*channels,kernel_size=3,padding=1,stride=stride,bias=False),\n",
    "                nn.BatchNorm2d(self.exp*channels)\n",
    "            )\n",
    "        \n",
    "        def forward(self,x):\n",
    "            out=F.relu(self.bn1(self.conv1(x)))\n",
    "            out=F.relu(self.bn2(self.conv2(out)))\n",
    "            out+=shortcut(x)\n",
    "            out=F.relu(out)\n",
    "            \n",
    "            return out\n",
    "            "
   ]
  },
  {
   "cell_type": "code",
   "execution_count": 37,
   "metadata": {},
   "outputs": [],
   "source": [
    "class Bottleneck(nn.Module):\n",
    "    exp=4\n",
    "    def __init__(self,in_channels,channels,stride):\n",
    "        super(Bottleneck,self).__init__()\n",
    "        \n",
    "        self.conv1=nn.Conv2d(in_channels,channels,kernel_size=1,stride=stride,padding=1,bias=False)\n",
    "        self.bn1=nn.BatchNorm2d(channels)\n",
    "        \n",
    "        self.conv2=nn.Conv2d(channels,channels,kernel_size=3,stride=1,padding=1,bias=False)\n",
    "        self.bn2=nn.BatchNorm2d(channels)\n",
    "        \n",
    "        self.conv3=nn.Conv2d(channels,channels*4,kernel_size=1,stride=1,padding=1,bias=False)\n",
    "        self.bn3=nn.BatchNorm2d(channels*4)\n",
    "        \n",
    "        self.shortcut=nn.Sequential()\n",
    "        if in_channels!=channels*4 or stride!=1:\n",
    "            self.shortcut=nn.Sequential(\n",
    "                nn.Conv2d(in_channels,4*channels,kernel_size=3,stride=stride,padding=1,bias=False),\n",
    "                nn.BatchNorm2d(4*channels)\n",
    "            )\n",
    "    \n",
    "    def forward(self,x):\n",
    "        out=F.relu(self.bn1(self.conv1(x)))\n",
    "        out=F.relu(self.bn2(self.conv2(out)))\n",
    "        out=F.relu(self.bn3(self.conv3(out)))\n",
    "        \n",
    "        out+=self.shortcut(x)\n",
    "        out=F.relu(out)\n",
    "        \n",
    "        return out\n",
    "        "
   ]
  },
  {
   "cell_type": "code",
   "execution_count": 38,
   "metadata": {},
   "outputs": [],
   "source": [
    "class res(nn.Module):\n",
    "    def __init__(self,num_list,block,num_class=2):\n",
    "        super(res,self).__init__()\n",
    "        self.in_channels=64\n",
    "        \n",
    "        self.conv1=nn.Conv2d(3,64,kernel_size=7,stride=2,padding=3,bias=False)\n",
    "        self.bn1=nn.BatchNorm2d(64)\n",
    "        self.pool1=nn.MaxPool2d(kernel_size=3,stride=2,padding=1)\n",
    "        \n",
    "        self.layer1=self.make_layers(num_list[0],block,64,stride=1)\n",
    "        self.layer2=self.make_layers(num_list[1],block,128,stride=2)\n",
    "        self.layer3=self.make_layers(num_list[2],block,256,stride=2)\n",
    "        self.layer4=self.make_layers(num_list[3],block,512,stride=2)\n",
    "        \n",
    "        self.avgpool=nn.AdaptiveAvgPool2d((1,1))\n",
    "        self.fc=nn.Linear(512*block.exp,num_class)\n",
    "        \n",
    "        \n",
    "    def make_layers(self,nums,block,channels,stride):\n",
    "        strides=[stride]+[1]*(nums-1)\n",
    "        layers=[]\n",
    "        for stride in strides:\n",
    "            layers.append(block(self.in_channels,channels,stride))\n",
    "            self.in_channels=self.in_channels*block.exp\n",
    "        layers=nn.Sequential(*layers)\n",
    "        \n",
    "        return layers\n",
    "    \n",
    "    def forward(self,x):\n",
    "        \n",
    "        out=self.pool1(self.bn1(self.conv1(x)))\n",
    "        out=self.layer1(out)\n",
    "        out=self.layer2(out)\n",
    "        out=self.layer3(out)\n",
    "        out=self.layer4(out)\n",
    "        \n",
    "        out=self.avgpool(out)\n",
    "        out=out.reshape(out.shape[0],-1)\n",
    "        out=self.fc(out)\n",
    "        \n",
    "        return out"
   ]
  },
  {
   "cell_type": "code",
   "execution_count": 39,
   "metadata": {},
   "outputs": [],
   "source": [
    "def ResNet18():\n",
    "    return res([2,2,2,2],BasicBlock)\n",
    "def ResNet34():\n",
    "    return res([3,4,6,3],BasicBlock)\n",
    "def ResNet50():\n",
    "    return res([3,4,6,3],Bottleneck)\n",
    "def ResNet101():\n",
    "    return res([3,4,23,3],Bottleneck)\n",
    "def ResNet152():\n",
    "    return res([3,8,36,3],Bottleneck)"
   ]
  },
  {
   "cell_type": "code",
   "execution_count": 40,
   "metadata": {},
   "outputs": [],
   "source": [
    "resnet=ResNet18().to('cuda:0')"
   ]
  },
  {
   "cell_type": "code",
   "execution_count": 41,
   "metadata": {},
   "outputs": [],
   "source": [
    "loss=nn.CrossEntropyLoss()\n",
    "optimizer=optim.Adam(resnet.parameters(),lr=0.0002)"
   ]
  },
  {
   "cell_type": "code",
   "execution_count": 50,
   "metadata": {},
   "outputs": [],
   "source": [
    "def train(model,loss_f,optimizer,train_loader,epoches=100):\n",
    "    device=torch.device('cuda:0')\n",
    "    for i in range(epoches):\n",
    "        model.train()\n",
    "        \n",
    "        for images,labels in train_loader:\n",
    "            inputs = inputs.to(device)\n",
    "            labels = labels.to(device)\n",
    "            optimizer.zero_gard()\n",
    "            \n",
    "            outputs=model(images)\n",
    "            \n",
    "            loss=loss_f(outputs,labels)\n",
    "            \n",
    "            loss.backward()\n",
    "            \n",
    "            optimizer.step()\n",
    "            \n",
    "    return model"
   ]
  },
  {
   "cell_type": "code",
   "execution_count": null,
   "metadata": {},
   "outputs": [],
   "source": [
    "\n"
   ]
  },
  {
   "cell_type": "code",
   "execution_count": null,
   "metadata": {},
   "outputs": [],
   "source": []
  }
 ],
 "metadata": {
  "kernelspec": {
   "display_name": "Python 3",
   "language": "python",
   "name": "python3"
  },
  "language_info": {
   "codemirror_mode": {
    "name": "ipython",
    "version": 3
   },
   "file_extension": ".py",
   "mimetype": "text/x-python",
   "name": "python",
   "nbconvert_exporter": "python",
   "pygments_lexer": "ipython3",
   "version": "3.8.3"
  }
 },
 "nbformat": 4,
 "nbformat_minor": 4
}
