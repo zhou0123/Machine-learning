{
 "cells": [
  {
   "cell_type": "code",
   "execution_count": 2,
   "metadata": {},
   "outputs": [],
   "source": [
    "from PIL import Image\n",
    "import zipfile"
   ]
  },
  {
   "cell_type": "code",
   "execution_count": null,
   "metadata": {},
   "outputs": [],
   "source": [
    "f=zipfile.ZipFile('./cupdata.zip','r')\n",
    "for file in f.namelist():\n",
    "    f.extract(file,\"./cupdata\") #解压到的位置，./表示当前目录(与此.ipynb文件同一个目录)\n",
    "f.close()"
   ]
  },
  {
   "cell_type": "code",
   "execution_count": null,
   "metadata": {},
   "outputs": [],
   "source": []
  },
  {
   "cell_type": "code",
   "execution_count": 3,
   "metadata": {},
   "outputs": [],
   "source": [
    "import os\n",
    "import cv2\n",
    "import numpy as np"
   ]
  },
  {
   "cell_type": "code",
   "execution_count": 4,
   "metadata": {},
   "outputs": [],
   "source": [
    "def read_directory(directory_name):\n",
    "    array_of_img=[]\n",
    "    for filename in os.listdir(r\"./\"+directory_name):\n",
    "        img = cv2.imread(directory_name + \"/\" + filename,0)\n",
    "        array_of_img.append(img)\n",
    "    return array_of_img"
   ]
  },
  {
   "cell_type": "code",
   "execution_count": 5,
   "metadata": {},
   "outputs": [
    {
     "name": "stdout",
     "output_type": "stream",
     "text": [
      "(8, 500, 600)\n"
     ]
    }
   ],
   "source": [
    "all_pic=read_directory('./cupdata')\n",
    "all_pic = np.array(all_pic[1:])\n",
    "print(all_pic.shape)"
   ]
  },
  {
   "cell_type": "code",
   "execution_count": 789,
   "metadata": {},
   "outputs": [],
   "source": [
    "f=zipfile.ZipFile('./visualize_Test1.zip','r')\n",
    "for file in f.namelist():\n",
    "    f.extract(file) #解压到的位置，./表示当前目录(与此.ipynb文件同一个目录)\n",
    "f.close()"
   ]
  },
  {
   "cell_type": "code",
   "execution_count": 753,
   "metadata": {},
   "outputs": [],
   "source": [
    "#all_pic=all_pic[1:]"
   ]
  },
  {
   "cell_type": "code",
   "execution_count": 790,
   "metadata": {},
   "outputs": [
    {
     "ename": "NotADirectoryError",
     "evalue": "[WinError 267] 目录名称无效。: '././visualize_Test1.png'",
     "output_type": "error",
     "traceback": [
      "\u001b[1;31m---------------------------------------------------------------------------\u001b[0m",
      "\u001b[1;31mNotADirectoryError\u001b[0m                        Traceback (most recent call last)",
      "\u001b[1;32m<ipython-input-790-e3f7d732ee21>\u001b[0m in \u001b[0;36m<module>\u001b[1;34m\u001b[0m\n\u001b[1;32m----> 1\u001b[1;33m \u001b[0mall_pic2\u001b[0m\u001b[1;33m=\u001b[0m\u001b[0mread_directory\u001b[0m\u001b[1;33m(\u001b[0m\u001b[1;34m'./visualize_Test1.png'\u001b[0m\u001b[1;33m)\u001b[0m\u001b[1;33m\u001b[0m\u001b[1;33m\u001b[0m\u001b[0m\n\u001b[0m\u001b[0;32m      2\u001b[0m \u001b[1;31m#all_pic2=all_pic2[1:]\u001b[0m\u001b[1;33m\u001b[0m\u001b[1;33m\u001b[0m\u001b[1;33m\u001b[0m\u001b[0m\n\u001b[0;32m      3\u001b[0m \u001b[0mall_pic2\u001b[0m \u001b[1;33m=\u001b[0m \u001b[0mnp\u001b[0m\u001b[1;33m.\u001b[0m\u001b[0marray\u001b[0m\u001b[1;33m(\u001b[0m\u001b[0mall_pic2\u001b[0m\u001b[1;33m[\u001b[0m\u001b[1;36m1\u001b[0m\u001b[1;33m:\u001b[0m\u001b[1;33m]\u001b[0m\u001b[1;33m)\u001b[0m\u001b[1;33m\u001b[0m\u001b[1;33m\u001b[0m\u001b[0m\n\u001b[0;32m      4\u001b[0m \u001b[0mprint\u001b[0m\u001b[1;33m(\u001b[0m\u001b[0mall_pic2\u001b[0m\u001b[1;33m.\u001b[0m\u001b[0mshape\u001b[0m\u001b[1;33m)\u001b[0m\u001b[1;33m\u001b[0m\u001b[1;33m\u001b[0m\u001b[0m\n\u001b[0;32m      5\u001b[0m \u001b[1;31m#all_pic2[all_pic2 == 0] = 255\u001b[0m\u001b[1;33m\u001b[0m\u001b[1;33m\u001b[0m\u001b[1;33m\u001b[0m\u001b[0m\n",
      "\u001b[1;32m<ipython-input-4-4970d286c467>\u001b[0m in \u001b[0;36mread_directory\u001b[1;34m(directory_name)\u001b[0m\n\u001b[0;32m      1\u001b[0m \u001b[1;32mdef\u001b[0m \u001b[0mread_directory\u001b[0m\u001b[1;33m(\u001b[0m\u001b[0mdirectory_name\u001b[0m\u001b[1;33m)\u001b[0m\u001b[1;33m:\u001b[0m\u001b[1;33m\u001b[0m\u001b[1;33m\u001b[0m\u001b[0m\n\u001b[0;32m      2\u001b[0m     \u001b[0marray_of_img\u001b[0m\u001b[1;33m=\u001b[0m\u001b[1;33m[\u001b[0m\u001b[1;33m]\u001b[0m\u001b[1;33m\u001b[0m\u001b[1;33m\u001b[0m\u001b[0m\n\u001b[1;32m----> 3\u001b[1;33m     \u001b[1;32mfor\u001b[0m \u001b[0mfilename\u001b[0m \u001b[1;32min\u001b[0m \u001b[0mos\u001b[0m\u001b[1;33m.\u001b[0m\u001b[0mlistdir\u001b[0m\u001b[1;33m(\u001b[0m\u001b[1;34mr\"./\"\u001b[0m\u001b[1;33m+\u001b[0m\u001b[0mdirectory_name\u001b[0m\u001b[1;33m)\u001b[0m\u001b[1;33m:\u001b[0m\u001b[1;33m\u001b[0m\u001b[1;33m\u001b[0m\u001b[0m\n\u001b[0m\u001b[0;32m      4\u001b[0m         \u001b[0mimg\u001b[0m \u001b[1;33m=\u001b[0m \u001b[0mcv2\u001b[0m\u001b[1;33m.\u001b[0m\u001b[0mimread\u001b[0m\u001b[1;33m(\u001b[0m\u001b[0mdirectory_name\u001b[0m \u001b[1;33m+\u001b[0m \u001b[1;34m\"/\"\u001b[0m \u001b[1;33m+\u001b[0m \u001b[0mfilename\u001b[0m\u001b[1;33m,\u001b[0m\u001b[1;36m0\u001b[0m\u001b[1;33m)\u001b[0m\u001b[1;33m\u001b[0m\u001b[1;33m\u001b[0m\u001b[0m\n\u001b[0;32m      5\u001b[0m         \u001b[0marray_of_img\u001b[0m\u001b[1;33m.\u001b[0m\u001b[0mappend\u001b[0m\u001b[1;33m(\u001b[0m\u001b[0mimg\u001b[0m\u001b[1;33m)\u001b[0m\u001b[1;33m\u001b[0m\u001b[1;33m\u001b[0m\u001b[0m\n",
      "\u001b[1;31mNotADirectoryError\u001b[0m: [WinError 267] 目录名称无效。: '././visualize_Test1.png'"
     ]
    }
   ],
   "source": [
    "all_pic2=read_directory('./visualize_Test1.png')\n",
    "#all_pic2=all_pic2[1:]\n",
    "all_pic2 = np.array(all_pic2[1:])\n",
    "print(all_pic2.shape)\n",
    "#all_pic2[all_pic2 == 0] = 255\n",
    "all_pic2[all_pic2 == 14] = 255\n",
    "#print(sum(all_pic2[all_pic2 != 0]))"
   ]
  },
  {
   "cell_type": "code",
   "execution_count": null,
   "metadata": {},
   "outputs": [],
   "source": []
  },
  {
   "cell_type": "code",
   "execution_count": 755,
   "metadata": {},
   "outputs": [
    {
     "name": "stdout",
     "output_type": "stream",
     "text": [
      "[[255 255 255 ... 255 255 255]\n",
      " [255 255 255 ... 255 255 255]\n",
      " [255 255 255 ... 255 255 255]\n",
      " ...\n",
      " [255 255 255 ... 255 255 255]\n",
      " [255 255 255 ... 255 255 255]\n",
      " [255 255 255 ... 255 255 255]]\n"
     ]
    }
   ],
   "source": [
    "print(all_pic2[1])"
   ]
  },
  {
   "cell_type": "code",
   "execution_count": 756,
   "metadata": {},
   "outputs": [
    {
     "name": "stdout",
     "output_type": "stream",
     "text": [
      "[[1 1 1 ... 1 1 1]\n",
      " [1 1 1 ... 1 1 1]\n",
      " [1 1 1 ... 1 1 1]\n",
      " ...\n",
      " [1 1 1 ... 1 1 1]\n",
      " [1 1 1 ... 1 1 1]\n",
      " [1 1 1 ... 1 1 1]]\n"
     ]
    }
   ],
   "source": [
    "print(all_pic[1])"
   ]
  },
  {
   "cell_type": "code",
   "execution_count": 757,
   "metadata": {},
   "outputs": [],
   "source": [
    "from matplotlib import pyplot as plt"
   ]
  },
  {
   "cell_type": "code",
   "execution_count": 758,
   "metadata": {},
   "outputs": [
    {
     "data": {
      "image/png": "[encoded data removed]",
      "text/plain": [
       "<Figure size 432x288 with 1 Axes>"
      ]
     },
     "metadata": {
      "needs_background": "light"
     },
     "output_type": "display_data"
    }
   ],
   "source": [
    "plt.imshow(all_pic2[5])\n",
    "plt.show()"
   ]
  },
  {
   "cell_type": "code",
   "execution_count": 759,
   "metadata": {},
   "outputs": [
    {
     "data": {
      "image/png": "[encoded data removed]",
      "text/plain": [
       "<Figure size 432x288 with 1 Axes>"
      ]
     },
     "metadata": {
      "needs_background": "light"
     },
     "output_type": "display_data"
    }
   ],
   "source": [
    "plt.imshow(all_pic[5])\n",
    "plt.show()"
   ]
  },
  {
   "cell_type": "code",
   "execution_count": 760,
   "metadata": {},
   "outputs": [],
   "source": [
    "import numpy as np"
   ]
  },
  {
   "cell_type": "code",
   "execution_count": 761,
   "metadata": {},
   "outputs": [
    {
     "data": {
      "text/plain": [
       "0"
      ]
     },
     "execution_count": 761,
     "metadata": {},
     "output_type": "execute_result"
    }
   ],
   "source": [
    "all_pic[all_pic == 255] = 1\n",
    "all_pic2[all_pic2 == 255] = 1\n",
    "np.sum(all_pic2[all_pic2 == 255])"
   ]
  },
  {
   "cell_type": "code",
   "execution_count": 762,
   "metadata": {},
   "outputs": [],
   "source": [
    "D = all_pic[0] - all_pic2[0]\n"
   ]
  },
  {
   "cell_type": "code",
   "execution_count": 763,
   "metadata": {},
   "outputs": [
    {
     "data": {
      "text/plain": [
       "array([[0, 0, 0, ..., 0, 0, 0],\n",
       "       [0, 0, 0, ..., 0, 0, 0],\n",
       "       [0, 0, 0, ..., 0, 0, 0],\n",
       "       ...,\n",
       "       [0, 0, 0, ..., 0, 0, 0],\n",
       "       [0, 0, 0, ..., 0, 0, 0],\n",
       "       [0, 0, 0, ..., 0, 0, 0]], dtype=uint8)"
      ]
     },
     "execution_count": 763,
     "metadata": {},
     "output_type": "execute_result"
    }
   ],
   "source": [
    "all_pic2[0]"
   ]
  },
  {
   "cell_type": "code",
   "execution_count": 764,
   "metadata": {},
   "outputs": [
    {
     "data": {
      "text/plain": [
       "array([[False, False, False],\n",
       "       [ True,  True,  True]])"
      ]
     },
     "execution_count": 764,
     "metadata": {},
     "output_type": "execute_result"
    }
   ],
   "source": [
    "#每个像素的绝对距离\n",
    "a = np.array([[0,1,1],[1,0,0]])\n",
    "b = np.array([[1,0,0],[1,0,0]])\n",
    "a == b"
   ]
  },
  {
   "cell_type": "code",
   "execution_count": 765,
   "metadata": {},
   "outputs": [
    {
     "data": {
      "text/plain": [
       "0.89559"
      ]
     },
     "execution_count": 765,
     "metadata": {},
     "output_type": "execute_result"
    }
   ],
   "source": [
    "np.sum(all_pic[0] == all_pic2[0])/(500*600)"
   ]
  },
  {
   "cell_type": "code",
   "execution_count": 766,
   "metadata": {},
   "outputs": [
    {
     "data": {
      "text/plain": [
       "[0.89559,\n",
       " 0.95989,\n",
       " 0.9079666666666667,\n",
       " 0.9135233333333334,\n",
       " 0.9292366666666667,\n",
       " 0.95606,\n",
       " 0.9440833333333334,\n",
       " 0.94245]"
      ]
     },
     "execution_count": 766,
     "metadata": {},
     "output_type": "execute_result"
    }
   ],
   "source": [
    "#绝对距离\n",
    "distance = []\n",
    "for i in range(8):\n",
    "    a= np.sum(all_pic[i]==all_pic2[i]) / (500*600)\n",
    "    distance.append(a)\n",
    "distance"
   ]
  },
  {
   "cell_type": "code",
   "execution_count": 767,
   "metadata": {},
   "outputs": [],
   "source": [
    "#占比差/占比"
   ]
  },
  {
   "cell_type": "code",
   "execution_count": 768,
   "metadata": {},
   "outputs": [],
   "source": [
    "place_1=[]\n",
    "place_2=[]\n",
    "for i in range(8):\n",
    "    place_1.append(np.sum(np.sum(all_pic2[i]))/(500*600))\n",
    "    place_2.append(np.sum(np.sum(all_pic[i]))/(500*600))"
   ]
  },
  {
   "cell_type": "code",
   "execution_count": 769,
   "metadata": {},
   "outputs": [
    {
     "data": {
      "text/plain": [
       "[0.79119,\n",
       " 0.8633233333333333,\n",
       " 0.6808333333333333,\n",
       " 0.7346666666666667,\n",
       " 0.5287366666666666,\n",
       " 0.8519633333333333,\n",
       " 0.6687,\n",
       " 0.8589133333333333]"
      ]
     },
     "execution_count": 769,
     "metadata": {},
     "output_type": "execute_result"
    }
   ],
   "source": [
    "place_1"
   ]
  },
  {
   "cell_type": "code",
   "execution_count": 770,
   "metadata": {},
   "outputs": [
    {
     "data": {
      "text/plain": [
       "[0.8329266666666667,\n",
       " 0.8422666666666667,\n",
       " 0.70042,\n",
       " 0.7468366666666667,\n",
       " 0.5533533333333334,\n",
       " 0.8556166666666667,\n",
       " 0.6802366666666667,\n",
       " 0.8389366666666667]"
      ]
     },
     "execution_count": 770,
     "metadata": {},
     "output_type": "execute_result"
    }
   ],
   "source": [
    "place_2"
   ]
  },
  {
   "cell_type": "code",
   "execution_count": 771,
   "metadata": {},
   "outputs": [],
   "source": [
    "arr_1=np.array(place_1)"
   ]
  },
  {
   "cell_type": "code",
   "execution_count": 772,
   "metadata": {},
   "outputs": [],
   "source": [
    "arr_2=np.array(place_2)"
   ]
  },
  {
   "cell_type": "code",
   "execution_count": 773,
   "metadata": {},
   "outputs": [],
   "source": [
    "#均方误差"
   ]
  },
  {
   "cell_type": "code",
   "execution_count": 774,
   "metadata": {},
   "outputs": [],
   "source": [
    "a=(sum((arr_1-arr_2)**2))/8"
   ]
  },
  {
   "cell_type": "code",
   "execution_count": 775,
   "metadata": {},
   "outputs": [
    {
     "data": {
      "text/plain": [
       "0.00048357099722222397"
      ]
     },
     "execution_count": 775,
     "metadata": {},
     "output_type": "execute_result"
    }
   ],
   "source": [
    "a"
   ]
  },
  {
   "cell_type": "code",
   "execution_count": 776,
   "metadata": {},
   "outputs": [],
   "source": [
    "#均方根误差"
   ]
  },
  {
   "cell_type": "code",
   "execution_count": 777,
   "metadata": {},
   "outputs": [
    {
     "data": {
      "text/plain": [
       "0.021990247775371334"
      ]
     },
     "execution_count": 777,
     "metadata": {},
     "output_type": "execute_result"
    }
   ],
   "source": [
    "a**0.5"
   ]
  },
  {
   "cell_type": "code",
   "execution_count": 778,
   "metadata": {},
   "outputs": [],
   "source": [
    "#平均并交比"
   ]
  },
  {
   "cell_type": "code",
   "execution_count": 779,
   "metadata": {},
   "outputs": [],
   "source": [
    "import numpy as np\n",
    "import glob\n",
    "import tqdm\n",
    "from PIL import Image\n",
    "import cv2 as cv\n",
    "import os\n",
    "from sklearn.metrics import confusion_matrix,cohen_kappa_score\n",
    "from skimage import io\n",
    "from skimage import measure\n",
    "from scipy import ndimage\n",
    "from sklearn.metrics import f1_score"
   ]
  },
  {
   "cell_type": "code",
   "execution_count": 780,
   "metadata": {},
   "outputs": [],
   "source": [
    "def compute_f1(prediction, target):\n",
    "    \"\"\"\n",
    "    :param prediction: 2d array, int,\n",
    "            estimated targets as returned by a classifier\n",
    "    :param target: 2d array, int,\n",
    "            ground truth\n",
    "    :return:\n",
    "        f1: float\n",
    "    \"\"\"\n",
    "    prediction.tolist(), target.tolist()\n",
    "    img, target = np.array(prediction).flatten(), np.array(target).flatten()\n",
    "    f1 = f1_score(y_true=target, y_pred=img)\n",
    "    return  f1"
   ]
  },
  {
   "cell_type": "code",
   "execution_count": 781,
   "metadata": {},
   "outputs": [],
   "source": [
    "list_f1=[]"
   ]
  },
  {
   "cell_type": "code",
   "execution_count": 782,
   "metadata": {},
   "outputs": [],
   "source": [
    "for i in range(8):\n",
    "    list_f1.append(compute_f1(all_pic2[i],all_pic[i]))"
   ]
  },
  {
   "cell_type": "code",
   "execution_count": 783,
   "metadata": {},
   "outputs": [
    {
     "data": {
      "text/plain": [
       "[0.9357127464160006,\n",
       " 0.9764832110882452,\n",
       " 0.9333696932254762,\n",
       " 0.9416291109706131,\n",
       " 0.9346049466002518,\n",
       " 0.9742676770634464,\n",
       " 0.9585475967490444,\n",
       " 0.9661041905939864]"
      ]
     },
     "execution_count": 783,
     "metadata": {},
     "output_type": "execute_result"
    }
   ],
   "source": [
    "list_f1"
   ]
  },
  {
   "cell_type": "code",
   "execution_count": 784,
   "metadata": {},
   "outputs": [],
   "source": [
    "def mean_iou(input, target, classes = 2):\n",
    "    \"\"\"  compute the value of mean iou\n",
    "    :param input:  2d array, int, prediction\n",
    "    :param target: 2d array, int, ground truth\n",
    "    :param classes: int, the number of class\n",
    "    :return:\n",
    "        miou: float, the value of miou\n",
    "    \"\"\"\n",
    "    miou = 0\n",
    "    for i in range(classes):\n",
    "        intersection = np.logical_and(target == i, input == i)\n",
    "        # print(intersection.any())\n",
    "        union = np.logical_or(target == i, input == i)\n",
    "        temp = np.sum(intersection) / np.sum(union)\n",
    "        miou += temp\n",
    "    return  miou/classes"
   ]
  },
  {
   "cell_type": "code",
   "execution_count": 785,
   "metadata": {},
   "outputs": [],
   "source": [
    "list_mean_iou=[]"
   ]
  },
  {
   "cell_type": "code",
   "execution_count": 786,
   "metadata": {},
   "outputs": [],
   "source": [
    "for i in range(8):\n",
    "    list_mean_iou.append(mean_iou(all_pic2[i],all_pic[i],classes=2))"
   ]
  },
  {
   "cell_type": "code",
   "execution_count": 787,
   "metadata": {},
   "outputs": [
    {
     "data": {
      "text/plain": [
       "[0.7222079713591094,\n",
       " 0.8571203987596903,\n",
       " 0.8080497928926798,\n",
       " 0.8019054215273664,\n",
       " 0.8670449343092301,\n",
       " 0.8442793735430931,\n",
       " 0.8811052165214877,\n",
       " 0.8072210096592527]"
      ]
     },
     "execution_count": 787,
     "metadata": {},
     "output_type": "execute_result"
    }
   ],
   "source": [
    "list_mean_iou"
   ]
  },
  {
   "cell_type": "code",
   "execution_count": 680,
   "metadata": {},
   "outputs": [],
   "source": [
    "def iou(input, target, classes=1):\n",
    "    \n",
    "    intersection = np.logical_and(target == classes, input == classes)\n",
    "    \n",
    "    union = np.logical_or(target == classes, input == classes)\n",
    "    iou = np.sum(intersection) / np.sum(union)\n",
    "    return iou"
   ]
  },
  {
   "cell_type": "code",
   "execution_count": 681,
   "metadata": {},
   "outputs": [],
   "source": [
    "list_iou=[]"
   ]
  },
  {
   "cell_type": "code",
   "execution_count": 682,
   "metadata": {},
   "outputs": [],
   "source": [
    "for i in range(8):\n",
    "    list_iou.append(iou(all_pic2[i],all_pic[i],classes=1))"
   ]
  },
  {
   "cell_type": "code",
   "execution_count": 683,
   "metadata": {},
   "outputs": [
    {
     "data": {
      "text/plain": [
       "[0.8791919129586275,\n",
       " 0.9540470871283726,\n",
       " 0.8750639160516397,\n",
       " 0.8896967223221385,\n",
       " 0.8772379256106587,\n",
       " 0.9498264364666119,\n",
       " 0.9203950115789074,\n",
       " 0.9344308989404124]"
      ]
     },
     "execution_count": 683,
     "metadata": {},
     "output_type": "execute_result"
    }
   ],
   "source": [
    "list_iou"
   ]
  },
  {
   "cell_type": "code",
   "execution_count": 684,
   "metadata": {},
   "outputs": [],
   "source": [
    "def compute_kappa(prediction, target):\n",
    "    \"\"\"\n",
    "    :param prediction: 2d array, int,\n",
    "            estimated targets as returned by a classifier\n",
    "    :param target: 2d array, int,\n",
    "            ground truth\n",
    "    :return:\n",
    "        kappa: float\n",
    "    \"\"\"\n",
    "    prediction.tolist(), target.tolist()\n",
    "    img, target = np.array(prediction).flatten(), np.array(target).flatten()\n",
    "    kappa = cohen_kappa_score(target, img)\n",
    "    return  kappa"
   ]
  },
  {
   "cell_type": "code",
   "execution_count": 685,
   "metadata": {},
   "outputs": [],
   "source": [
    "list_kappa = []\n",
    "for i in range(8):\n",
    "    list_kappa.append(compute_kappa(np.array(all_pic2[i],dtype=int),np.array(all_pic[i],dtype=int)))"
   ]
  },
  {
   "cell_type": "code",
   "execution_count": 686,
   "metadata": {},
   "outputs": [
    {
     "data": {
      "text/plain": [
       "[0.6589136495280412,\n",
       " 0.8403855689686603,\n",
       " 0.7847247849450503,\n",
       " 0.7748890576084091,\n",
       " 0.857600024497688,\n",
       " 0.8240090613268908,\n",
       " 0.8726817496409583,\n",
       " 0.7758102774806207]"
      ]
     },
     "execution_count": 686,
     "metadata": {},
     "output_type": "execute_result"
    }
   ],
   "source": [
    "list_kappa"
   ]
  },
  {
   "cell_type": "code",
   "execution_count": 687,
   "metadata": {},
   "outputs": [],
   "source": [
    "list_acc=[]"
   ]
  },
  {
   "cell_type": "code",
   "execution_count": 688,
   "metadata": {},
   "outputs": [],
   "source": [
    "for i in range(8):\n",
    "    matrix = confusion_matrix(y_true=np.array(all_pic[i]).flatten(), y_pred=np.array(all_pic2[i]).flatten())\n",
    "    acc = np.diag(matrix).sum() / matrix.sum()\n",
    "    list_acc.append(acc)"
   ]
  },
  {
   "cell_type": "code",
   "execution_count": 689,
   "metadata": {},
   "outputs": [
    {
     "data": {
      "text/plain": [
       "[0.89559,\n",
       " 0.95989,\n",
       " 0.9079666666666667,\n",
       " 0.9135233333333334,\n",
       " 0.9292366666666667,\n",
       " 0.95606,\n",
       " 0.9440833333333334,\n",
       " 0.94245]"
      ]
     },
     "execution_count": 689,
     "metadata": {},
     "output_type": "execute_result"
    }
   ],
   "source": [
    "list_acc"
   ]
  },
  {
   "cell_type": "code",
   "execution_count": null,
   "metadata": {},
   "outputs": [],
   "source": []
  },
  {
   "cell_type": "code",
   "execution_count": 690,
   "metadata": {},
   "outputs": [],
   "source": [
    "\"\"\"\n",
    "refer to https://github.com/jfzhang95/pytorch-deeplab-xception/blob/master/utils/metrics.py\n",
    "\"\"\"\n",
    "import numpy as np\n",
    "__all__ = ['SegmentationMetric']\n",
    " \n",
    "\"\"\"\n",
    "confusionMetric  # 注意：此处横着代表预测值，竖着代表真实值，与之前介绍的相反\n",
    "P\\L     P    N\n",
    "P      TP    FP\n",
    "N      FN    TN\n",
    "\"\"\"\n",
    "class SegmentationMetric(object):\n",
    "    def __init__(self, numClass):\n",
    "        self.numClass = numClass\n",
    "        self.confusionMatrix = np.zeros((self.numClass,)*2)\n",
    " \n",
    "    def pixelAccuracy(self):\n",
    "        # return all class overall pixel accuracy\n",
    "        #  PA = acc = (TP + TN) / (TP + TN + FP + TN)\n",
    "        acc = np.diag(self.confusionMatrix).sum() /  self.confusionMatrix.sum()\n",
    "        return acc\n",
    " \n",
    "    def classPixelAccuracy(self):\n",
    "        # return each category pixel accuracy(A more accurate way to call it precision)\n",
    "        # acc = (TP) / TP + FP\n",
    "        classAcc = np.diag(self.confusionMatrix) / self.confusionMatrix.sum(axis=1)\n",
    "        return classAcc # 返回的是一个列表值，如：[0.90, 0.80, 0.96]，表示类别1 2 3各类别的预测准确率\n",
    " \n",
    "    def meanPixelAccuracy(self):\n",
    "        classAcc = self.classPixelAccuracy()\n",
    "        meanAcc = np.nanmean(classAcc) # np.nanmean 求平均值，nan表示遇到Nan类型，其值取为0\n",
    "        return meanAcc # 返回单个值，如：np.nanmean([0.90, 0.80, 0.96, nan, nan]) = (0.90 + 0.80 + 0.96） / 3 =  0.89\n",
    " \n",
    "    def meanIntersectionOverUnion(self):\n",
    "        # Intersection = TP Union = TP + FP + FN\n",
    "        # IoU = TP / (TP + FP + FN)\n",
    "        intersection = np.diag(self.confusionMatrix) # 取对角元素的值，返回列表\n",
    "        union = np.sum(self.confusionMatrix, axis=1) + np.sum(self.confusionMatrix, axis=0) - np.diag(self.confusionMatrix) # axis = 1表示混淆矩阵行的值，返回列表； axis = 0表示取混淆矩阵列的值，返回列表 \n",
    "        IoU = intersection / union  # 返回列表，其值为各个类别的IoU\n",
    "        mIoU = np.nanmean(IoU) # 求各类别IoU的平均\n",
    "        return mIoU\n",
    " \n",
    "    def genConfusionMatrix(self, imgPredict, imgLabel): # 同FCN中score.py的fast_hist()函数\n",
    "        # remove classes from unlabeled pixels in gt image and predict\n",
    "        mask = (imgLabel >= 0) & (imgLabel < self.numClass)\n",
    "        label = self.numClass * imgLabel[mask] + imgPredict[mask]\n",
    "        count = np.bincount(label, minlength=self.numClass**2)\n",
    "        confusionMatrix = count.reshape(self.numClass, self.numClass)\n",
    "        return confusionMatrix\n",
    " \n",
    "    def Frequency_Weighted_Intersection_over_Union(self):\n",
    "        # FWIOU =     [(TP+FN)/(TP+FP+TN+FN)] *[TP / (TP + FP + FN)]\n",
    "        freq = np.sum(self.confusion_matrix, axis=1) / np.sum(self.confusion_matrix)\n",
    "        iu = np.diag(self.confusion_matrix) / (\n",
    "                np.sum(self.confusion_matrix, axis=1) + np.sum(self.confusion_matrix, axis=0) -\n",
    "                np.diag(self.confusion_matrix))\n",
    "        FWIoU = (freq[freq > 0] * iu[freq > 0]).sum()\n",
    "        return FWIoU\n",
    " \n",
    " \n",
    "    def addBatch(self, imgPredict, imgLabel):\n",
    "        assert imgPredict.shape == imgLabel.shape\n",
    "        self.confusionMatrix += self.genConfusionMatrix(imgPredict, imgLabel)\n",
    " \n",
    "    def reset(self):\n",
    "        self.confusionMatrix = np.zeros((self.numClass, self.numClass))\n",
    " \n",
    " \n",
    "if __name__ == '__main__':\n",
    "    list_pa=[]\n",
    "    list_cpa=[]\n",
    "    list_mpa=[]\n",
    "    for i in range(8):\n",
    "        imgPredict = np.array(all_pic[i],dtype=int) # 可直接换成预测图片\n",
    "        imgLabel = np.array(all_pic2[i],dtype=int) # 可直接换成标注图片\n",
    "        metric = SegmentationMetric(2) # 3表示有3个分类，有几个分类就填几\n",
    "        metric.addBatch(imgPredict, imgLabel)\n",
    "        pa = metric.pixelAccuracy()\n",
    "        cpa = metric.classPixelAccuracy()\n",
    "        mpa = metric.meanPixelAccuracy()\n",
    "        mIoU = metric.meanIntersectionOverUnion()\n",
    "        list_pa.append(pa)\n",
    "        list_cpa.append(cpa[0])\n",
    "        list_mpa.append(mpa)\n",
    "    "
   ]
  },
  {
   "cell_type": "code",
   "execution_count": 691,
   "metadata": {},
   "outputs": [
    {
     "data": {
      "text/plain": [
       "[0.89559,\n",
       " 0.95989,\n",
       " 0.9079666666666667,\n",
       " 0.9135233333333334,\n",
       " 0.9292366666666667,\n",
       " 0.95606,\n",
       " 0.9440833333333334,\n",
       " 0.94245]"
      ]
     },
     "execution_count": 691,
     "metadata": {},
     "output_type": "execute_result"
    }
   ],
   "source": [
    "list_pa"
   ]
  },
  {
   "cell_type": "code",
   "execution_count": 692,
   "metadata": {},
   "outputs": [
    {
     "data": {
      "text/plain": [
       "[0.6500486886004821,\n",
       " 0.9302977830890423,\n",
       " 0.8251383812010444,\n",
       " 0.814108040201005,\n",
       " 0.898803924203736,\n",
       " 0.839251536781428,\n",
       " 0.8981990139853104,\n",
       " 0.8668430751783773]"
      ]
     },
     "execution_count": 692,
     "metadata": {},
     "output_type": "execute_result"
    }
   ],
   "source": [
    "list_cpa"
   ]
  },
  {
   "cell_type": "code",
   "execution_count": 693,
   "metadata": {},
   "outputs": [
    {
     "data": {
      "text/plain": [
       "[0.8052208415596436,\n",
       " 0.9474363311673739,\n",
       " 0.8859669874181477,\n",
       " 0.8817681761803573,\n",
       " 0.927582656965726,\n",
       " 0.9078040546236896,\n",
       " 0.9325076122715545,\n",
       " 0.910856203096768]"
      ]
     },
     "execution_count": 693,
     "metadata": {},
     "output_type": "execute_result"
    }
   ],
   "source": [
    "list_mpa"
   ]
  },
  {
   "cell_type": "code",
   "execution_count": 794,
   "metadata": {},
   "outputs": [
    {
     "ename": "SyntaxError",
     "evalue": "invalid syntax (<ipython-input-794-e5df0f39a929>, line 17)",
     "output_type": "error",
     "traceback": [
      "\u001b[1;36m  File \u001b[1;32m\"<ipython-input-794-e5df0f39a929>\"\u001b[1;36m, line \u001b[1;32m17\u001b[0m\n\u001b[1;33m    if data_width 0:\u001b[0m\n\u001b[1;37m                  ^\u001b[0m\n\u001b[1;31mSyntaxError\u001b[0m\u001b[1;31m:\u001b[0m invalid syntax\n"
     ]
    }
   ],
   "source": [
    "import gdal\n",
    "import numpy as np\n",
    "import cv2\n",
    "\n",
    "#  读取tif数据集\n",
    "\n",
    "\n",
    "def readTif(fileName, xoff=0, yoff=0, data_width=0, data_height=0):\n",
    "    dataset = gdal.Open(fileName)\n",
    "\n",
    "    #  栅格矩阵的列数,行数,波段数\n",
    "    # width = dataset.RasterXSize\n",
    "    # height = dataset.RasterYSize\n",
    "    # bands = dataset.RasterCount\n",
    "\n",
    "    #  获取数据\n",
    "    if data_width 0:\n",
    "        data_width = dataset.RasterXSize\n",
    "    if data_height 0:\n",
    "        data_height = dataset.RasterYSize\n",
    "    data = dataset.ReadAsArray(xoff, yoff, data_width, data_height)\n",
    "\n",
    "    #  获取仿射矩阵信息,投影信息\n",
    "    geotrans = dataset.GetGeoTransform()\n",
    "    proj = dataset.GetProjection()\n",
    "    return data, geotrans, proj\n",
    "\n",
    "\n",
    "#  保存tif文件函数\n",
    "def writeTiff(im_data, im_geotrans, im_proj, path):\n",
    "    if 'int8' in im_data.dtype.name:\n",
    "        datatype = gdal.GDT_Byte\n",
    "    elif 'int16' in im_data.dtype.name:\n",
    "        datatype = gdal.GDT_UInt16\n",
    "    else:\n",
    "        datatype = gdal.GDT_Float32\n",
    "\n",
    "    if len(im_data.shape) == 2:\n",
    "        im_data = np.array([im_data])\n",
    "    im_bands, im_height, im_width = im_data.shape\n",
    "\n",
    "    # 创建文件\n",
    "    driver = gdal.GetDriverByName(\"GTiff\")\n",
    "    dataset = driver.Create(path, im_width, im_height, im_bands, datatype)\n",
    "    if (dataset is not None):\n",
    "        dataset.SetGeoTransform(im_geotrans)  # 写入仿射变换参数\n",
    "        dataset.SetProjection(im_proj)  # 写入投影\n",
    "    for i in range(im_bands):\n",
    "        dataset.GetRasterBand(i + 1).WriteArray(im_data[i])\n",
    "    del dataset\n",
    "\n",
    "\n",
    "im_data, im_geotrans, im_proj = readTif(\"output/caijian.tif\", 0, 0, 520, 256)\n",
    "# im_data = np.transpose(im_data,(1,2,0))\n",
    "# print(im_data.shape)\n",
    "# img = cv2.imshow(\"\",im_data[:,:,::-1]) # RGB2BGR\n",
    "# cv2.waitKey(0)\n",
    "\n",
    "im_data2, _, _ = readTif(\"output/pred_final.png\", 0, 0, -1, -1)\n",
    "writeTiff(im_data2, im_geotrans, im_proj, \"output/save.tif\")"
   ]
  },
  {
   "cell_type": "code",
   "execution_count": null,
   "metadata": {},
   "outputs": [],
   "source": []
  },
  {
   "cell_type": "code",
   "execution_count": null,
   "metadata": {},
   "outputs": [],
   "source": []
  },
  {
   "cell_type": "code",
   "execution_count": null,
   "metadata": {},
   "outputs": [],
   "source": []
  }
 ],
 "metadata": {
  "kernelspec": {
   "display_name": "Python 3",
   "language": "python",
   "name": "python3"
  },
  "language_info": {
   "codemirror_mode": {
    "name": "ipython",
    "version": 3
   },
   "file_extension": ".py",
   "mimetype": "text/x-python",
   "name": "python",
   "nbconvert_exporter": "python",
   "pygments_lexer": "ipython3",
   "version": "3.8.3"
  }
 },
 "nbformat": 4,
 "nbformat_minor": 4
}
