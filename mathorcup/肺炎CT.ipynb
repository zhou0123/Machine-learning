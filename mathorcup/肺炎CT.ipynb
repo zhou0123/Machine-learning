{
 "cells": [
  {
   "cell_type": "code",
   "execution_count": 1,
   "metadata": {},
   "outputs": [],
   "source": [
    "import torch\n",
    "import torch.nn as nn\n",
    "import torch.optim as optim\n",
    "from torch.autograd import Variable\n",
    "import torch.nn.functional as F"
   ]
  },
  {
   "cell_type": "code",
   "execution_count": 2,
   "metadata": {},
   "outputs": [],
   "source": [
    "import random"
   ]
  },
  {
   "cell_type": "code",
   "execution_count": 3,
   "metadata": {},
   "outputs": [],
   "source": [
    "import numpy as np"
   ]
  },
  {
   "cell_type": "code",
   "execution_count": 4,
   "metadata": {},
   "outputs": [],
   "source": [
    "from PIL import Image"
   ]
  },
  {
   "cell_type": "code",
   "execution_count": 5,
   "metadata": {},
   "outputs": [],
   "source": [
    "import zipfile"
   ]
  },
  {
   "cell_type": "code",
   "execution_count": 6,
   "metadata": {},
   "outputs": [],
   "source": [
    "f=zipfile.ZipFile('./CT_COVID.zip','r')\n",
    "for file in f.namelist():\n",
    "    f.extract(file,\"./CT_COVID\") #解压到的位置，./表示当前目录(与此.ipynb文件同一个目录)\n",
    "f.close()"
   ]
  },
  {
   "cell_type": "code",
   "execution_count": 7,
   "metadata": {},
   "outputs": [],
   "source": [
    "f=zipfile.ZipFile('./CT_NonCOVID.zip','r')\n",
    "for file in f.namelist():\n",
    "    f.extract(file,\"./CT_NonCOVID\") #解压到的位置，./表示当前目录(与此.ipynb文件同一个目录)\n",
    "f.close()"
   ]
  },
  {
   "cell_type": "code",
   "execution_count": 8,
   "metadata": {},
   "outputs": [],
   "source": [
    "import os\n",
    "import cv2"
   ]
  },
  {
   "cell_type": "code",
   "execution_count": 9,
   "metadata": {},
   "outputs": [],
   "source": [
    "def read_directory(directory_name):\n",
    "    array_of_img=[]\n",
    "    for filename in os.listdir(r\"./\"+directory_name):\n",
    "        img = cv2.imread(directory_name + \"/\" + filename)\n",
    "        array_of_img.append(img)\n",
    "    return array_of_img\n"
   ]
  },
  {
   "cell_type": "code",
   "execution_count": 10,
   "metadata": {},
   "outputs": [],
   "source": [
    "CT_COVID=read_directory('./CT_COVID')"
   ]
  },
  {
   "cell_type": "code",
   "execution_count": 11,
   "metadata": {},
   "outputs": [],
   "source": [
    "CT_NonCOVID=read_directory('./CT_NonCOVID')"
   ]
  },
  {
   "cell_type": "code",
   "execution_count": 12,
   "metadata": {},
   "outputs": [],
   "source": [
    "#未得肺炎标记为0，否则标记为1\n",
    "list_covid=[]\n",
    "list_noncovid=[]\n",
    "for i in range(len(CT_COVID)):\n",
    "    list_covid.append(1)\n",
    "for i in range(len(CT_NonCOVID)):\n",
    "    list_noncovid.append(0)\n",
    "    "
   ]
  },
  {
   "cell_type": "code",
   "execution_count": 13,
   "metadata": {},
   "outputs": [],
   "source": [
    "CT_train1=CT_COVID[0:300]+CT_NonCOVID[0:300]\n",
    "CT_test1=CT_COVID[300:]+CT_NonCOVID[300:]"
   ]
  },
  {
   "cell_type": "code",
   "execution_count": 14,
   "metadata": {},
   "outputs": [],
   "source": [
    "CT_train_label=list_covid[0:300]+list_noncovid[0:300]\n",
    "CT_test_label=list_covid[300:]+list_noncovid[300:]"
   ]
  },
  {
   "cell_type": "code",
   "execution_count": 15,
   "metadata": {},
   "outputs": [],
   "source": [
    "CT_train=[]\n",
    "for i in CT_train1:\n",
    "    i=np.resize(i,(3,400,400))\n",
    "    i=torch.tensor(i)\n",
    "    i=i.reshape(1,3,400,400)\n",
    "    CT_train.append(i)"
   ]
  },
  {
   "cell_type": "code",
   "execution_count": 16,
   "metadata": {},
   "outputs": [],
   "source": [
    "CT_test=[]\n",
    "for i in CT_train1:\n",
    "    i=np.resize(i,(3,400,400))\n",
    "    i=torch.tensor(i)\n",
    "    i=i.reshape(1,3,400,400)\n",
    "    CT_test.append(i)"
   ]
  },
  {
   "cell_type": "code",
   "execution_count": 17,
   "metadata": {},
   "outputs": [],
   "source": [
    "train_pic_label=[]\n",
    "for i,j in zip(CT_train,CT_train_label):\n",
    "    j=torch.tensor([j])\n",
    "    train_pic_label.append((i,j))\n",
    "test_pic_label=[]\n",
    "for i,j in zip(CT_test,CT_test_label):\n",
    "    j=torch.tensor([j])\n",
    "    test_pic_label.append((i,j))"
   ]
  },
  {
   "cell_type": "code",
   "execution_count": 18,
   "metadata": {},
   "outputs": [],
   "source": [
    "#乱序\n",
    "random.shuffle(train_pic_label)\n",
    "random.shuffle(test_pic_label)"
   ]
  },
  {
   "cell_type": "code",
   "execution_count": 23,
   "metadata": {},
   "outputs": [],
   "source": [
    "CT_train3=[]\n",
    "CT_train3_label=[]\n",
    "for i,j in train_pic_label:\n",
    "    i=i.numpy()\n",
    "    CT_train3.append(i)\n",
    "    CT_train3_label.append(j)\n",
    "    "
   ]
  },
  {
   "cell_type": "code",
   "execution_count": 35,
   "metadata": {},
   "outputs": [],
   "source": [
    "list_train_label=[]\n",
    "for i in range(10):\n",
    "    group=CT_train3[i*60:(i+1)*60] \n",
    "    group_label=CT_train3_label[i*60:(i+1)*60]\n",
    "    sample_label=torch.tensor(group_label).reshape(1,60)\n",
    "    sample=np.array(group).reshape(60,3,400,400)\n",
    "    sample=torch.tensor(sample)\n",
    "    list_train_label.append((sample,sample_label))\n",
    "    "
   ]
  },
  {
   "cell_type": "code",
   "execution_count": 44,
   "metadata": {},
   "outputs": [],
   "source": [
    "class VGG19(nn.Module):\n",
    "    def __init__(self):\n",
    "        super(VGG19,self).__init__()\n",
    "        self.conv1_1=nn.Conv2d(3,64,kernel_size=3)\n",
    "        self.conv1_2=nn.Conv2d(64,64,kernel_size=3)\n",
    "\n",
    "        self.conv2_1=nn.Conv2d(64,128,kernel_size=3)\n",
    "        self.conv2_2=nn.Conv2d(128,128,kernel_size=3)\n",
    "\n",
    "        self.conv3_1=nn.Conv2d(128,256,kernel_size=3)\n",
    "        self.conv3_2=nn.Conv2d(256,256,kernel_size=3)\n",
    "        self.conv3_3=nn.Conv2d(256,256,kernel_size=3)\n",
    "        self.conv3_4=nn.Conv2d(256,256,kernel_size=3)\n",
    "\n",
    "        self.conv4_1=nn.Conv2d(256,512,kernel_size=3)\n",
    "        self.conv4_2=nn.Conv2d(512,512,kernel_size=3)\n",
    "        self.conv4_3=nn.Conv2d(512,512,kernel_size=3)\n",
    "        self.conv4_4=nn.Conv2d(512,512,kernel_size=3)\n",
    "\n",
    "        self.conv5_1=nn.Conv2d(512,512,kernel_size=3)\n",
    "        self.conv5_2=nn.Conv2d(512,512,kernel_size=3)\n",
    "        self.conv5_3=nn.Conv2d(512,512,kernel_size=3)\n",
    "        self.conv5_4=nn.Conv2d(512,512,kernel_size=3)\n",
    "\n",
    "        self.conv5_drop=nn.Dropout2d()\n",
    "\n",
    "        self.fc1=nn.Linear(12800,4096)\n",
    "        self.fc2=nn.Linear(4096,4096)\n",
    "        self.fc3=nn.Linear(4096,2)\n",
    "    def forward(self,x):\n",
    "        x=F.relu(F.max_pool2d(self.conv1_2(self.conv1_1(x)),2))\n",
    "        x=F.relu(F.max_pool2d(self.conv2_2(self.conv2_1(x)),2))\n",
    "        x=F.relu(F.max_pool2d(self.conv3_4(self.conv3_3(self.conv3_2(self.conv3_1(x)))),2))\n",
    "        x=F.relu(F.max_pool2d(self.conv4_4(self.conv4_3(self.conv4_2(self.conv4_1(x)))),2))\n",
    "        x=F.relu(F.max_pool2d(self.conv5_drop(self.conv5_3(self.conv5_4(self.conv5_2(self.conv5_1(x))))),2)) \n",
    "        x=x.view(-1,12800)\n",
    "        x=F.relu(self.fc1(x))\n",
    "        x=F.dropout(x,training=self.training)\n",
    "        x=F.relu(self.fc2(x))\n",
    "        x=F.dropout(x,training=self.training)\n",
    "        x=F.relu(self.fc3(x))\n",
    "        return F.softmax(x,dim=1)"
   ]
  },
  {
   "cell_type": "code",
   "execution_count": 45,
   "metadata": {},
   "outputs": [],
   "source": [
    "model=VGG19()\n",
    "criterion=nn.CrossEntropyLoss()\n",
    "optimizer=optim.SGD(model.parameters(),lr=0.005,momentum=0.9)"
   ]
  },
  {
   "cell_type": "code",
   "execution_count": 46,
   "metadata": {},
   "outputs": [],
   "source": [
    "cuda_gpu=torch.cuda.is_available()"
   ]
  },
  {
   "cell_type": "code",
   "execution_count": 47,
   "metadata": {},
   "outputs": [],
   "source": [
    "def train(model,criterion,optimizer,dataset):\n",
    "    model.train()\n",
    "    for data,target in dataset:\n",
    "        if cuda_gpu:\n",
    "            data,target=data.cuda(),target.cuda()\n",
    "            model.cuda()\n",
    "        data,target=Variable(data).float(),Variable(target)\n",
    "        output=model(data)\n",
    "        optimizer.zero_grad()\n",
    "        loss=criterion(output,target)\n",
    "        loss.backward()\n",
    "        optimizer.step()"
   ]
  },
  {
   "cell_type": "code",
   "execution_count": 48,
   "metadata": {},
   "outputs": [],
   "source": [
    "train(model,criterion,optimizer,train_pic_label)"
   ]
  },
  {
   "cell_type": "code",
   "execution_count": 49,
   "metadata": {},
   "outputs": [],
   "source": [
    "def test(model,epoch,criterion,data_loader):\n",
    "    model.eval()\n",
    "    test_loss=0\n",
    "    correct=0\n",
    "    for data,target in data_loader:\n",
    "        if cuda_gpu:\n",
    "            data,target=data.cuda(),target.cuda()\n",
    "            model.cuda()\n",
    "        data,target=Variable(data).float(),Variable(target)\n",
    "        output=model(data)\n",
    "        test_loss+=criterion(output,target).item()\n",
    "        pred=output.data.max(1)[1]\n",
    "        correct+=pred.eq(target.data).cpu().sum()\n",
    "    test_loss/=len(data_loader)\n",
    "    acc=correct/len(data_loader)\n",
    "    return (acc,test_loss)"
   ]
  },
  {
   "cell_type": "code",
   "execution_count": 50,
   "metadata": {},
   "outputs": [
    {
     "data": {
      "text/plain": [
       "(tensor(0.6622), 0.6931471824645996)"
      ]
     },
     "execution_count": 50,
     "metadata": {},
     "output_type": "execute_result"
    }
   ],
   "source": [
    "test(model,5,criterion,test_pic_label)"
   ]
  },
  {
   "cell_type": "code",
   "execution_count": null,
   "metadata": {},
   "outputs": [],
   "source": []
  },
  {
   "cell_type": "code",
   "execution_count": null,
   "metadata": {},
   "outputs": [],
   "source": []
  },
  {
   "cell_type": "code",
   "execution_count": null,
   "metadata": {},
   "outputs": [],
   "source": []
  },
  {
   "cell_type": "code",
   "execution_count": null,
   "metadata": {},
   "outputs": [],
   "source": []
  }
 ],
 "metadata": {
  "kernelspec": {
   "display_name": "Python 3",
   "language": "python",
   "name": "python3"
  },
  "language_info": {
   "codemirror_mode": {
    "name": "ipython",
    "version": 3
   },
   "file_extension": ".py",
   "mimetype": "text/x-python",
   "name": "python",
   "nbconvert_exporter": "python",
   "pygments_lexer": "ipython3",
   "version": "3.8.3"
  }
 },
 "nbformat": 4,
 "nbformat_minor": 4
}
