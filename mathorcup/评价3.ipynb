{
 "cells": [
  {
   "cell_type": "code",
   "execution_count": null,
   "metadata": {},
   "outputs": [],
   "source": [
    "import numpy as np\n",
    "import glob\n",
    "import tqdm\n",
    "from PIL import Image\n",
    "import cv2 as cv\n",
    "import os\n",
    "from sklearn.metrics import confusion_matrix,cohen_kappa_score\n",
    "from skimage import io\n",
    "from skimage import measure\n",
    "from scipy import ndimage\n",
    "from sklearn.metrics import f1_score"
   ]
  },
  {
   "cell_type": "code",
   "execution_count": null,
   "metadata": {},
   "outputs": [],
   "source": [
    "def compute_f1(prediction, target):\n",
    "    \"\"\"\n",
    "    :param prediction: 2d array, int,\n",
    "            estimated targets as returned by a classifier\n",
    "    :param target: 2d array, int,\n",
    "            ground truth\n",
    "    :return:\n",
    "        f1: float\n",
    "    \"\"\"\n",
    "    prediction.tolist(), target.tolist()\n",
    "    img, target = np.array(prediction).flatten(), np.array(target).flatten()\n",
    "    f1 = f1_score(y_true=target, y_pred=img)\n",
    "    return  f1"
   ]
  },
  {
   "cell_type": "code",
   "execution_count": null,
   "metadata": {},
   "outputs": [],
   "source": [
    "list_f1=[]\n",
    "for i in range(8):\n",
    "    list_f1.append(compute_f1(all_pic2[i],all_pic[i]))"
   ]
  },
  {
   "cell_type": "code",
   "execution_count": null,
   "metadata": {},
   "outputs": [],
   "source": [
    "def mean_iou(input, target, classes = 2):\n",
    "    \"\"\"  compute the value of mean iou\n",
    "    :param input:  2d array, int, prediction\n",
    "    :param target: 2d array, int, ground truth\n",
    "    :param classes: int, the number of class\n",
    "    :return:\n",
    "        miou: float, the value of miou\n",
    "    \"\"\"\n",
    "    miou = 0\n",
    "    for i in range(classes):\n",
    "        intersection = np.logical_and(target == i, input == i)\n",
    "        # print(intersection.any())\n",
    "        union = np.logical_or(target == i, input == i)\n",
    "        temp = np.sum(intersection) / np.sum(union)\n",
    "        miou += temp\n",
    "    return  miou/classes"
   ]
  },
  {
   "cell_type": "code",
   "execution_count": null,
   "metadata": {},
   "outputs": [],
   "source": [
    "list_mean_iou=[]\n",
    "for i in range(8):\n",
    "    list_mean_iou.append(mean_iou(all_pic2[i],all_pic[i],classes=2))"
   ]
  },
  {
   "cell_type": "code",
   "execution_count": null,
   "metadata": {},
   "outputs": [],
   "source": [
    "def iou(input, target, classes=1):\n",
    "    \n",
    "    intersection = np.logical_and(target == classes, input == classes)\n",
    "    \n",
    "    union = np.logical_or(target == classes, input == classes)\n",
    "    iou = np.sum(intersection) / np.sum(union)\n",
    "    return iou"
   ]
  },
  {
   "cell_type": "code",
   "execution_count": null,
   "metadata": {},
   "outputs": [],
   "source": [
    "list_iou=[]\n",
    "for i in range(8):\n",
    "    list_iou.append(iou(all_pic2[i],all_pic[i],classes=1))"
   ]
  },
  {
   "cell_type": "code",
   "execution_count": null,
   "metadata": {},
   "outputs": [],
   "source": [
    "def compute_kappa(prediction, target):\n",
    "    \"\"\"\n",
    "    :param prediction: 2d array, int,\n",
    "            estimated targets as returned by a classifier\n",
    "    :param target: 2d array, int,\n",
    "            ground truth\n",
    "    :return:\n",
    "        kappa: float\n",
    "    \"\"\"\n",
    "    prediction.tolist(), target.tolist()\n",
    "    img, target = np.array(prediction).flatten(), np.array(target).flatten()\n",
    "    kappa = cohen_kappa_score(target, img)\n",
    "    return  kappa"
   ]
  },
  {
   "cell_type": "code",
   "execution_count": null,
   "metadata": {},
   "outputs": [],
   "source": [
    "list_kappa = []\n",
    "for i in range(8):\n",
    "    list_kappa.append(compute_kappa(np.array(all_pic2[i],dtype=int),np.array(all_pic[i],dtype=int)))"
   ]
  },
  {
   "cell_type": "code",
   "execution_count": null,
   "metadata": {},
   "outputs": [],
   "source": [
    "list_acc=[]"
   ]
  },
  {
   "cell_type": "code",
   "execution_count": null,
   "metadata": {},
   "outputs": [],
   "source": [
    "for i in range(8):\n",
    "    matrix = confusion_matrix(y_true=np.array(all_pic[i]).flatten(), y_pred=np.array(all_pic2[i]).flatten())\n",
    "    acc = np.diag(matrix).sum() / matrix.sum()\n",
    "    list_acc.append(acc)"
   ]
  },
  {
   "cell_type": "code",
   "execution_count": null,
   "metadata": {},
   "outputs": [],
   "source": [
    "import numpy as np\n",
    "__all__ = ['SegmentationMetric']\n",
    " \n",
    "\"\"\"\n",
    "confusionMetric  # 注意：此处横着代表预测值，竖着代表真实值，与之前介绍的相反\n",
    "P\\L     P    N\n",
    "P      TP    FP\n",
    "N      FN    TN\n",
    "\"\"\"\n",
    "class SegmentationMetric(object):\n",
    "    def __init__(self, numClass):\n",
    "        self.numClass = numClass\n",
    "        self.confusionMatrix = np.zeros((self.numClass,)*2)\n",
    " \n",
    "    def pixelAccuracy(self):\n",
    "        # return all class overall pixel accuracy\n",
    "        #  PA = acc = (TP + TN) / (TP + TN + FP + TN)\n",
    "        acc = np.diag(self.confusionMatrix).sum() /  self.confusionMatrix.sum()\n",
    "        return acc\n",
    " \n",
    "    def classPixelAccuracy(self):\n",
    "        # return each category pixel accuracy(A more accurate way to call it precision)\n",
    "        # acc = (TP) / TP + FP\n",
    "        classAcc = np.diag(self.confusionMatrix) / self.confusionMatrix.sum(axis=1)\n",
    "        return classAcc # 返回的是一个列表值，如：[0.90, 0.80, 0.96]，表示类别1 2 3各类别的预测准确率\n",
    " \n",
    "    def meanPixelAccuracy(self):\n",
    "        classAcc = self.classPixelAccuracy()\n",
    "        meanAcc = np.nanmean(classAcc) # np.nanmean 求平均值，nan表示遇到Nan类型，其值取为0\n",
    "        return meanAcc # 返回单个值，如：np.nanmean([0.90, 0.80, 0.96, nan, nan]) = (0.90 + 0.80 + 0.96） / 3 =  0.89\n",
    " \n",
    "    def meanIntersectionOverUnion(self):\n",
    "        # Intersection = TP Union = TP + FP + FN\n",
    "        # IoU = TP / (TP + FP + FN)\n",
    "        intersection = np.diag(self.confusionMatrix) # 取对角元素的值，返回列表\n",
    "        union = np.sum(self.confusionMatrix, axis=1) + np.sum(self.confusionMatrix, axis=0) - np.diag(self.confusionMatrix) # axis = 1表示混淆矩阵行的值，返回列表； axis = 0表示取混淆矩阵列的值，返回列表 \n",
    "        IoU = intersection / union  # 返回列表，其值为各个类别的IoU\n",
    "        mIoU = np.nanmean(IoU) # 求各类别IoU的平均\n",
    "        return mIoU\n",
    " \n",
    "    def genConfusionMatrix(self, imgPredict, imgLabel): # 同FCN中score.py的fast_hist()函数\n",
    "        # remove classes from unlabeled pixels in gt image and predict\n",
    "        mask = (imgLabel >= 0) & (imgLabel < self.numClass)\n",
    "        label = self.numClass * imgLabel[mask] + imgPredict[mask]\n",
    "        count = np.bincount(label, minlength=self.numClass**2)\n",
    "        confusionMatrix = count.reshape(self.numClass, self.numClass)\n",
    "        return confusionMatrix\n",
    " \n",
    "    def Frequency_Weighted_Intersection_over_Union(self):\n",
    "        # FWIOU =     [(TP+FN)/(TP+FP+TN+FN)] *[TP / (TP + FP + FN)]\n",
    "        freq = np.sum(self.confusion_matrix, axis=1) / np.sum(self.confusion_matrix)\n",
    "        iu = np.diag(self.confusion_matrix) / (\n",
    "                np.sum(self.confusion_matrix, axis=1) + np.sum(self.confusion_matrix, axis=0) -\n",
    "                np.diag(self.confusion_matrix))\n",
    "        FWIoU = (freq[freq > 0] * iu[freq > 0]).sum()\n",
    "        return FWIoU\n",
    " \n",
    " \n",
    "    def addBatch(self, imgPredict, imgLabel):\n",
    "        assert imgPredict.shape == imgLabel.shape\n",
    "        self.confusionMatrix += self.genConfusionMatrix(imgPredict, imgLabel)\n",
    " \n",
    "    def reset(self):\n",
    "        self.confusionMatrix = np.zeros((self.numClass, self.numClass))\n",
    " \n",
    " \n",
    "if __name__ == '__main__':\n",
    "    list_pa=[]\n",
    "    list_cpa=[]\n",
    "    list_mpa=[]\n",
    "    for i in range(8):\n",
    "        imgPredict = np.array(all_pic[i],dtype=int) # 可直接换成预测图片\n",
    "        imgLabel = np.array(all_pic2[i],dtype=int) # 可直接换成标注图片\n",
    "        metric = SegmentationMetric(2) # 3表示有3个分类，有几个分类就填几\n",
    "        metric.addBatch(imgPredict, imgLabel)\n",
    "        pa = metric.pixelAccuracy()\n",
    "        cpa = metric.classPixelAccuracy()\n",
    "        mpa = metric.meanPixelAccuracy()\n",
    "        mIoU = metric.meanIntersectionOverUnion()\n",
    "        list_pa.append(pa)\n",
    "        list_cpa.append(cpa[0])\n",
    "        list_mpa.append(mpa)"
   ]
  },
  {
   "cell_type": "code",
   "execution_count": 1,
   "metadata": {},
   "outputs": [
    {
     "ename": "ImportError",
     "evalue": "cannot import name 'gdal' from 'osgeo' (C:\\Users\\zhou\\anaconda3\\lib\\site-packages\\osgeo\\__init__.py)",
     "output_type": "error",
     "traceback": [
      "\u001b[1;31m---------------------------------------------------------------------------\u001b[0m",
      "\u001b[1;31mImportError\u001b[0m                               Traceback (most recent call last)",
      "\u001b[1;32m<ipython-input-1-01edaff2e642>\u001b[0m in \u001b[0;36m<module>\u001b[1;34m\u001b[0m\n\u001b[1;32m----> 1\u001b[1;33m \u001b[1;32mfrom\u001b[0m \u001b[0mosgeo\u001b[0m \u001b[1;32mimport\u001b[0m \u001b[0mgdal\u001b[0m\u001b[1;33m\u001b[0m\u001b[1;33m\u001b[0m\u001b[0m\n\u001b[0m\u001b[0;32m      2\u001b[0m \u001b[1;32mimport\u001b[0m \u001b[0mos\u001b[0m\u001b[1;33m\u001b[0m\u001b[1;33m\u001b[0m\u001b[0m\n\u001b[0;32m      3\u001b[0m \u001b[1;32mimport\u001b[0m \u001b[0mnumpy\u001b[0m \u001b[1;32mas\u001b[0m \u001b[0mnp\u001b[0m\u001b[1;33m\u001b[0m\u001b[1;33m\u001b[0m\u001b[0m\n\u001b[0;32m      4\u001b[0m \u001b[1;32mimport\u001b[0m \u001b[0mcv2\u001b[0m\u001b[1;33m\u001b[0m\u001b[1;33m\u001b[0m\u001b[0m\n\u001b[0;32m      5\u001b[0m '''\n",
      "\u001b[1;31mImportError\u001b[0m: cannot import name 'gdal' from 'osgeo' (C:\\Users\\zhou\\anaconda3\\lib\\site-packages\\osgeo\\__init__.py)"
     ]
    }
   ],
   "source": [
    "from osgeo impor\n",
    "import os\n",
    "import numpy as np\n",
    "import cv2\n",
    "'''\n",
    "input:原图的tif文件和预测的单通道png图像\n",
    "out:合成新的tif,带有坐标信息\n",
    "'''\n",
    "class GRID:\n",
    " \n",
    "    # 读图像文件\n",
    "    def read_img(self, filename):\n",
    "        dataset = gdal.Open(filename)  # 打开文件\n",
    " \n",
    "        im_width = dataset.RasterXSize  # 栅格矩阵的列数\n",
    "        im_height = dataset.RasterYSize  # 栅格矩阵的行数\n",
    " \n",
    "        im_geotrans = dataset.GetGeoTransform()  # 仿射矩阵\n",
    "        im_proj = dataset.GetProjection()  # 地图投影信息\n",
    "        im_data = dataset.ReadAsArray(0, 0, im_width, im_height)  # 将数据写成数组，对应栅格矩阵\n",
    " \n",
    "        del dataset  # 关闭对象，文件dataset\n",
    "        return im_proj, im_geotrans, im_data, im_width, im_height\n",
    " \n",
    "    # 写文件，以写成tif为例\n",
    "    def write_img(self, filename, im_proj, im_geotrans, im_data):\n",
    " \n",
    "        # 判断栅格数据的数据类型\n",
    "        if 'int8' in im_data.dtype.name:\n",
    "            datatype = gdal.GDT_Byte\n",
    "        elif 'int16' in im_data.dtype.name:\n",
    "            datatype = gdal.GDT_UInt16\n",
    "        else:\n",
    "            datatype = gdal.GDT_Float32\n",
    " \n",
    "        # 判读数组维数\n",
    "        if len(im_data.shape) == 3:\n",
    "            im_bands, im_height, im_width = im_data.shape\n",
    "        else:\n",
    "            im_bands, (im_height, im_width) = 1, im_data.shape\n",
    " \n",
    "        # 创建文件\n",
    "        driver = gdal.GetDriverByName(\"GTiff\")  # 数据类型必须有，因为要计算需要多大内存空间\n",
    "        dataset = driver.Create(filename, im_width, im_height, im_bands, datatype)\n",
    " \n",
    "        dataset.SetGeoTransform(im_geotrans)  # 写入仿射变换参数\n",
    "        dataset.SetProjection(im_proj)  # 写入投影\n",
    " \n",
    "        if im_bands == 1:\n",
    "            dataset.GetRasterBand(1).WriteArray(im_data)  # 写入数组数据\n",
    "        else:\n",
    "            for i in range(im_bands):\n",
    "                dataset.GetRasterBand(i + 1).WriteArray(im_data[i])\n",
    " \n",
    "        del dataset\n",
    " \n",
    " \n",
    "if __name__ == \"__main__\":\n",
    "    os.chdir(r'./data')  # 切换路径到待处理图像所在文件夹\n",
    "    run = GRID()\n",
    "    # 第一步\n",
    "    proj, geotrans, data1, row1, column1 = run.read_img('pic_2.tif')  # 读数据,获取tif图像的信息\n",
    " \n",
    "    img_path = 'pic_2.png' # 读取png图像数据\n",
    "    data2 = cv2.imread(img_path, -1)\n",
    " \n",
    "    data = np.array((data2), dtype=data1.dtype)  #数据格式\n",
    " \n",
    "    run.write_img('pic_2_tif.tif', proj, geotrans, data)  # 生成tif"
   ]
  },
  {
   "cell_type": "code",
   "execution_count": 3,
   "metadata": {},
   "outputs": [],
   "source": [
    "import numpy as np"
   ]
  },
  {
   "cell_type": "code",
   "execution_count": null,
   "metadata": {},
   "outputs": [],
   "source": []
  },
  {
   "cell_type": "code",
   "execution_count": 5,
   "metadata": {},
   "outputs": [
    {
     "name": "stdout",
     "output_type": "stream",
     "text": [
      "\n"
     ]
    }
   ],
   "source": [
    "import glob\n",
    "from PIL import Image\n",
    "for i in glob.glob(r'./visualize_Test1.png'):\n",
    "    im = Image.open(i,\"r\")\n",
    "    print(i.split(\".\")[0])\n",
    "    im.save(\"test2.tif\".format(i.split(\".\")[0]),quality=95)\n"
   ]
  },
  {
   "cell_type": "code",
   "execution_count": 9,
   "metadata": {},
   "outputs": [],
   "source": [
    "from matplotlib import pyplot as plt"
   ]
  },
  {
   "cell_type": "code",
   "execution_count": 2,
   "metadata": {},
   "outputs": [],
   "source": [
    "import cv2"
   ]
  },
  {
   "cell_type": "code",
   "execution_count": 15,
   "metadata": {},
   "outputs": [
    {
     "name": "stdout",
     "output_type": "stream",
     "text": [
      "\n"
     ]
    }
   ],
   "source": [
    "import glob\n",
    "from PIL import Image\n",
    "for i in glob.glob(r'./visualize_Test1.png'):\n",
    "    im = Image.open(i,\"r\")\n",
    "    print(i.split(\".\")[0])\n",
    "    im.save(\"1.tif\".format(i.split(\".\")[0]),quality=95)"
   ]
  },
  {
   "cell_type": "code",
   "execution_count": 16,
   "metadata": {},
   "outputs": [],
   "source": [
    "im1=Image.open('./1.tif')"
   ]
  },
  {
   "cell_type": "code",
   "execution_count": 17,
   "metadata": {},
   "outputs": [],
   "source": [
    "im2=np.array(im1)/255"
   ]
  },
  {
   "cell_type": "code",
   "execution_count": 19,
   "metadata": {},
   "outputs": [
    {
     "data": {
      "text/plain": [
       "True"
      ]
     },
     "execution_count": 19,
     "metadata": {},
     "output_type": "execute_result"
    }
   ],
   "source": [
    "cv2.imwrite('C:\\\\Users\\\\zhou\\\\Desktop\\\\11.png',im2)"
   ]
  },
  {
   "cell_type": "code",
   "execution_count": null,
   "metadata": {},
   "outputs": [],
   "source": []
  }
 ],
 "metadata": {
  "kernelspec": {
   "display_name": "Python 3",
   "language": "python",
   "name": "python3"
  },
  "language_info": {
   "codemirror_mode": {
    "name": "ipython",
    "version": 3
   },
   "file_extension": ".py",
   "mimetype": "text/x-python",
   "name": "python",
   "nbconvert_exporter": "python",
   "pygments_lexer": "ipython3",
   "version": "3.8.3"
  }
 },
 "nbformat": 4,
 "nbformat_minor": 4
}
