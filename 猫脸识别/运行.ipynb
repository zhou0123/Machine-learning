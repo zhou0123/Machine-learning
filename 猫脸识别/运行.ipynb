{
 "cells": [
  {
   "cell_type": "code",
   "execution_count": 5,
   "metadata": {},
   "outputs": [],
   "source": [
    "import matplotlib.pyplot as plt\n",
    "from PIL import Image\n",
    "import os\n",
    "import shutil\n",
    "import tensorflow as tf\n",
    "from tensorflow import keras\n",
    "from tensorflow.keras import layers\n",
    "from tensorflow.keras.models import Sequential\n",
    "import numpy as np\n",
    "from tensorflow.keras.models import load_model"
   ]
  },
  {
   "cell_type": "code",
   "execution_count": 6,
   "metadata": {},
   "outputs": [],
   "source": [
    "model = load_model('model.h5')"
   ]
  },
  {
   "cell_type": "code",
   "execution_count": 7,
   "metadata": {},
   "outputs": [],
   "source": [
    "listt=['https://baike.baidu.com/item/%E6%96%B0%E5%8A%A0%E5%9D%A1%E7%8C%AB/671184?fr=aladdin#2',\n",
    "'https://baike.baidu.com/item/%E8%B1%B9%E7%8C%AB/4921581?fr=aladdin',\n",
    "'https://baike.baidu.com/item/%E4%BC%AF%E6%9B%BC%E7%8C%AB/641852?fr=aladdin',\n",
    "'https://baike.baidu.com/item/%E5%AD%9F%E4%B9%B0%E7%8C%AB/4510178?fr=aladdin',\n",
    "'https://baike.baidu.com/item/%E8%8B%B1%E5%9B%BD%E7%9F%AD%E6%AF%9B%E7%8C%AB/672846?fr=aladdin',\n",
    "'https://baike.baidu.com/item/%E5%9F%83%E5%8F%8A%E7%8C%AB/386503?fr=aladdin',\n",
    "'https://baike.baidu.com/item/%E7%BC%85%E5%9B%A0%E7%8C%AB/647590?fr=aladdin',\n",
    "'https://baike.baidu.com/item/%E6%B3%A2%E6%96%AF%E7%8C%AB/585?fr=aladdin',\n",
    "'https://baike.baidu.com/item/%E9%9B%AA%E9%9E%8B%E7%8C%AB/4513092',\n",
    "'https://baike.baidu.com/item/%E4%BF%84%E7%BD%97%E6%96%AF%E8%93%9D%E7%8C%AB/643065?fr=aladdin',\n",
    "'https://baike.baidu.com/item/%E6%9A%B9%E7%BD%97%E7%8C%AB/556082?fr=aladdin',\n",
    "'https://baike.baidu.com/item/%E5%8A%A0%E6%8B%BF%E5%A4%A7%E6%97%A0%E6%AF%9B%E7%8C%AB/643507?fromtitle=%E6%96%AF%E8%8A%AC%E5%85%8B%E6%96%AF%E7%8C%AB&fromid=8028531&fr=aladdin']"
   ]
  },
  {
   "cell_type": "code",
   "execution_count": 12,
   "metadata": {},
   "outputs": [
    {
     "name": "stdout",
     "output_type": "stream",
     "text": [
      "Found 2160 files belonging to 12 classes.\n",
      "Using 1728 files for training.\n",
      "Found 2160 files belonging to 12 classes.\n",
      "Using 432 files for validation.\n"
     ]
    }
   ],
   "source": [
    "batch_size = 32\n",
    "img_height = 224\n",
    "img_width = 224\n",
    "data_dir = './cats'\n",
    "train_ds = tf.keras.preprocessing.image_dataset_from_directory(\n",
    "  data_dir,\n",
    "  validation_split=0.2,\n",
    "  subset=\"training\",\n",
    "  seed=123,\n",
    "  image_size=(img_height, img_width),\n",
    "  batch_size=batch_size)\n",
    "\n",
    "val_ds = tf.keras.preprocessing.image_dataset_from_directory(\n",
    "  data_dir,\n",
    "  validation_split=0.2,\n",
    "  subset=\"validation\",\n",
    "  seed=123,\n",
    "  image_size=(img_height, img_width),\n",
    "  batch_size=batch_size)"
   ]
  },
  {
   "cell_type": "code",
   "execution_count": 14,
   "metadata": {},
   "outputs": [],
   "source": [
    "class_names = train_ds.class_names"
   ]
  },
  {
   "cell_type": "code",
   "execution_count": 15,
   "metadata": {},
   "outputs": [
    {
     "data": {
      "text/plain": [
       "1"
      ]
     },
     "execution_count": 15,
     "metadata": {},
     "output_type": "execute_result"
    }
   ],
   "source": [
    "img = Image.open('./cats/11/zup0tJLKXZRV27AToUvQdES9xW6fsw34.jpg')\n",
    "img_array = keras.preprocessing.image.img_to_array(img)\n",
    "img_array = tf.expand_dims(img_array, 0) \n",
    "\n",
    "predictions = model.predict(img_array)\n",
    "score = tf.nn.softmax(predictions[0])\n",
    "\n",
    "#print(\n",
    "#    \"This image most likely belongs to {} with a {:.2f} percent confidence.\"\n",
    "#    .format(class_names[np.argmax(score)], 100 * np.max(score))\n",
    "#)\n",
    "#print(class_names[np.argmax(score)])\n",
    "os.system('\"C:/Program Files/Internet Explorer/iexplore.exe\" %s'%(listt[int(class_names[np.argmax(score)])]))\n"
   ]
  },
  {
   "cell_type": "code",
   "execution_count": null,
   "metadata": {},
   "outputs": [],
   "source": []
  }
 ],
 "metadata": {
  "kernelspec": {
   "display_name": "Python 3",
   "language": "python",
   "name": "python3"
  },
  "language_info": {
   "codemirror_mode": {
    "name": "ipython",
    "version": 3
   },
   "file_extension": ".py",
   "mimetype": "text/x-python",
   "name": "python",
   "nbconvert_exporter": "python",
   "pygments_lexer": "ipython3",
   "version": "3.8.3"
  }
 },
 "nbformat": 4,
 "nbformat_minor": 4
}
