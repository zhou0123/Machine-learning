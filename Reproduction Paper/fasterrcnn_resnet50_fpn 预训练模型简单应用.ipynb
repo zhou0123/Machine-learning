{
 "cells": [
  {
   "cell_type": "code",
   "execution_count": 1,
   "metadata": {},
   "outputs": [],
   "source": [
    "import random\n",
    "import torch\n",
    "import cv2\n",
    "import torchvision"
   ]
  },
  {
   "cell_type": "code",
   "execution_count": 2,
   "metadata": {},
   "outputs": [],
   "source": [
    "def random_color():\n",
    "    b = random.randint(0,255)\n",
    "    g = random.randint(0,255)\n",
    "    r = random.randint(0,255)\n",
    "    return (b,g,r)"
   ]
  },
  {
   "cell_type": "code",
   "execution_count": 12,
   "metadata": {},
   "outputs": [],
   "source": [
    "model = torchvision.models.detection.fasterrcnn_resnet50_fpn(pretrained=True)\n",
    "model.eval()\n",
    "inputs = []\n",
    "img = cv2.imread('C:/Users/zhou/Desktop/test.jpg')\n",
    "img_tensor = torch.from_numpy(img/255.).permute(2,0,1).float()\n",
    "inputs.append(img_tensor)\n",
    "out = model(inputs)\n",
    "boxes = out[0]['boxes']\n",
    "labels = out[0]['labels']\n",
    "scores = out[0]['scores']\n",
    "for idx in range(boxes.shape[0]):\n",
    "    if scores[idx] >= 0.8:\n",
    "        x1, y1, x2, y2 = int(boxes[idx][0]), int(boxes[idx][1]), int(boxes[idx][2]), int(boxes[idx][3])\n",
    "        name = str(labels[idx].item())\n",
    "        cv2.rectangle(img,(x1,y1),(x2,y2),random_color(),2)\n",
    "        cv2.putText(img, text=name, org=(x1, y1+10), fontFace=cv2.FONT_HERSHEY_SIMPLEX, \n",
    "            fontScale=0.5, thickness=1, lineType=cv2.LINE_AA, color=(0, 0, 255))\n",
    "cv2.imshow('result',img)\n",
    "cv2.waitKey()\n",
    "cv2.destroyAllWindows()"
   ]
  },
  {
   "cell_type": "code",
   "execution_count": null,
   "metadata": {},
   "outputs": [],
   "source": []
  },
  {
   "cell_type": "code",
   "execution_count": null,
   "metadata": {},
   "outputs": [],
   "source": []
  }
 ],
 "metadata": {
  "kernelspec": {
   "display_name": "Python 3",
   "language": "python",
   "name": "python3"
  },
  "language_info": {
   "codemirror_mode": {
    "name": "ipython",
    "version": 3
   },
   "file_extension": ".py",
   "mimetype": "text/x-python",
   "name": "python",
   "nbconvert_exporter": "python",
   "pygments_lexer": "ipython3",
   "version": "3.8.3"
  }
 },
 "nbformat": 4,
 "nbformat_minor": 4
}
