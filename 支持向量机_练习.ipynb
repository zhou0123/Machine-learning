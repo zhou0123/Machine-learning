{
 "cells": [
  {
   "cell_type": "code",
   "execution_count": null,
   "metadata": {},
   "outputs": [],
   "source": [
    "5#线性"
   ]
  },
  {
   "cell_type": "code",
   "execution_count": 6,
   "metadata": {},
   "outputs": [],
   "source": [
    "import matplotlib.pyplot as plt\n",
    "import numpy as np\n",
    "import random\n",
    "import types"
   ]
  },
  {
   "cell_type": "code",
   "execution_count": 7,
   "metadata": {},
   "outputs": [],
   "source": [
    "def loaddataset(filename):\n",
    "    datamat=[]\n",
    "    ladelmat=[]\n",
    "    fr=open(filename)\n",
    "    for line in fr.readlines():\n",
    "        linearr=line.strip().split('\\t')\n",
    "        datamat.append([float(linearr[0]),float(linearr[1])])\n",
    "        ladelmat.append([float(linearr[2])])\n",
    "    return datamat,ladelmat"
   ]
  },
  {
   "cell_type": "code",
   "execution_count": 8,
   "metadata": {},
   "outputs": [],
   "source": [
    "def selectj(i,m):\n",
    "    j=i\n",
    "    while j==i:\n",
    "        j=int(random.uniform(0,m))\n",
    "    return j"
   ]
  },
  {
   "cell_type": "code",
   "execution_count": 24,
   "metadata": {},
   "outputs": [],
   "source": [
    "def clipalpha(aj,H,L):\n",
    "    if aj>H:\n",
    "        return H\n",
    "    if aj<L:\n",
    "        return L\n",
    "    else:\n",
    "        return aj"
   ]
  },
  {
   "cell_type": "code",
   "execution_count": 26,
   "metadata": {},
   "outputs": [],
   "source": [
    "def smo(datamat,labelmat,C,toler,maxIter):\n",
    "    datamat=np.mat(datamat)\n",
    "    labelmat=np.mat(labelmat)\n",
    "    m,n=np.shape(datamat)\n",
    "    b=0\n",
    "    alphas=np.zeros(m,1)\n",
    "    iter_num=0\n",
    "    while iter_num<maxIter:\n",
    "        alphas_pairs_change=0\n",
    "        for i in range(m):\n",
    "            W=np.dot(np.multiply(labelmat,alphas).T,datamat)\n",
    "            fw_i=np.dot(datamat[i],W)\n",
    "            E_i=fw_i-labelmat[i]\n",
    "            if (labelmat[i]*E_i>toler and alphas[i]>0) or (labelmat[i]*E_i<-toler and alphas[i]<C):\n",
    "                j=selectj(i,m)\n",
    "                fw_j=np.dot(datamat[j],W)\n",
    "                E_j=fw_j=labelmat[j]\n",
    "                alpha_i_old=alphas[i]\n",
    "                alpha_j_old=alphas[j]\n",
    "            if labelmat[i]!=labelmat[j]:\n",
    "                L=max(0,alphas[j]-alphas[i])\n",
    "                H=min(C,C+alphas[j]-alphas[i])\n",
    "            else:\n",
    "                L=max(0,alphas[i]+alphas[j]-C)\n",
    "                H=min(C,alphas[i]+alphas[j])\n",
    "            if L==H:\n",
    "                continue\n",
    "            eta=2.0*datamat[i,:]*datamat[j,:]-datamat[i,:]*datamat[i,:].T-datamat[j,:]*datamat[j,:].T\n",
    "            if eta>=0:\n",
    "                continue\n",
    "            alphas[j]-=labelmat[j]*(E_j-E_i)/eta\n",
    "            alphas[j]=clipalpha(alphas[j],H,L)\n",
    "            if ads(alphas[j]-alpha_j_old)<0.0001:\n",
    "                continue\n",
    "            else:\n",
    "                alphas[i]=alphas[i]+labelmat[j]*labelmat[i]*(alpha_j_old-alphas[j])\n",
    "            b1=b-E_i-labelmat[i]*(alpha_i_old-alphas[i])*np.dot(datamat[i,:],datamat[i,:].T)-labelmat[j]*(alpha_j_old-alphas[j])*np.dot(datamat[i,:],datamat[j,:].T)\n",
    "            b2=b-E_j-labelmat[j]*(alpha_j_old-alphas[j])*np.dot(datamat[j,:],datamat[j,:].T)-labelmat[i]*(alpha_i_old-alphas[i])*np.dot(datamat[i,:],datamat[j,:].T)\n",
    "            if 0<alphas[i] and alphas[i]<C:\n",
    "                b=b1\n",
    "            elif 0<alphas[j] and alphas[j]<C:\n",
    "                b=b2\n",
    "            else:\n",
    "                b=(b1+b2)/2\n",
    "            alphas_pairs_change+=1\n",
    "        if alphas_pairs_change==0:\n",
    "            iter_num+=1\n",
    "        else:\n",
    "            iter_num=0\n",
    "    return b,alphas\n",
    "        "
   ]
  },
  {
   "cell_type": "code",
   "execution_count": null,
   "metadata": {},
   "outputs": [],
   "source": []
  },
  {
   "cell_type": "code",
   "execution_count": null,
   "metadata": {},
   "outputs": [],
   "source": []
  },
  {
   "cell_type": "code",
   "execution_count": null,
   "metadata": {},
   "outputs": [],
   "source": []
  },
  {
   "cell_type": "code",
   "execution_count": null,
   "metadata": {},
   "outputs": [],
   "source": []
  },
  {
   "cell_type": "code",
   "execution_count": null,
   "metadata": {},
   "outputs": [],
   "source": []
  },
  {
   "cell_type": "code",
   "execution_count": null,
   "metadata": {},
   "outputs": [],
   "source": []
  },
  {
   "cell_type": "code",
   "execution_count": null,
   "metadata": {},
   "outputs": [],
   "source": []
  },
  {
   "cell_type": "code",
   "execution_count": null,
   "metadata": {},
   "outputs": [],
   "source": []
  },
  {
   "cell_type": "code",
   "execution_count": null,
   "metadata": {},
   "outputs": [],
   "source": []
  },
  {
   "cell_type": "code",
   "execution_count": null,
   "metadata": {},
   "outputs": [],
   "source": []
  },
  {
   "cell_type": "code",
   "execution_count": null,
   "metadata": {},
   "outputs": [],
   "source": []
  },
  {
   "cell_type": "code",
   "execution_count": null,
   "metadata": {},
   "outputs": [],
   "source": []
  },
  {
   "cell_type": "code",
   "execution_count": null,
   "metadata": {},
   "outputs": [],
   "source": []
  },
  {
   "cell_type": "code",
   "execution_count": null,
   "metadata": {},
   "outputs": [],
   "source": []
  },
  {
   "cell_type": "code",
   "execution_count": null,
   "metadata": {},
   "outputs": [],
   "source": []
  }
 ],
 "metadata": {
  "kernelspec": {
   "display_name": "Python 3",
   "language": "python",
   "name": "python3"
  },
  "language_info": {
   "codemirror_mode": {
    "name": "ipython",
    "version": 3
   },
   "file_extension": ".py",
   "mimetype": "text/x-python",
   "name": "python",
   "nbconvert_exporter": "python",
   "pygments_lexer": "ipython3",
   "version": "3.8.3"
  }
 },
 "nbformat": 4,
 "nbformat_minor": 4
}
