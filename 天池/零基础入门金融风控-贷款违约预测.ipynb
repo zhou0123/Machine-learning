{
 "cells": [
  {
   "cell_type": "code",
   "execution_count": 1,
   "metadata": {},
   "outputs": [],
   "source": [
    "import pandas as pd\n",
    "import numpy as np\n",
    "import torch.nn as nn\n",
    "import torch\n",
    "import torch.nn.functional as F\n",
    "import torch.optim as optim\n"
   ]
  },
  {
   "cell_type": "markdown",
   "metadata": {},
   "source": [
    "# 数据处理"
   ]
  },
  {
   "cell_type": "code",
   "execution_count": 2,
   "metadata": {},
   "outputs": [],
   "source": [
    "class data_processing(object):\n",
    "    def __init__(self,train_path,test_path):\n",
    "        self.train_path=train_path\n",
    "        self.test_path=test_path\n",
    "    \n",
    "    def to_num(self,dataset,test):\n",
    "        list_str=[]\n",
    "        for i in dataset.columns.tolist():\n",
    "            if isinstance(dataset.loc[0,i],str):\n",
    "                list_str.append(i)\n",
    "        names=[]\n",
    "        for str1 in list_str:\n",
    "            name1=list(set(dataset.loc[:,str1].tolist()))\n",
    "            names.append(name1)\n",
    "        for i in range(len(list_str)):\n",
    "            d=pd.DataFrame(np.where(np.array(dataset.loc[:,list_str[i]])[:,None]==np.array([names[i]]).repeat(len(\\\n",
    "                                            np.array(dataset.loc[:,list_str[i]])),axis=0))[1]).iloc[:,0]\n",
    "            t=pd.DataFrame(np.where(np.array(test.loc[:,list_str[i]])[:,None]==np.array([names[i]]).repeat(len(\\\n",
    "                                            np.array(test.loc[:,list_str[i]])),axis=0))[1]).iloc[:,0]\n",
    "            dataset.loc[:,list_str[i]]=d\n",
    "            test.loc[:,list_str[i]]=t\n",
    "        return dataset,test\n",
    "    def stand(self,data_train,test):\n",
    "        \n",
    "        data_max=data_train.max(axis=0)\n",
    "        data_min=data_train.min(axis=0)\n",
    "        test_max=test.max(axis=0)\n",
    "        test_min=test.min(axis=0)\n",
    "        test=(test-test_min)/(test_max-test_min+1e-4)\n",
    "        data_train=(data_train-data_min)/(data_max-data_min+1e-4)\n",
    "        \n",
    "        return data_train,test\n",
    "    def norm(self,data_train,test):\n",
    "        \n",
    "        train_means=np.mean(data_train,axis=0)\n",
    "        test_means=np.mean(test,axis=0)\n",
    "        \n",
    "        train_var=np.sqrt(np.float32(np.sum((data_train-train_means)**2,axis=0)))\n",
    "        test_var=np.sqrt(np.float32(np.sum((test-test_means)**2,axis=0)))\n",
    "        \n",
    "        data_train=(data_train-train_means)/(train_var+1e-4)\n",
    "        \n",
    "        test=(test-test_means)/(test_var+1e-4)\n",
    "        \n",
    "        return data_train,test\n",
    "    def load(self):\n",
    "        \n",
    "        datasets=pd.read_csv(self.train_path)\n",
    "        test=pd.read_csv(self.test_path)\n",
    "        dataset=pd.concat((datasets.iloc[:,1:13],datasets.iloc[:,14:]),axis=1)\n",
    "        labels=np.array(datasets.iloc[:,13])\n",
    "        dataset,test=self.to_num(dataset,test)\n",
    "        dataset=np.array(dataset.fillna(0))\n",
    "        test=np.array(test.fillna(0))\n",
    "        \n",
    "        dataset,test=self.stand(dataset,test)\n",
    "        dataset,test=self.norm(dataset,test)\n",
    "        \n",
    "        return dataset,test,labels\n",
    "        "
   ]
  },
  {
   "cell_type": "code",
   "execution_count": 3,
   "metadata": {},
   "outputs": [],
   "source": [
    "dataset,test,labels=data_processing(\"C://Users/86155/Desktop/train.csv\",\"C://Users/86155/Desktop/testA.csv\").load()"
   ]
  },
  {
   "cell_type": "code",
   "execution_count": 4,
   "metadata": {},
   "outputs": [],
   "source": [
    "dataset=torch.tensor(dataset,dtype=torch.float32)\n",
    "labels=torch.tensor(labels)\n",
    "datasets=dataset.split(100,dim=0)\n",
    "labels=labels.split(100)"
   ]
  },
  {
   "cell_type": "code",
   "execution_count": 5,
   "metadata": {},
   "outputs": [],
   "source": [
    "test=test[:,1:]\n",
    "test=torch.tensor(test,dtype=torch.float32).to('cuda')"
   ]
  },
  {
   "cell_type": "markdown",
   "metadata": {},
   "source": [
    "# 模型"
   ]
  },
  {
   "cell_type": "code",
   "execution_count": 6,
   "metadata": {},
   "outputs": [],
   "source": [
    "class network(nn.Module):\n",
    "    def __init__(self):\n",
    "        super(network,self).__init__()\n",
    "        self.linear1=nn.Linear(45,64)\n",
    "        self.linear2=nn.Linear(64,128)\n",
    "        self.linear3=nn.Linear(128,128)\n",
    "        self.linear4=nn.Linear(128,64)\n",
    "        self.linear5=nn.Linear(64,2)\n",
    "\n",
    "\n",
    "    def forward(self,x):\n",
    "\n",
    "        x=self.linear1(x)\n",
    "        x=F.tanh(x)\n",
    "        x=self.linear2(x)\n",
    "        x=F.tanh(x)\n",
    "        x=self.linear3(x)\n",
    "        x=F.tanh(x)\n",
    "        x=self.linear4(x)\n",
    "        x=F.tanh(x)\n",
    "        x=self.linear5(x)\n",
    "        #x=F.softmax(x)\n",
    "        \n",
    "        return x\n",
    "        "
   ]
  },
  {
   "cell_type": "code",
   "execution_count": 7,
   "metadata": {},
   "outputs": [],
   "source": [
    "net=network().to('cuda')\n",
    "optimizer = optim.Adam(net.parameters(), lr=0.00001) #设置优化器和学习率"
   ]
  },
  {
   "cell_type": "code",
   "execution_count": 8,
   "metadata": {},
   "outputs": [],
   "source": [
    "weight=torch.tensor([0.1,0.9],dtype=torch.float32,device='cuda')\n"
   ]
  },
  {
   "cell_type": "code",
   "execution_count": 9,
   "metadata": {},
   "outputs": [],
   "source": [
    "def train(epoches,datasets,lables,weight):\n",
    "    for i in range(epoches):\n",
    "        print(i,end='\\r')\n",
    "        \n",
    "        \n",
    "        for j in range(len(datasets)):\n",
    "            optimizer.zero_grad()\n",
    "            inputs=datasets[j].type(torch.float32).to('cuda')\n",
    "            label=labels[j].to('cuda')\n",
    "            output=net(inputs)\n",
    "            loss=F.cross_entropy(output,label,weight=weight)\n",
    "            loss.backward()\n",
    "            optimizer.step()"
   ]
  },
  {
   "cell_type": "code",
   "execution_count": 10,
   "metadata": {},
   "outputs": [
    {
     "name": "stdout",
     "output_type": "stream",
     "text": [
      "0\r"
     ]
    },
    {
     "name": "stderr",
     "output_type": "stream",
     "text": [
      "C:\\Users\\86155\\Anaconda3\\lib\\site-packages\\torch\\nn\\functional.py:1794: UserWarning: nn.functional.tanh is deprecated. Use torch.tanh instead.\n",
      "  warnings.warn(\"nn.functional.tanh is deprecated. Use torch.tanh instead.\")\n"
     ]
    },
    {
     "name": "stdout",
     "output_type": "stream",
     "text": [
      "99\r"
     ]
    }
   ],
   "source": [
    "train(100,datasets,labels,weight)"
   ]
  },
  {
   "cell_type": "code",
   "execution_count": 11,
   "metadata": {},
   "outputs": [],
   "source": [
    "output=net(test[:,:])"
   ]
  },
  {
   "cell_type": "code",
   "execution_count": 13,
   "metadata": {},
   "outputs": [
    {
     "data": {
      "text/plain": [
       "tensor([0, 1, 1,  ..., 1, 1, 0], device='cuda:0')"
      ]
     },
     "execution_count": 13,
     "metadata": {},
     "output_type": "execute_result"
    }
   ],
   "source": []
  },
  {
   "cell_type": "code",
   "execution_count": 12,
   "metadata": {},
   "outputs": [],
   "source": [
    "outputs=torch.argmax(output,axis=1)"
   ]
  },
  {
   "cell_type": "code",
   "execution_count": null,
   "metadata": {},
   "outputs": [],
   "source": [
    "outputs=outputs.to('cpu').numpy()"
   ]
  },
  {
   "cell_type": "code",
   "execution_count": 19,
   "metadata": {},
   "outputs": [],
   "source": [
    "outputs=outputs.reshape(-1,1)"
   ]
  },
  {
   "cell_type": "code",
   "execution_count": 20,
   "metadata": {},
   "outputs": [],
   "source": [
    "final=np.concatenate((np.array(pd.read_csv('C://Users/86155/Desktop/testA.csv').loc[:,['id']]),outputs),axis=1)"
   ]
  },
  {
   "cell_type": "code",
   "execution_count": 21,
   "metadata": {},
   "outputs": [],
   "source": [
    "result_ = pd.DataFrame(final, columns=['Id','isDefault'])\n"
   ]
  },
  {
   "cell_type": "code",
   "execution_count": 22,
   "metadata": {},
   "outputs": [],
   "source": [
    "result_.to_csv(\"./out.csv\", encoding=\"gbk\", index=False)"
   ]
  },
  {
   "cell_type": "code",
   "execution_count": null,
   "metadata": {},
   "outputs": [],
   "source": []
  }
 ],
 "metadata": {
  "kernelspec": {
   "display_name": "Python 3",
   "language": "python",
   "name": "python3"
  },
  "language_info": {
   "codemirror_mode": {
    "name": "ipython",
    "version": 3
   },
   "file_extension": ".py",
   "mimetype": "text/x-python",
   "name": "python",
   "nbconvert_exporter": "python",
   "pygments_lexer": "ipython3",
   "version": "3.8.8"
  }
 },
 "nbformat": 4,
 "nbformat_minor": 4
}
