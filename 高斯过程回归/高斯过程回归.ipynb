{
 "cells": [
  {
   "cell_type": "code",
   "execution_count": 5,
   "metadata": {},
   "outputs": [],
   "source": [
    "import torch\n",
    "from torch.autograd import Variable\n",
    "import numpy as np"
   ]
  },
  {
   "cell_type": "code",
   "execution_count": 6,
   "metadata": {},
   "outputs": [],
   "source": [
    "test_x=torch.linspace(0,100,101,dtype=torch.float64).reshape(101,1)"
   ]
  },
  {
   "cell_type": "code",
   "execution_count": 7,
   "metadata": {},
   "outputs": [],
   "source": [
    "train_x=torch.tensor([3,1,5,8,9,2],dtype=torch.float64).reshape(6,1)"
   ]
  },
  {
   "cell_type": "code",
   "execution_count": 8,
   "metadata": {},
   "outputs": [],
   "source": [
    "train_y=torch.cos(train_x)+torch.normal(0,0.3,(6,1))"
   ]
  },
  {
   "cell_type": "code",
   "execution_count": 9,
   "metadata": {},
   "outputs": [],
   "source": [
    "class GPR(object):\n",
    "    def __init__(self,train_x,train_y,test_x,sigma,L):\n",
    "        self.train_x=train_x\n",
    "        self.train_y=train_y\n",
    "        self.test_x=test_x\n",
    "        self.sigma=sigma\n",
    "        self.L=L\n",
    "    \n",
    "    def kernel(self,x1,x2):\n",
    "        x=x1.reshape(-1,1)**2+x2.reshape(1,-1)**2-2*torch.mm(x1,x2.T)\n",
    "        return self.sigma**2*torch.exp(-(x)/(2*(self.L**2)))\n",
    "    \n",
    "    def get_mu_cov_loss(self):\n",
    "        Kff=self.kernel(self.train_x,train_x) #（N,N）\n",
    "        Kfy=self.kernel(self.train_x,self.test_x) #（N,K）\n",
    "        Kyf=Kfy.T#(K,N)\n",
    "        Kyy=self.kernel(self.test_x,self.test_x)#(k,k)\n",
    "        \n",
    "        mu=torch.mm(torch.mm(Kyf,Kff.inverse()),self.train_y)\n",
    "        cov=Kyy-torch.mm(torch.mm(Kyf,Kff.inverse()),Kfy)\n",
    "        loss=1/2*torch.mm(torch.mm(self.train_y.T,Kff.inverse()),self.train_y)+1/2*torch.log(torch.det(Kff))\n",
    "        \n",
    "        return mu,cov,loss\n",
    "    "
   ]
  },
  {
   "cell_type": "code",
   "execution_count": 13,
   "metadata": {},
   "outputs": [],
   "source": [
    "def train(epoches,train_x,train_y,test_x):\n",
    "    sigma=Variable(torch.randn(1,1,dtype=torch.float64),requires_grad=True)\n",
    "    L=Variable(torch.randn(1,1,dtype=torch.float64),requires_grad=True)\n",
    "    learn_rating=0.0001\n",
    "    for i in range(epoches):\n",
    "        mu,cov,loss=GPR(train_x,train_y,test_x,sigma,L).get_mu_cov_loss()\n",
    "        loss.backward()\n",
    "        sigma.data=sigma.data-learn_rating*sigma.grad.data\n",
    "        L.data=L.data-learn_rating*L.grad.data\n",
    "        \n",
    "        sigma.grad.data.zero_()\n",
    "        L.grad.data.zero_()\n",
    "        \n",
    "        \n",
    "    mu,cov,loss=GPR(train_x,train_y,test_x,sigma,L).get_mu_cov_loss()\n",
    "    return mu\n"
   ]
  },
  {
   "cell_type": "code",
   "execution_count": 14,
   "metadata": {},
   "outputs": [],
   "source": [
    "mu=train(100,train_x,train_y,test_x)"
   ]
  }
 ],
 "metadata": {
  "kernelspec": {
   "display_name": "Python 3",
   "language": "python",
   "name": "python3"
  },
  "language_info": {
   "codemirror_mode": {
    "name": "ipython",
    "version": 3
   },
   "file_extension": ".py",
   "mimetype": "text/x-python",
   "name": "python",
   "nbconvert_exporter": "python",
   "pygments_lexer": "ipython3",
   "version": "3.8.3"
  }
 },
 "nbformat": 4,
 "nbformat_minor": 4
}
