{
 "cells": [
  {
   "cell_type": "code",
   "execution_count": 1,
   "metadata": {},
   "outputs": [],
   "source": [
    "import numpy as np\n",
    "from matplotlib import pyplot as plt"
   ]
  },
  {
   "cell_type": "code",
   "execution_count": 2,
   "metadata": {},
   "outputs": [],
   "source": [
    "#测试集与训练集划分，和数据预处理（归一化）\n",
    "import numpy as np\n",
    "import pandas as pd\n",
    "dataset=pd.read_csv('C://Users//zhou//Desktop/iris.csv')\n",
    "dataset=np.array(dataset)\n",
    "data_test1=dataset[0:10,0:]\n",
    "data_test2=dataset[50:60,0:]\n",
    "data_test3=dataset[100:110,0:]\n",
    "data_test=np.vstack((data_test1,data_test2))\n",
    "data_test=np.vstack((data_test,data_test3))\n",
    "data_train1=dataset[10:50,0:]\n",
    "data_train2=dataset[60:100,0:]\n",
    "data_train3=dataset[110:,0:]\n",
    "data_train=np.vstack((data_train1,data_train2))\n",
    "data_train=np.vstack((data_train,data_train3))\n",
    "data_train_label=data_train[0:,-1]\n",
    "data_train=data_train[0:,0:4]\n",
    "coun=0\n",
    "data_test_label=data_test[0:,-1]\n",
    "data_test=data_test[0:,0:4]\n",
    "for label in data_test_label:\n",
    "    coun+=1\n",
    "    if  label=='Iris-setosa':\n",
    "        data_test_label[coun-1]=0\n",
    "    if label=='Iris-versicolor':\n",
    "        data_test_label[coun-1]=1\n",
    "    if label=='Iris-virginica':\n",
    "        data_test_label[coun-1]=2\n",
    "coun1=0\n",
    "for label1 in data_train_label:\n",
    "    coun1+=1\n",
    "    if  label1=='Iris-setosa':\n",
    "        data_train_label[coun1-1]=0\n",
    "    if label1=='Iris-versicolor':\n",
    "        data_train_label[coun1-1]=1\n",
    "    if label1=='Iris-virginica':\n",
    "        data_train_label[coun1-1]=2   \n",
    "data_train1=data_train\n",
    "data_train=(data_train-data_train.mean(axis=0))/(data_train.max(axis=0)-data_train.min(axis=0))\n",
    "data_test=(data_test-data_test.mean(axis=0))/(data_test.max(axis=0)-data_test.min(axis=0))"
   ]
  },
  {
   "cell_type": "code",
   "execution_count": 3,
   "metadata": {},
   "outputs": [],
   "source": [
    "def k_means(dataset,k,maxiter):\n",
    "    dataset=np.mat(dataset)\n",
    "    center_list=[]\n",
    "    candidate=[]\n",
    "    iter_num=0\n",
    "    for i in range(k):\n",
    "        center_list.append([])\n",
    "        candidate.append([])\n",
    "    for count in range(k):\n",
    "        center_list[count].append(dataset[count*50])\n",
    "    while iter_num<maxiter:\n",
    "        for feature in dataset:\n",
    "            distance_list=[]\n",
    "            for center in center_list:\n",
    "                distance=np.linalg.norm(feature-center[0])\n",
    "                distance_list.append(distance)\n",
    "            candidate[distance_list.index(min(distance_list))].append(feature)\n",
    "        for i in range(k):\n",
    "            center_list[i][0]=sum(candidate[i])/len(candidate[i])\n",
    "        iter_num+=1\n",
    "    return center_list       "
   ]
  },
  {
   "cell_type": "code",
   "execution_count": 4,
   "metadata": {},
   "outputs": [
    {
     "name": "stdout",
     "output_type": "stream",
     "text": [
      "0.8666666666666667\n"
     ]
    }
   ],
   "source": [
    "#k_means正确率测试\n",
    "k_means_count=0\n",
    "k_means_count_true=0\n",
    "center_list=k_means(data_train,3,50)\n",
    "for sample in data_test:\n",
    "    k_means_count+=1\n",
    "    distance_list=[]\n",
    "    for center in center_list:\n",
    "        disance=np.linalg.norm(sample-center[0])\n",
    "        distance_list.append(disance)\n",
    "    if distance_list.index(min(distance_list))==data_test_label[k_means_count-1]:\n",
    "        k_means_count_true+=1\n",
    "print(k_means_count_true/k_means_count)"
   ]
  },
  {
   "cell_type": "code",
   "execution_count": 5,
   "metadata": {},
   "outputs": [],
   "source": [
    "#PCA数据降维\n",
    "def PCA(matX,k):\n",
    "    average=np.mean(matX,axis=0)\n",
    "    m,n=matX.shape\n",
    "    avgs=np.tile(average,(m,1))\n",
    "    data_adjust=matX-avgs\n",
    "    data_adjust=np.array(data_adjust,dtype=float)\n",
    "    covX=np.cov(data_adjust.T)\n",
    "    feaValue,feaVec=np.linalg.eig(covX)\n",
    "    index=np.argsort(-feaValue)\n",
    "    selectVec=np.matrix(feaVec.T[index[:k]])\n",
    "    final=matX*selectVec.T\n",
    "    return(final)"
   ]
  },
  {
   "cell_type": "code",
   "execution_count": 6,
   "metadata": {},
   "outputs": [],
   "source": [
    "data_train_down=PCA(data_train,2)\n",
    "data_test_down=PCA(data_test,2)"
   ]
  },
  {
   "cell_type": "code",
   "execution_count": 7,
   "metadata": {},
   "outputs": [],
   "source": [
    "from matplotlib import pyplot as plt\n",
    "def visual_and_predict(dataset,maxiter,data_test):\n",
    "    data_test=np.mat(data_test)\n",
    "    dataset=np.mat(dataset)\n",
    "    plt.figure(figsize=(30,15),dpi=80)\n",
    "    list_color=[]\n",
    "    count=0\n",
    "    data_train_down=PCA(data_train,2)\n",
    "    for i in range(3):\n",
    "        list_color.append([])\n",
    "    center_list=k_means(dataset,3,maxiter)\n",
    "    for i in dataset:\n",
    "        count+=1\n",
    "        distance_list=[]\n",
    "        for center in center_list:\n",
    "            distance=np.linalg.norm(center[0]-i)\n",
    "            distance_list.append(distance)\n",
    "        index=distance_list.index(min(distance_list))\n",
    "        list_color[index].append(data_train_down[count-1])\n",
    "    plt.scatter([list_color[0][i][0,0] for i in range(len(list_color[0]))],[list_color[0][j][0,1] for j in range(len(list_color[0]))],color='red')\n",
    "    plt.scatter([list_color[1][i][0,0] for i in range(len(list_color[1]))],[list_color[1][j][0,1] for j in range(len(list_color[1]))],color='blue')\n",
    "    plt.scatter([list_color[2][i][0,0] for i in range(len(list_color[2]))],[list_color[2][j][0,1] for j in range(len(list_color[2]))],color='yellow')\n",
    "    distance_list1=[]\n",
    "    data_test_down=PCA(data_test,2)\n",
    "    count1=0\n",
    "    list_color1=[]\n",
    "    for i in range(3):\n",
    "        list_color1.append([])\n",
    "    for sample in data_test:\n",
    "        count1+=1\n",
    "        distance_list1=[]\n",
    "        for center in center_list:\n",
    "            disance1=np.linalg.norm(center[0]-sample)\n",
    "            distance_list1.append(disance1)\n",
    "        index=distance_list1.index(min(distance_list1))\n",
    "        list_color1[index].append(data_test_down[count1-1])\n",
    "    plt.scatter([list_color1[0][i][0,0] for i in range(len(list_color1[0]))],[list_color1[0][j][0,1] for j in range(len(list_color1[0]))],color='red')\n",
    "    plt.scatter([list_color1[1][i][0,0] for i in range(len(list_color1[1]))],[list_color1[1][j][0,1] for j in range(len(list_color1[1]))],color='blue')\n",
    "    plt.scatter([list_color1[2][i][0,0] for i in range(len(list_color1[2]))],[list_color1[2][j][0,1] for j in range(len(list_color1[2]))],color='yellow')\n",
    "        \n"
   ]
  },
  {
   "cell_type": "code",
   "execution_count": 8,
   "metadata": {},
   "outputs": [
    {
     "data": {
      "image/png": "[encoded data removed]",
      "text/plain": [
       "<Figure size 2400x1200 with 1 Axes>"
      ]
     },
     "metadata": {
      "needs_background": "light"
     },
     "output_type": "display_data"
    }
   ],
   "source": [
    "visual_and_predict(data_train,50,data_test)"
   ]
  },
  {
   "cell_type": "code",
   "execution_count": 9,
   "metadata": {},
   "outputs": [],
   "source": [
    "import numpy as np"
   ]
  },
  {
   "cell_type": "code",
   "execution_count": 10,
   "metadata": {},
   "outputs": [],
   "source": [
    "def pro_debsity(x,miu,sigma):\n",
    "    return (1/(2*np.pi*(sigma**2))**0.5)*np.exp(-(1/(2*(sigma**2)))*((x-miu)**2).sum(axis=1))"
   ]
  },
  {
   "cell_type": "code",
   "execution_count": 11,
   "metadata": {},
   "outputs": [],
   "source": [
    "def GMM(dataset,maxiter):\n",
    "    dataset=np.array(dataset,dtype=float)\n",
    "    m,n=dataset.shape\n",
    "    miu_A=np.array([-0.6,0])\n",
    "    miu_B=np.array([0,0])\n",
    "    miu_C=np.array([1,0])\n",
    "    sigma_A=sum(sum((dataset-miu_A)**2))/m\n",
    "    sigma_B=sum(sum((dataset-miu_B)**2))/m\n",
    "    sigma_C=sum(sum((dataset-miu_C)**2))/m\n",
    "    iter_num=0\n",
    "    while iter_num<maxiter:\n",
    "        iter_num+=1\n",
    "        list_A_score=[]\n",
    "        list_B_score=[]\n",
    "        list_C_score=[]\n",
    "        A_pro=pro_debsity(dataset,miu_A,sigma_A)\n",
    "        B_pro=pro_debsity(dataset,miu_B,sigma_B)\n",
    "        C_pro=pro_debsity(dataset,miu_C,sigma_C)\n",
    "        for i in range(m):\n",
    "            list_A_score.append(A_pro[i]/(A_pro[i]+B_pro[i]+C_pro[i]))\n",
    "            list_B_score.append(B_pro[i]/(A_pro[i]+B_pro[i]+C_pro[i]))\n",
    "            list_C_score.append(C_pro[i]/(C_pro[i]+A_pro[i]+B_pro[i]))\n",
    "        array_A_score=np.array(list_A_score)\n",
    "        array_B_score=np.array(list_B_score)\n",
    "        array_C_score=np.array(list_C_score)\n",
    "        miu_A=dataset.T.dot(array_A_score)/sum(array_A_score)\n",
    "        miu_B=dataset.T.dot(array_B_score)/sum(array_B_score)\n",
    "        miu_C=dataset.T.dot(array_C_score)/sum(array_C_score)\n",
    "        sigma_A=[]\n",
    "        sigma_B=[]\n",
    "        sigma_C=[]\n",
    "        for i in range(m):\n",
    "            sigma_A.append(array_A_score[i]*(dataset[i]-miu_A).dot((dataset[i]-miu_A).T))\n",
    "            sigma_B.append(array_B_score[i]*(dataset[i]-miu_B).dot((dataset[i]-miu_B).T))\n",
    "            sigma_C.append(array_C_score[i]*(dataset[i]-miu_C).dot((dataset[i]-miu_C).T))\n",
    "        sigma_A=sum(sigma_A)/sum(array_A_score)\n",
    "        sigma_B=sum(sigma_B)/sum(array_B_score)\n",
    "        sigma_C=sum(sigma_C)/sum(array_C_score)\n",
    "    list_miu=[miu_A,miu_B,miu_C]\n",
    "    list_sigma=[sigma_A,sigma_B,sigma_C]\n",
    "    return list_miu,list_sigma"
   ]
  },
  {
   "cell_type": "code",
   "execution_count": 12,
   "metadata": {},
   "outputs": [
    {
     "data": {
      "text/plain": [
       "([array([-0.61449642, -0.05793615]),\n",
       "  array([0.12953137, 0.04999719]),\n",
       "  array([0.30915833, 0.02914817])],\n",
       " [0.04768770310819331, 5.287148818856069e-29, 0.08358271178176528])"
      ]
     },
     "execution_count": 12,
     "metadata": {},
     "output_type": "execute_result"
    }
   ],
   "source": [
    "GMM(data_train_down,4)"
   ]
  },
  {
   "cell_type": "code",
   "execution_count": 13,
   "metadata": {},
   "outputs": [
    {
     "name": "stdout",
     "output_type": "stream",
     "text": [
      "0.7666666666666667\n"
     ]
    }
   ],
   "source": [
    "#GMM正确率测试\n",
    "GMM_count=0\n",
    "GMM_count_true=0\n",
    "list_miu,list_sigma=GMM(data_train_down,1)\n",
    "for sample in data_test_down:\n",
    "    sample=sample.reshape(1,2)\n",
    "    sample=np.array(sample,dtype=float)\n",
    "    GMM_count+=1\n",
    "    list_label=[]\n",
    "    for i in range(3):\n",
    "        list_label.append(pro_debsity(sample,list_miu[i],list_sigma[i]))\n",
    "    if list_label.index(max(list_label))==data_test_label[GMM_count-1]:\n",
    "        GMM_count_true+=1\n",
    "print(GMM_count_true/GMM_count)"
   ]
  },
  {
   "cell_type": "code",
   "execution_count": 14,
   "metadata": {},
   "outputs": [],
   "source": [
    "#贝叶斯网络\n",
    "def NBtrain(data_train,data_label):\n",
    "    h=len(set(data_label.tolist()))\n",
    "    data_train_mean=data_train.mean(axis=0)\n",
    "    m,n=data_train.shape\n",
    "    data_num=np.zeros((h,n,2))\n",
    "    count=0\n",
    "    for sample in data_train:\n",
    "        count+=1\n",
    "        for count_feature in range(len(sample)):\n",
    "            if sample[count_feature]>=data_train_mean[count_feature]:\n",
    "                data_num[data_label[count-1]][count_feature,0]+=1\n",
    "            else:\n",
    "                data_num[data_label[count-1]][count_feature,1]+=1\n",
    "    data_pro=np.zeros((h,n,2))\n",
    "    for i in range(h):\n",
    "        for count_feature in range(len(data_train[0])):\n",
    "            data_pro[i][count_feature,0]=(data_num[i][count_feature,0]+1)/(sum(data_num[i][count_feature])+4)\n",
    "            data_pro[i][count_feature,1]=(data_num[i][count_feature,1]+1)/(sum(data_num[i][count_feature])+4)\n",
    "    list_pro_label=[]\n",
    "    count1=0\n",
    "    count2=0\n",
    "    count3=0\n",
    "    for label in data_label:\n",
    "        if label==0:\n",
    "            count1+=1\n",
    "        if label==1:\n",
    "            count2+=1\n",
    "        if label==2:\n",
    "            count3+=1\n",
    "    list_pro_label.append(count1/m)\n",
    "    list_pro_label.append(count2/m)\n",
    "    list_pro_label.append(count3/m)\n",
    "    return data_pro,list_pro_label,data_train_mean"
   ]
  },
  {
   "cell_type": "code",
   "execution_count": 15,
   "metadata": {},
   "outputs": [],
   "source": [
    "#分类器\n",
    "def NBclassify(data_train,data_train_label,sample):\n",
    "    data_pro,list_pro_label,data_train_mean=NBtrain(data_train,data_train_label)\n",
    "    h,m,n=data_pro.shape\n",
    "    list_pro=[]\n",
    "    for label in range(h):\n",
    "        pro=1\n",
    "        for feature_num in range(m):\n",
    "            if sample[feature_num]>=data_train_mean[feature_num]:\n",
    "                pro*=data_pro[label][feature_num,0]\n",
    "            else:\n",
    "                pro*=data_pro[label][feature_num,1]\n",
    "        list_pro.append(pro)\n",
    "    return list_pro.index(max(list_pro))"
   ]
  },
  {
   "cell_type": "code",
   "execution_count": 16,
   "metadata": {},
   "outputs": [
    {
     "name": "stdout",
     "output_type": "stream",
     "text": [
      "0.7333333333333333\n"
     ]
    }
   ],
   "source": [
    "#贝叶斯的正确率计算\n",
    "count=0\n",
    "count_true=0\n",
    "for sample in data_test:\n",
    "    count+=1\n",
    "    label=NBclassify(data_train,data_train_label,sample)\n",
    "    if label==data_test_label[count-1]:\n",
    "        count_true+=1\n",
    "print(count_true/count)"
   ]
  },
  {
   "cell_type": "code",
   "execution_count": 364,
   "metadata": {},
   "outputs": [],
   "source": [
    "boston=pd.read_csv('C://Users//zhou//Desktop/housing.data')"
   ]
  },
  {
   "cell_type": "code",
   "execution_count": 365,
   "metadata": {},
   "outputs": [],
   "source": [
    "f=open('C://Users//zhou//Desktop/housing.data','r')"
   ]
  },
  {
   "cell_type": "code",
   "execution_count": 366,
   "metadata": {},
   "outputs": [],
   "source": [
    "list1=[]\n",
    "for line in f.readlines():\n",
    "    line=line.strip().split()\n",
    "    list1.append(line)\n",
    "data=pd.DataFrame(list1)"
   ]
  },
  {
   "cell_type": "code",
   "execution_count": 367,
   "metadata": {},
   "outputs": [],
   "source": [
    "def str_to_float(arr):\n",
    "    m,n=arr.shape\n",
    "    for i in range(m):\n",
    "        arr[i][0]=float(arr[i][0])\n",
    "    return arr"
   ]
  },
  {
   "cell_type": "code",
   "execution_count": 368,
   "metadata": {},
   "outputs": [],
   "source": [
    "data_CRIM=str_to_float(np.array(data.iloc[0:,[0]]))\n",
    "data_ZN=str_to_float(np.array(data.iloc[0:,[1]]))\n",
    "data_INDUS=str_to_float(np.array(data.iloc[0:,[2]]))\n",
    "data_CHAS=str_to_float(np.array(data.iloc[0:,[3]]))\n",
    "data_NOX=str_to_float(np.array(data.iloc[0:,[4]]))\n",
    "data_RM=str_to_float(np.array(data.iloc[0:,[5]]))\n",
    "data_AGE=str_to_float(np.array(data.iloc[0:,[6]]))\n",
    "data_DIS=str_to_float(np.array(data.iloc[0:,[7]]))\n",
    "data_RAD=str_to_float(np.array(data.iloc[0:,[8]]))\n",
    "data_TAX=str_to_float(np.array(data.iloc[0:,[9]]))\n",
    "data_PTRATIO=str_to_float(np.array(data.iloc[0:,[10]]))\n",
    "data_B=str_to_float(np.array(data.iloc[0:,[11]]))\n",
    "data_LSTAT=str_to_float(np.array(data.iloc[0:,[12]]))\n",
    "data_MEDV=str_to_float(np.array(data.iloc[0:,[13]]))"
   ]
  },
  {
   "cell_type": "code",
   "execution_count": 369,
   "metadata": {},
   "outputs": [],
   "source": [
    "def k_means(dataset,k,maxiter):\n",
    "    dataset=np.mat(dataset)\n",
    "    center_list=[]\n",
    "    candidate=[]\n",
    "    iter_num=0\n",
    "    for i in range(k):\n",
    "        center_list.append([])\n",
    "        candidate.append([])\n",
    "    for count in range(k):\n",
    "        center_list[count].append(dataset[count*50])\n",
    "    while iter_num<maxiter:\n",
    "        for feature in dataset:\n",
    "            distance_list=[]\n",
    "            for center in center_list:\n",
    "                distance=np.linalg.norm(feature-center[0])\n",
    "                distance_list.append(distance)\n",
    "            candidate[distance_list.index(min(distance_list))].append(feature)\n",
    "        for i in range(k):\n",
    "            center_list[i][0]=sum(candidate[i])/len(candidate[i])\n",
    "        iter_num+=1\n",
    "    return center_list       "
   ]
  },
  {
   "cell_type": "code",
   "execution_count": 370,
   "metadata": {},
   "outputs": [
    {
     "data": {
      "text/plain": [
       "63.23172995780596"
      ]
     },
     "execution_count": 370,
     "metadata": {},
     "output_type": "execute_result"
    }
   ],
   "source": [
    "k_means(data_AGE,3,20)[0][0][0,0]"
   ]
  },
  {
   "cell_type": "code",
   "execution_count": 371,
   "metadata": {},
   "outputs": [],
   "source": [
    "def vote_label(sample,center_list):\n",
    "    sample=sample[0]\n",
    "    list_label=[0,1,2]\n",
    "    center_new=[]\n",
    "    for i in center_list:\n",
    "        center_new.append(i[0][0,0])\n",
    "    center_new.sort()\n",
    "    distance_list=[]\n",
    "    for center in center_new:\n",
    "        center=float(center)\n",
    "        disance=abs(sample-center)\n",
    "        distance_list.append(disance)\n",
    "    return list_label[distance_list.index(min(distance_list))]"
   ]
  },
  {
   "cell_type": "code",
   "execution_count": 372,
   "metadata": {},
   "outputs": [],
   "source": [
    "list_data=[data_AGE,data_B,data_CRIM,data_DIS,data_INDUS,data_LSTAT,data_MEDV,data_NOX,data_PTRATIO,data_RAD,data_RM,data_TAX,data_ZN]"
   ]
  },
  {
   "cell_type": "code",
   "execution_count": 373,
   "metadata": {},
   "outputs": [],
   "source": [
    "for data in list_data:\n",
    "    center_list=k_means(data,3,20)\n",
    "    for i in data:\n",
    "        i[0]=vote_label(i,center_list)"
   ]
  },
  {
   "cell_type": "code",
   "execution_count": 374,
   "metadata": {},
   "outputs": [],
   "source": [
    "data_final=np.hstack((data_CRIM,data_ZN,data_INDUS,data_CHAS,data_NOX,data_RM,data_AGE,data_DIS,data_RAD,data_TAX,data_PTRATIO,data_B,data_LSTAT,data_MEDV))"
   ]
  },
  {
   "cell_type": "code",
   "execution_count": 375,
   "metadata": {},
   "outputs": [
    {
     "data": {
      "text/plain": [
       "array([[0, 1, 0, ..., 2, 0, 1],\n",
       "       [0, 0, 1, ..., 2, 1, 1],\n",
       "       [0, 0, 1, ..., 2, 0, 2],\n",
       "       ...,\n",
       "       [0, 0, 1, ..., 2, 0, 1],\n",
       "       [0, 0, 1, ..., 2, 0, 1],\n",
       "       [0, 0, 1, ..., 2, 0, 0]], dtype=object)"
      ]
     },
     "execution_count": 375,
     "metadata": {},
     "output_type": "execute_result"
    }
   ],
   "source": [
    "data_final"
   ]
  },
  {
   "cell_type": "code",
   "execution_count": 376,
   "metadata": {},
   "outputs": [],
   "source": [
    "nb_data_train=data_final[150:,0:-1]\n",
    "nb_data_train_label=data_final[150:,-1]\n",
    "nb_data_test=data_final[0:150,0:-1]\n",
    "nb_data_test_label=data_final[0:150,-1]"
   ]
  },
  {
   "cell_type": "code",
   "execution_count": 377,
   "metadata": {},
   "outputs": [
    {
     "data": {
      "text/plain": [
       "(356, 13)"
      ]
     },
     "execution_count": 377,
     "metadata": {},
     "output_type": "execute_result"
    }
   ],
   "source": [
    "nb_data_train.shape"
   ]
  },
  {
   "cell_type": "code",
   "execution_count": 378,
   "metadata": {},
   "outputs": [],
   "source": [
    "def NBtrain_2(nb_data_train,nb_data_train_label):\n",
    "    h=len(set(nb_data_train_label[0:].tolist()))\n",
    "    m1,=nb_data_train[0:,2].shape\n",
    "    data_num_1=np.zeros((h,2,3))\n",
    "    for i in range(3):\n",
    "        for num in range(m1):\n",
    "            for a in range(3):\n",
    "                if nb_data_train[0:,1][num]==a:\n",
    "                    data_num_1[i][0,a]+=1\n",
    "                if nb_data_train[0:,6][num]==a:\n",
    "                    data_num_1[i][1,a]+=1\n",
    "    data_num_2=np.zeros((h,2,3))\n",
    "    for i in range(3):\n",
    "        for num in range(m1):\n",
    "            for a in range(3):\n",
    "                if nb_data_train[0:,11][num]==a:\n",
    "                    data_num_2[i][0,a]+=1\n",
    "                if nb_data_train[0:,12][num]==a:\n",
    "                    data_num_2[i][1,a]+=1\n",
    "    data_num_3=np.zeros((h,9,3))\n",
    "    for i in range(3):\n",
    "        for num in range(m1):\n",
    "            for a in range(3):\n",
    "                if nb_data_train[0:,9][num]==a:\n",
    "                    data_num_3[i][0,a]+=1\n",
    "                if nb_data_train[0:,2][num]==a:\n",
    "                    data_num_3[i][1,a]+=1\n",
    "                if nb_data_train[0:,3][num]==a:\n",
    "                    data_num_3[i][2,a]+=1\n",
    "                if nb_data_train[0:,0][num]==a:\n",
    "                    data_num_3[i][3,a]+=1\n",
    "                if nb_data_train[0:,4][num]==a:\n",
    "                    data_num_3[i][4,a]+=1\n",
    "                if nb_data_train[0:,5][num]==a:\n",
    "                    data_num_3[i][5,a]+=1\n",
    "                if nb_data_train[0:,7][num]==a:\n",
    "                    data_num_3[i][6,a]+=1\n",
    "                if nb_data_train[0:,8][num]==a:\n",
    "                    data_num_3[i][7,a]+=1\n",
    "                if nb_data_train[0:,10][num]==a:\n",
    "                    data_num_3[i][8,a]+=1\n",
    "    data_num_1_pro=np.zeros((h,2,3))\n",
    "    data_num_2_pro=np.zeros((h,2,3))\n",
    "    data_num_3_pro=np.zeros((h,9,3))\n",
    "    for i in range(3):\n",
    "        for a in range(2):\n",
    "            sum_1=sum(data_num_1[i][a,0:])\n",
    "            for label in range(3):\n",
    "                data_num_1_pro[i][a,label]=(1+data_num_1[i][a,label])/(sum_1+3)\n",
    "    for i in range(3):\n",
    "        for a in range(2):\n",
    "            sum_2=sum(data_num_2[i][a,0:])\n",
    "            for label in range(3):\n",
    "                data_num_2_pro[i][a,label]=(1+data_num_2[i][a,label])/(sum_2+3)\n",
    "    for i in range(3):\n",
    "        for a in range(9):\n",
    "            sum_3=sum(data_num_3[i][a,0:])\n",
    "            for label in range(3):\n",
    "                data_num_3_pro[i][a,label]=(1+data_num_3[i][a,label])/(sum_2+3)\n",
    "    count_0=0\n",
    "    count_1=0\n",
    "    count_2=0\n",
    "    for i in nb_data_train_label:\n",
    "        if i==0:\n",
    "            count_0+=1\n",
    "        if i==1:\n",
    "            count_1+=1\n",
    "        if i==2:\n",
    "            count_2+=1\n",
    "    pro_0=count_0/(count_0+count_1+count_2)\n",
    "    pro_1=count_1/(count_0+count_1+count_2)\n",
    "    pro_2=count_2/(count_0+count_1+count_2)\n",
    "    return pro_0,pro_1,pro_2,data_num_1_pro,data_num_2_pro,data_num_3_pro\n",
    "        \n",
    "                \n",
    "    "
   ]
  },
  {
   "cell_type": "code",
   "execution_count": 379,
   "metadata": {},
   "outputs": [
    {
     "data": {
      "text/plain": [
       "(0.33146067415730335,\n",
       " 0.4859550561797753,\n",
       " 0.18258426966292135,\n",
       " array([[[0.72423398, 0.16991643, 0.10584958],\n",
       "         [0.26183844, 0.2367688 , 0.50139276]],\n",
       " \n",
       "        [[0.72423398, 0.16991643, 0.10584958],\n",
       "         [0.26183844, 0.2367688 , 0.50139276]],\n",
       " \n",
       "        [[0.72423398, 0.16991643, 0.10584958],\n",
       "         [0.26183844, 0.2367688 , 0.50139276]]]),\n",
       " array([[[0.12256267, 0.24233983, 0.63509749],\n",
       "         [0.36768802, 0.36490251, 0.26740947]],\n",
       " \n",
       "        [[0.12256267, 0.24233983, 0.63509749],\n",
       "         [0.36768802, 0.36490251, 0.26740947]],\n",
       " \n",
       "        [[0.12256267, 0.24233983, 0.63509749],\n",
       "         [0.36768802, 0.36490251, 0.26740947]]]),\n",
       " array([[[0.31197772, 0.30362117, 0.38440111],\n",
       "         [0.28412256, 0.24512535, 0.47075209],\n",
       "         [0.89972145, 0.09749304, 0.00278552],\n",
       "         [0.57660167, 0.22562674, 0.19777159],\n",
       "         [0.26183844, 0.41225627, 0.32590529],\n",
       "         [0.34261838, 0.47075209, 0.18662953],\n",
       "         [0.57103064, 0.24791086, 0.1810585 ],\n",
       "         [0.11977716, 0.5097493 , 0.37047354],\n",
       "         [0.2005571 , 0.28690808, 0.51253482]],\n",
       " \n",
       "        [[0.31197772, 0.30362117, 0.38440111],\n",
       "         [0.28412256, 0.24512535, 0.47075209],\n",
       "         [0.89972145, 0.09749304, 0.00278552],\n",
       "         [0.57660167, 0.22562674, 0.19777159],\n",
       "         [0.26183844, 0.41225627, 0.32590529],\n",
       "         [0.34261838, 0.47075209, 0.18662953],\n",
       "         [0.57103064, 0.24791086, 0.1810585 ],\n",
       "         [0.11977716, 0.5097493 , 0.37047354],\n",
       "         [0.2005571 , 0.28690808, 0.51253482]],\n",
       " \n",
       "        [[0.31197772, 0.30362117, 0.38440111],\n",
       "         [0.28412256, 0.24512535, 0.47075209],\n",
       "         [0.89972145, 0.09749304, 0.00278552],\n",
       "         [0.57660167, 0.22562674, 0.19777159],\n",
       "         [0.26183844, 0.41225627, 0.32590529],\n",
       "         [0.34261838, 0.47075209, 0.18662953],\n",
       "         [0.57103064, 0.24791086, 0.1810585 ],\n",
       "         [0.11977716, 0.5097493 , 0.37047354],\n",
       "         [0.2005571 , 0.28690808, 0.51253482]]]))"
      ]
     },
     "execution_count": 379,
     "metadata": {},
     "output_type": "execute_result"
    }
   ],
   "source": [
    "NBtrain_2(nb_data_train,nb_data_train_label)"
   ]
  },
  {
   "cell_type": "code",
   "execution_count": 380,
   "metadata": {},
   "outputs": [
    {
     "data": {
      "text/plain": [
       "-7.0"
      ]
     },
     "execution_count": 380,
     "metadata": {},
     "output_type": "execute_result"
    }
   ],
   "source": [
    "import math\n",
    "math.log10(0.0000001)"
   ]
  },
  {
   "cell_type": "code",
   "execution_count": 381,
   "metadata": {},
   "outputs": [
    {
     "data": {
      "text/plain": [
       "(0.33146067415730335,\n",
       " 0.4859550561797753,\n",
       " 0.18258426966292135,\n",
       " array([[[0.72423398, 0.16991643, 0.10584958],\n",
       "         [0.26183844, 0.2367688 , 0.50139276]],\n",
       " \n",
       "        [[0.72423398, 0.16991643, 0.10584958],\n",
       "         [0.26183844, 0.2367688 , 0.50139276]],\n",
       " \n",
       "        [[0.72423398, 0.16991643, 0.10584958],\n",
       "         [0.26183844, 0.2367688 , 0.50139276]]]),\n",
       " array([[[0.12256267, 0.24233983, 0.63509749],\n",
       "         [0.36768802, 0.36490251, 0.26740947]],\n",
       " \n",
       "        [[0.12256267, 0.24233983, 0.63509749],\n",
       "         [0.36768802, 0.36490251, 0.26740947]],\n",
       " \n",
       "        [[0.12256267, 0.24233983, 0.63509749],\n",
       "         [0.36768802, 0.36490251, 0.26740947]]]),\n",
       " array([[[0.31197772, 0.30362117, 0.38440111],\n",
       "         [0.28412256, 0.24512535, 0.47075209],\n",
       "         [0.89972145, 0.09749304, 0.00278552],\n",
       "         [0.57660167, 0.22562674, 0.19777159],\n",
       "         [0.26183844, 0.41225627, 0.32590529],\n",
       "         [0.34261838, 0.47075209, 0.18662953],\n",
       "         [0.57103064, 0.24791086, 0.1810585 ],\n",
       "         [0.11977716, 0.5097493 , 0.37047354],\n",
       "         [0.2005571 , 0.28690808, 0.51253482]],\n",
       " \n",
       "        [[0.31197772, 0.30362117, 0.38440111],\n",
       "         [0.28412256, 0.24512535, 0.47075209],\n",
       "         [0.89972145, 0.09749304, 0.00278552],\n",
       "         [0.57660167, 0.22562674, 0.19777159],\n",
       "         [0.26183844, 0.41225627, 0.32590529],\n",
       "         [0.34261838, 0.47075209, 0.18662953],\n",
       "         [0.57103064, 0.24791086, 0.1810585 ],\n",
       "         [0.11977716, 0.5097493 , 0.37047354],\n",
       "         [0.2005571 , 0.28690808, 0.51253482]],\n",
       " \n",
       "        [[0.31197772, 0.30362117, 0.38440111],\n",
       "         [0.28412256, 0.24512535, 0.47075209],\n",
       "         [0.89972145, 0.09749304, 0.00278552],\n",
       "         [0.57660167, 0.22562674, 0.19777159],\n",
       "         [0.26183844, 0.41225627, 0.32590529],\n",
       "         [0.34261838, 0.47075209, 0.18662953],\n",
       "         [0.57103064, 0.24791086, 0.1810585 ],\n",
       "         [0.11977716, 0.5097493 , 0.37047354],\n",
       "         [0.2005571 , 0.28690808, 0.51253482]]]))"
      ]
     },
     "execution_count": 381,
     "metadata": {},
     "output_type": "execute_result"
    }
   ],
   "source": [
    "NBtrain_2(nb_data_train,nb_data_train_label)"
   ]
  },
  {
   "cell_type": "code",
   "execution_count": 382,
   "metadata": {},
   "outputs": [],
   "source": [
    "for i in range(150):\n",
    "    if nb_data_test[0:,3][i]==0.0:\n",
    "        nb_data_test[0:,3][i]=0\n",
    "    if nb_data_test[0:,3][i]==1.0:\n",
    "        nb_data_test[0:,3][i]=1\n"
   ]
  },
  {
   "cell_type": "code",
   "execution_count": 383,
   "metadata": {},
   "outputs": [
    {
     "data": {
      "text/plain": [
       "array([0, 0, 0, 0, 0, 0, 0, 0, 0, 0, 0, 0, 0, 0, 0, 0, 0, 0, 0, 0, 0, 0,\n",
       "       0, 0, 0, 0, 0, 0, 0, 0, 0, 0, 0, 0, 0, 0, 0, 0, 0, 0, 0, 0, 0, 0,\n",
       "       0, 0, 0, 0, 0, 0, 0, 0, 0, 0, 0, 0, 0, 0, 0, 0, 0, 0, 0, 0, 0, 0,\n",
       "       0, 0, 0, 0, 0, 0, 0, 0, 0, 0, 0, 0, 0, 0, 0, 0, 0, 0, 0, 0, 0, 0,\n",
       "       0, 0, 0, 0, 0, 0, 0, 0, 0, 0, 0, 0, 0, 0, 0, 0, 0, 0, 0, 0, 0, 0,\n",
       "       0, 0, 0, 0, 0, 0, 0, 0, 0, 0, 0, 0, 0, 0, 0, 0, 0, 0, 0, 0, 0, 0,\n",
       "       0, 0, 0, 0, 0, 0, 0, 0, 0, 0, 1, 0, 0, 0, 0, 0, 0, 0], dtype=object)"
      ]
     },
     "execution_count": 383,
     "metadata": {},
     "output_type": "execute_result"
    }
   ],
   "source": [
    "nb_data_test[0:,3]"
   ]
  },
  {
   "cell_type": "code",
   "execution_count": 384,
   "metadata": {},
   "outputs": [
    {
     "data": {
      "text/plain": [
       "(150, 13)"
      ]
     },
     "execution_count": 384,
     "metadata": {},
     "output_type": "execute_result"
    }
   ],
   "source": [
    "nb_data_test.shape"
   ]
  },
  {
   "cell_type": "code",
   "execution_count": null,
   "metadata": {},
   "outputs": [],
   "source": []
  },
  {
   "cell_type": "code",
   "execution_count": 385,
   "metadata": {},
   "outputs": [],
   "source": [
    "import math\n",
    "def NBclassify_2(pro_0,pro_1,pro_2,data_num_1_pro,data_num_2_pro,data_num_3_pro,sample):\n",
    "    pro_INDES_list=[]\n",
    "    pro_CRIM_list=[]\n",
    "    for i in range(3):\n",
    "        pro_INDES_list.append(math.log10(data_num_1_pro[i][0,sample[1]]*data_num_1_pro[i][1,sample[6]]))\n",
    "        pro_CRIM_list.append(math.log10(data_num_2_pro[i][0,sample[11]]*data_num_2_pro[i][1,sample[12]]))\n",
    "    list_all=[]\n",
    "    for i in range(3):\n",
    "        pro_all=list_all.append(math.log10(data_num_3_pro[i][0,sample[9]]*data_num_3_pro[i][1,sample[2]]*data_num_3_pro[i][2,sample[3]]*data_num_3_pro[i][3,sample[0]]*data_num_3_pro[i][4,sample[4]]*data_num_3_pro[i][5,sample[5]]*data_num_3_pro[i][6,sample[7]]*data_num_3_pro[i][7,sample[8]]*data_num_3_pro[i][8,sample[10]]))\n",
    "    list_vote=[]\n",
    "    list_pro=[]\n",
    "    list_pro.append(math.log10(pro_0))\n",
    "    list_pro.append(math.log10(pro_1))\n",
    "    list_pro.append(math.log10(pro_2))\n",
    "    for i in range(3):\n",
    "        list_vote.append(list_all[i]+pro_INDES_list[i]+pro_CRIM_list[i]+list_pro[i])\n",
    "    return list_vote.index(max(list_vote))"
   ]
  },
  {
   "cell_type": "code",
   "execution_count": 386,
   "metadata": {},
   "outputs": [
    {
     "name": "stdout",
     "output_type": "stream",
     "text": [
      "0.6066666666666667\n"
     ]
    }
   ],
   "source": [
    "#正确率测试\n",
    "count1=0\n",
    "count2=0\n",
    "pro_0,pro_1,pro_2,data_num_1_pro,data_num_2_pro,data_num_3_pro=NBtrain_2(nb_data_train,nb_data_train_label)\n",
    "for sample in nb_data_test:\n",
    "    count1+=1\n",
    "    pro_true=NBclassify_2(pro_0,pro_1,pro_2,data_num_1_pro,data_num_2_pro,data_num_3_pro,sample)\n",
    "    if nb_data_test_label[count1-1]==pro_true:\n",
    "        count2+=1\n",
    "print(count2/count1)"
   ]
  },
  {
   "cell_type": "code",
   "execution_count": null,
   "metadata": {},
   "outputs": [],
   "source": []
  },
  {
   "cell_type": "code",
   "execution_count": null,
   "metadata": {},
   "outputs": [],
   "source": []
  },
  {
   "cell_type": "code",
   "execution_count": null,
   "metadata": {},
   "outputs": [],
   "source": []
  },
  {
   "cell_type": "code",
   "execution_count": null,
   "metadata": {},
   "outputs": [],
   "source": []
  },
  {
   "cell_type": "code",
   "execution_count": null,
   "metadata": {},
   "outputs": [],
   "source": []
  },
  {
   "cell_type": "code",
   "execution_count": null,
   "metadata": {},
   "outputs": [],
   "source": []
  },
  {
   "cell_type": "code",
   "execution_count": null,
   "metadata": {},
   "outputs": [],
   "source": []
  },
  {
   "cell_type": "code",
   "execution_count": null,
   "metadata": {},
   "outputs": [],
   "source": []
  },
  {
   "cell_type": "code",
   "execution_count": null,
   "metadata": {},
   "outputs": [],
   "source": []
  },
  {
   "cell_type": "code",
   "execution_count": null,
   "metadata": {},
   "outputs": [],
   "source": []
  },
  {
   "cell_type": "code",
   "execution_count": null,
   "metadata": {},
   "outputs": [],
   "source": []
  }
 ],
 "metadata": {
  "kernelspec": {
   "display_name": "Python 3",
   "language": "python",
   "name": "python3"
  },
  "language_info": {
   "codemirror_mode": {
    "name": "ipython",
    "version": 3
   },
   "file_extension": ".py",
   "mimetype": "text/x-python",
   "name": "python",
   "nbconvert_exporter": "python",
   "pygments_lexer": "ipython3",
   "version": "3.8.3"
  }
 },
 "nbformat": 4,
 "nbformat_minor": 4
}
