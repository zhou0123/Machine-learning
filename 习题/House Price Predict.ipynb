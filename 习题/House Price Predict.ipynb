{
 "cells": [
  {
   "cell_type": "code",
   "execution_count": 2,
   "metadata": {},
   "outputs": [],
   "source": [
    "import pandas as pd\n",
    "import numpy as np"
   ]
  },
  {
   "cell_type": "markdown",
   "metadata": {},
   "source": [
    "# 数据处理"
   ]
  },
  {
   "cell_type": "code",
   "execution_count": 3,
   "metadata": {},
   "outputs": [],
   "source": [
    "class data_processing(object):\n",
    "    \n",
    "    def __init__(self,path,test_path):\n",
    "        \n",
    "        self.path=path\n",
    "        self.test_path=test_path\n",
    "    def load(self):\n",
    "        \n",
    "        data=pd.read_csv(self.path)\n",
    "        test=pd.read_csv(self.test_path)\n",
    "        \n",
    "        data=data.fillna(0)\n",
    "        test=test.fillna(0)\n",
    "        test=np.array(test)[:,1:]\n",
    "        data_train=np.array(data.iloc[:,1:-1])\n",
    "        data_labels=np.array(data.iloc[:,-1])\n",
    "        \n",
    "        \n",
    "        return data_train,data_labels,test\n",
    "    \n",
    "    def code(self):\n",
    "        \n",
    "        data_train,data_labels,test=self.load()\n",
    "        \n",
    "        m,n=data_train.shape\n",
    "        \n",
    "        for i in range(n):\n",
    "            \n",
    "            ele=list(set(data_train[:,i]))\n",
    "            \n",
    "            if isinstance(ele[0],str) or isinstance(ele[1],str):\n",
    "                for j in range(len(ele)):\n",
    "\n",
    "                    data_train[:,i][data_train[:,i]==ele[j]]=j\n",
    "            test_ele=list(set(test[:,i]))\n",
    "\n",
    "            if isinstance(test_ele[0],str) or isinstance(test_ele[1],str):\n",
    "                for j in range(len(test_ele)):\n",
    "\n",
    "                    test[:,i][test[:,i]==test_ele[j]]=j\n",
    "                    \n",
    "            \n",
    "        return data_train,data_labels,test\n",
    "    \n",
    "    def norm(self):\n",
    "        \n",
    "        data_train,data_labels,test=self.code()\n",
    "        \n",
    "        data_max=data_train.max(axis=0)\n",
    "        data_min=data_train.min(axis=0)\n",
    "        \n",
    "        test_max=test.max(axis=0)\n",
    "        test_min=test.min(axis=0)\n",
    "        test=(test-test_min)/(test_max-test_min)\n",
    "        \n",
    "        data_train=(data_train-data_min)/(data_max-data_min)\n",
    "        \n",
    "        return data_train,data_labels,test\n",
    "                    \n"
   ]
  },
  {
   "cell_type": "code",
   "execution_count": 4,
   "metadata": {},
   "outputs": [],
   "source": [
    "data_train,data_labels,test=data_processing('./相关资料/train.csv','./相关资料/test.csv').norm()"
   ]
  },
  {
   "cell_type": "markdown",
   "metadata": {},
   "source": [
    "# 划分训练集，测试集"
   ]
  },
  {
   "cell_type": "code",
   "execution_count": 6,
   "metadata": {},
   "outputs": [],
   "source": [
    "data_test=data_train[1200:]\n",
    "data_test_labels=data_labels[1200:]\n",
    "data_train=data_train[0:1200]\n",
    "data_labels=data_labels[0:1200]"
   ]
  },
  {
   "cell_type": "markdown",
   "metadata": {},
   "source": [
    "# 线性回归模型，内含性能评估"
   ]
  },
  {
   "cell_type": "code",
   "execution_count": 14,
   "metadata": {},
   "outputs": [],
   "source": [
    "class Linear_regression(object):\n",
    "    \n",
    "    def __init__(self,data_train,data_labels,test,maxiter,data_test,data_test_labels):\n",
    "        \n",
    "        self.data_train=data_train\n",
    "        self.data_labels=data_labels.reshape(-1,1)\n",
    "        self.test=test\n",
    "        self.w=np.random.rand(79,1)*10000\n",
    "        self.maxiter=maxiter\n",
    "        self.learnrate=0.01\n",
    "        self.data_test=data_test\n",
    "        self.data_test_labels=data_test_labels\n",
    "    def lin_forword(self):\n",
    "        \n",
    "        y=np.dot(self.data_train,self.w)\n",
    "        \n",
    "        return y\n",
    "    \n",
    "    def gradient (self,y):\n",
    "        \n",
    "        return np.dot(self.data_train.T,(y-self.data_labels)),\n",
    "    def train (self):\n",
    "        \n",
    "        for i in range(self.maxiter):\n",
    "            \n",
    "            y=self.lin_forword()\n",
    "            self.w=self.w-self.learnrateself.gradient(y)\n",
    "    def test_cor_rate(self):\n",
    "        '''\n",
    "        性能评估\n",
    "        '''\n",
    "        out=np.dot(self.data_test,self.w)\n",
    "        return np.mean((out-self.data_test_labels)*(out-self.data_test_labels))\n",
    "    def test_(self):\n",
    "        \n",
    "        rate=self.test_cor_rate()\n",
    "        print(rate)\n",
    "        return np.dot(self.test,self.w)\n",
    "        \n",
    "            \n",
    "        \n",
    "        "
   ]
  },
  {
   "cell_type": "markdown",
   "metadata": {},
   "source": [
    "# 结果和性能评估"
   ]
  },
  {
   "cell_type": "code",
   "execution_count": 15,
   "metadata": {},
   "outputs": [
    {
     "name": "stdout",
     "output_type": "stream",
     "text": [
      "5674082884.496706\n"
     ]
    }
   ],
   "source": [
    "out=Linear_regression(data_train,data_labels,test,99999999999,data_test,data_test_labels).test_()"
   ]
  },
  {
   "cell_type": "code",
   "execution_count": 16,
   "metadata": {},
   "outputs": [],
   "source": [
    "final=np.concatenate((np.array(pd.read_csv('./相关资料/test.csv').loc[:,['Id']]),out),axis=1)"
   ]
  },
  {
   "cell_type": "code",
   "execution_count": 17,
   "metadata": {},
   "outputs": [],
   "source": [
    "result_ = pd.DataFrame(final, columns=['Id','SalePrice'])\n",
    "result_.to_csv(\"./相关资料/out.csv\", encoding=\"gbk\", index=False)"
   ]
  },
  {
   "cell_type": "code",
   "execution_count": null,
   "metadata": {},
   "outputs": [],
   "source": []
  },
  {
   "cell_type": "code",
   "execution_count": null,
   "metadata": {},
   "outputs": [],
   "source": []
  }
 ],
 "metadata": {
  "kernelspec": {
   "display_name": "Python 3",
   "language": "python",
   "name": "python3"
  },
  "language_info": {
   "codemirror_mode": {
    "name": "ipython",
    "version": 3
   },
   "file_extension": ".py",
   "mimetype": "text/x-python",
   "name": "python",
   "nbconvert_exporter": "python",
   "pygments_lexer": "ipython3",
   "version": "3.8.3"
  }
 },
 "nbformat": 4,
 "nbformat_minor": 4
}
