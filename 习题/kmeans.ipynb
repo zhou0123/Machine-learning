{
 "cells": [
  {
   "cell_type": "code",
   "execution_count": 1,
   "metadata": {},
   "outputs": [],
   "source": [
    "import numpy as np\n",
    "import pandas as pd\n",
    "from matplotlib import pyplot as plt"
   ]
  },
  {
   "cell_type": "markdown",
   "metadata": {},
   "source": [
    "# 未优化中心点"
   ]
  },
  {
   "cell_type": "markdown",
   "metadata": {},
   "source": [
    "# 数据加载和预处理"
   ]
  },
  {
   "cell_type": "code",
   "execution_count": 2,
   "metadata": {},
   "outputs": [],
   "source": [
    "\n",
    "class Data_processing(object):\n",
    "    def __init__(self,path):\n",
    "        self.path=path\n",
    "    \n",
    "    def load(self):\n",
    "        '''\n",
    "        加载数据集\n",
    "        '''\n",
    "        data_train=pd.read_csv(self.path)\n",
    "        data_train=data_train.loc[0:,['density','sugercontent']]\n",
    "        data_train=np.array(data_train)\n",
    "        return data_train\n",
    "    def Norm(self):\n",
    "        '''\n",
    "        标准化\n",
    "        '''\n",
    "        \n",
    "        data_train=self.load()\n",
    "        data_max=data_train.max(axis=0)\n",
    "        data_min=data_train.min(axis=0)\n",
    "        \n",
    "        final_data=(data_train-data_min)/(data_max-data_min)\n",
    "        \n",
    "        return final_data\n",
    "        "
   ]
  },
  {
   "cell_type": "code",
   "execution_count": 3,
   "metadata": {},
   "outputs": [],
   "source": [
    "data=Data_processing('./相关资料/watermelon.csv').Norm()"
   ]
  },
  {
   "cell_type": "markdown",
   "metadata": {},
   "source": [
    "# kmeans算法"
   ]
  },
  {
   "cell_type": "code",
   "execution_count": 4,
   "metadata": {},
   "outputs": [],
   "source": [
    "\n",
    "class k_means(object):\n",
    "    def __init__(self,data,k,maxiter,center1,center2):\n",
    "        '''\n",
    "        data:数据集\n",
    "        k（这里没用到，默认是两个）\n",
    "        maxiter:最大迭代次数\n",
    "        center1,center2:初始化的点\n",
    "        '''\n",
    "        self.data=data\n",
    "        self.k=k\n",
    "        self.maxiter=maxiter\n",
    "        self.center=[center1,center2]\n",
    "        \n",
    "        \n",
    "    def get_new_centers(self):\n",
    "        \n",
    "        distance1=np.linalg.norm(self.data-self.center[0],axis=1).reshape(-1,1)\n",
    "        distance2=np.linalg.norm(self.data-self.center[1],axis=1).reshape(-1,1)\n",
    "        distances=np.concatenate((distance1,distance2),axis=1)\n",
    "        indexs=distances.argmin(axis=1)\n",
    "        \n",
    "        label1=np.where(indexs==0)\n",
    "        label2=np.where(indexs==1)\n",
    "        \n",
    "        group1=self.data[label1]\n",
    "        group2=self.data[label2]\n",
    "        \n",
    "        center1=np.mean(group1,axis=0)\n",
    "        center2=np.mean(group2,axis=0)\n",
    "        \n",
    "        return center1,center2   \n",
    "    \n",
    "    def get_final_center(self):\n",
    "        \n",
    "        for i in range(self.maxiter):\n",
    "            \n",
    "            self.center[0],self.center[1]=self.get_new_centers()\n",
    "            \n",
    "        return self.center[0],self.center[1]\n",
    "  \n",
    "    "
   ]
  },
  {
   "cell_type": "code",
   "execution_count": 5,
   "metadata": {},
   "outputs": [],
   "source": [
    "center1,center2=k_means(data,2,100,data[0],data[15]).get_final_center()"
   ]
  },
  {
   "cell_type": "markdown",
   "metadata": {},
   "source": [
    "# 可视化"
   ]
  },
  {
   "cell_type": "code",
   "execution_count": 6,
   "metadata": {},
   "outputs": [],
   "source": [
    "class visual(object):\n",
    "    def __init__(self,center1,center2,data):\n",
    "        \n",
    "        self.center=[center1,center2]\n",
    "        self.data=data\n",
    "        \n",
    "    def get_two_groups(self):\n",
    "        distance1=np.linalg.norm(self.data-self.center[0],axis=1).reshape(-1,1)\n",
    "        distance2=np.linalg.norm(self.data-self.center[1],axis=1).reshape(-1,1)\n",
    "        distances=np.concatenate((distance1,distance2),axis=1)\n",
    "        indexs=distances.argmin(axis=1)\n",
    "        \n",
    "        label1=np.where(indexs==0)\n",
    "        label2=np.where(indexs==1)\n",
    "        \n",
    "        group1=self.data[label1]\n",
    "        group2=self.data[label2]\n",
    "        \n",
    "        return group1,group2\n",
    "    \n",
    "    \n",
    "    def vis(self):\n",
    "        \n",
    "        group1,group2= self.get_two_groups()\n",
    "        \n",
    "        plt.scatter(group1[:,0],group1[:,1],color='red')\n",
    "        plt.scatter(group2[:,0],group2[:,1],color='blue')\n",
    "\n",
    "   \n",
    "        "
   ]
  },
  {
   "cell_type": "code",
   "execution_count": 7,
   "metadata": {},
   "outputs": [
    {
     "data": {
      "image/png": "[encoded data removed]",
      "text/plain": [
       "<Figure size 432x288 with 1 Axes>"
      ]
     },
     "metadata": {
      "needs_background": "light"
     },
     "output_type": "display_data"
    }
   ],
   "source": [
    "visual(center1,center2,data).vis()"
   ]
  },
  {
   "cell_type": "markdown",
   "metadata": {},
   "source": [
    "# 优化中心点"
   ]
  },
  {
   "cell_type": "code",
   "execution_count": 8,
   "metadata": {},
   "outputs": [],
   "source": [
    "def get_good_center(data):\n",
    "    '''\n",
    "    寻找相距最远的两个点，来作为初始化的点\n",
    "    '''\n",
    "    m,n=data.shape\n",
    "    index_distance=np.zeros((m,n))\n",
    "    for i in range(m):\n",
    "        \n",
    "        distance=np.linalg.norm(data-data[i],axis=1).reshape(-1,1)\n",
    "        \n",
    "        max_dis=max(distance)[0]\n",
    "        index=distance.argmax(axis=0)\n",
    "        \n",
    "        index_distance[i,0],index_distance[i,1]=index,max_dis\n",
    "        \n",
    "    \n",
    "    center1_index=index_distance[:,1].argmax(axis=0)\n",
    "    center2_index=index_distance[center1_index,0]\n",
    "    \n",
    "    center11=data[int(center1_index)]\n",
    "    center22=data[int(center2_index)]\n",
    "    \n",
    "    return center11,center22\n",
    "        \n",
    "\n",
    "    "
   ]
  },
  {
   "cell_type": "code",
   "execution_count": 9,
   "metadata": {},
   "outputs": [],
   "source": [
    "center1,center2=get_good_center(data)"
   ]
  },
  {
   "cell_type": "code",
   "execution_count": 10,
   "metadata": {},
   "outputs": [],
   "source": [
    "center1,center2=k_means(data,2,100,center1,center2).get_final_center()"
   ]
  },
  {
   "cell_type": "code",
   "execution_count": 11,
   "metadata": {},
   "outputs": [
    {
     "data": {
      "image/png": "[encoded data removed]",
      "text/plain": [
       "<Figure size 432x288 with 1 Axes>"
      ]
     },
     "metadata": {
      "needs_background": "light"
     },
     "output_type": "display_data"
    }
   ],
   "source": [
    "visual(center1,center2,data).vis()"
   ]
  },
  {
   "cell_type": "code",
   "execution_count": null,
   "metadata": {},
   "outputs": [],
   "source": []
  },
  {
   "cell_type": "code",
   "execution_count": null,
   "metadata": {},
   "outputs": [],
   "source": []
  },
  {
   "cell_type": "code",
   "execution_count": null,
   "metadata": {},
   "outputs": [],
   "source": []
  },
  {
   "cell_type": "code",
   "execution_count": null,
   "metadata": {},
   "outputs": [],
   "source": []
  },
  {
   "cell_type": "code",
   "execution_count": null,
   "metadata": {},
   "outputs": [],
   "source": []
  }
 ],
 "metadata": {
  "kernelspec": {
   "display_name": "Python 3",
   "language": "python",
   "name": "python3"
  },
  "language_info": {
   "codemirror_mode": {
    "name": "ipython",
    "version": 3
   },
   "file_extension": ".py",
   "mimetype": "text/x-python",
   "name": "python",
   "nbconvert_exporter": "python",
   "pygments_lexer": "ipython3",
   "version": "3.8.3"
  }
 },
 "nbformat": 4,
 "nbformat_minor": 4
}
